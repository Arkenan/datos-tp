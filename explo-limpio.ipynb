{
 "cells": [
  {
   "cell_type": "markdown",
   "metadata": {},
   "source": [
    "# Análisis Exploratorio de Alquileres de Bicicletas en San Francisco\n",
    "\n",
    "Para comenzar el análisis exploratorio importamos las bibliotecas a utilizar."
   ]
  },
  {
   "cell_type": "code",
   "execution_count": 1,
   "metadata": {
    "collapsed": true
   },
   "outputs": [],
   "source": [
    "import numpy as np\n",
    "import pandas as pd\n",
    "import seaborn as sns\n",
    "import matplotlib.pyplot as plt\n",
    "%matplotlib inline"
   ]
  },
  {
   "cell_type": "markdown",
   "metadata": {},
   "source": [
    "## Comenzando con trips.csv\n",
    "\n",
    "Leemos el archivo de viajes, avisando qué columnas son fechas (el formato será inferido para un parseo más rápido). También vemos un registro de ejemplo y los tipos de sus columnas."
   ]
  },
  {
   "cell_type": "code",
   "execution_count": 2,
   "metadata": {
    "collapsed": false
   },
   "outputs": [
    {
     "data": {
      "text/html": [
       "<div>\n",
       "<table border=\"1\" class=\"dataframe\">\n",
       "  <thead>\n",
       "    <tr style=\"text-align: right;\">\n",
       "      <th></th>\n",
       "      <th>id</th>\n",
       "      <th>duration</th>\n",
       "      <th>start_date</th>\n",
       "      <th>start_station_name</th>\n",
       "      <th>start_station_id</th>\n",
       "      <th>end_date</th>\n",
       "      <th>end_station_name</th>\n",
       "      <th>end_station_id</th>\n",
       "      <th>bike_id</th>\n",
       "      <th>subscription_type</th>\n",
       "      <th>zip_code</th>\n",
       "    </tr>\n",
       "  </thead>\n",
       "  <tbody>\n",
       "    <tr>\n",
       "      <th>0</th>\n",
       "      <td>4576</td>\n",
       "      <td>63</td>\n",
       "      <td>2013-08-29 14:13:00</td>\n",
       "      <td>South Van Ness at Market</td>\n",
       "      <td>66</td>\n",
       "      <td>2013-08-29 14:14:00</td>\n",
       "      <td>South Van Ness at Market</td>\n",
       "      <td>66</td>\n",
       "      <td>520</td>\n",
       "      <td>Subscriber</td>\n",
       "      <td>94127</td>\n",
       "    </tr>\n",
       "  </tbody>\n",
       "</table>\n",
       "</div>"
      ],
      "text/plain": [
       "     id  duration          start_date        start_station_name  \\\n",
       "0  4576        63 2013-08-29 14:13:00  South Van Ness at Market   \n",
       "\n",
       "   start_station_id            end_date          end_station_name  \\\n",
       "0                66 2013-08-29 14:14:00  South Van Ness at Market   \n",
       "\n",
       "   end_station_id  bike_id subscription_type zip_code  \n",
       "0              66      520        Subscriber    94127  "
      ]
     },
     "execution_count": 2,
     "metadata": {},
     "output_type": "execute_result"
    }
   ],
   "source": [
    "viajes = pd.read_csv(\"dataset/trip.csv\", \n",
    "                     parse_dates=[\"start_date\", \"end_date\"], infer_datetime_format=True,\n",
    "                     dtype={\"subscription_type\":\"category\"})\n",
    "viajes.head(1)"
   ]
  },
  {
   "cell_type": "code",
   "execution_count": 4,
   "metadata": {
    "collapsed": false
   },
   "outputs": [
    {
     "data": {
      "text/plain": [
       "id                             int64\n",
       "duration                       int64\n",
       "start_date            datetime64[ns]\n",
       "start_station_name            object\n",
       "start_station_id               int64\n",
       "end_date              datetime64[ns]\n",
       "end_station_name              object\n",
       "end_station_id                 int64\n",
       "bike_id                        int64\n",
       "subscription_type           category\n",
       "zip_code                      object\n",
       "dtype: object"
      ]
     },
     "execution_count": 4,
     "metadata": {},
     "output_type": "execute_result"
    }
   ],
   "source": [
    "viajes.dtypes"
   ]
  },
  {
   "cell_type": "markdown",
   "metadata": {},
   "source": [
    "## Análisis General de Duración\n",
    "\n",
    "El objetivo final del trabajo será el de predecir la duración de un viaje en base a todos los otros datos. Por lo cual conviene empezar por ver qué clase de datos tenemos en duración.\n",
    "\n",
    "Primero máximos y mínimos:"
   ]
  },
  {
   "cell_type": "code",
   "execution_count": null,
   "metadata": {
    "collapsed": true
   },
   "outputs": [],
   "source": [
    "viajes.duration.sort_values().head(5)"
   ]
  },
  {
   "cell_type": "markdown",
   "metadata": {},
   "source": [
    "Se ve que los mínimos son todos de 60 segundos. Podemos pensar que es la mínima cantidad de tiempo registrado en un préstamo.\n",
    "\n",
    "Más adelante haremos un análisis de estos casos."
   ]
  },
  {
   "cell_type": "code",
   "execution_count": null,
   "metadata": {
    "collapsed": true
   },
   "outputs": [],
   "source": [
    "viajes.duration.sort_values().tail(10)/(3600*24)"
   ]
  },
  {
   "cell_type": "markdown",
   "metadata": {},
   "source": [
    "En cuanto a los máximos, los medimos en días para obtener un número más significativo. Varios andan en un poco más de una semana, varios en un par y un outlier de cerca de 6 meses.trips."
   ]
  },
  {
   "cell_type": "code",
   "execution_count": null,
   "metadata": {
    "collapsed": true
   },
   "outputs": [],
   "source": [
    "cuantilDuracion = viajes.duration.quantile(0.995)\n",
    "cuantilDuracion /3600"
   ]
  },
  {
   "cell_type": "markdown",
   "metadata": {},
   "source": [
    "Si quitamos el cuantil de los 0.5% valores más altos (los registros superiores a un poco menos de 6 horas), podemos hacer el siguiente gráfico:"
   ]
  },
  {
   "cell_type": "code",
   "execution_count": null,
   "metadata": {
    "collapsed": true
   },
   "outputs": [],
   "source": [
    "viajes_sin_outliers = viajes[viajes.duration < cuantilDuracion]"
   ]
  },
  {
   "cell_type": "code",
   "execution_count": null,
   "metadata": {
    "collapsed": true
   },
   "outputs": [],
   "source": [
    "viajes_sin_outliers.duration.apply(lambda x: x/3600).plot.box();\n",
    "plt.title(\"Duraciones de los recorridos.\")\n",
    "plt.show()"
   ]
  },
  {
   "cell_type": "markdown",
   "metadata": {},
   "source": [
    "Se ve que aunque la mayor parte de los valores están concentrados en duraciones cortas (menores a media hora), aún quitando ese cuantil superior hay valores muy lejanos a la media, cercanos a las 6 horas.\n",
    "\n",
    "Esto puede verse en la diferencia entre los valores de media y mediana:"
   ]
  },
  {
   "cell_type": "code",
   "execution_count": null,
   "metadata": {
    "collapsed": true
   },
   "outputs": [],
   "source": [
    "print(\"Media:   \" + str(viajes_sin_outliers.duration.mean()))\n",
    "print(\"Mediana: \" + str(viajes_sin_outliers.duration.median()))"
   ]
  },
  {
   "cell_type": "markdown",
   "metadata": {},
   "source": [
    "Para analizar mejor la distribución, realizamos un histograma."
   ]
  },
  {
   "cell_type": "code",
   "execution_count": null,
   "metadata": {
    "collapsed": true
   },
   "outputs": [],
   "source": [
    "# Distribucion de la duracion de los viajes en cantidad de minutos\n",
    "viajes.duration.apply(lambda d: d/100).hist(bins=range(1,100));\n",
    "plt.show()"
   ]
  },
  {
   "cell_type": "code",
   "execution_count": null,
   "metadata": {
    "collapsed": true
   },
   "outputs": [],
   "source": [
    "# Haciendo foco en los de menos de 20 minutos\n",
    "viajes.duration.hist(bins=range(1,1200,10));\n",
    "plt.show()"
   ]
  },
  {
   "cell_type": "markdown",
   "metadata": {},
   "source": [
    "Los valores más frecuentes están rondando los 400 segundos (casi 7 minutos)."
   ]
  },
  {
   "cell_type": "markdown",
   "metadata": {},
   "source": [
    "## Días de la Semana\n",
    "\n",
    "Vamos a ver si existe una diferencia sustancial en los alquileres según los días de la semana.\n",
    "\n",
    "### Cantidad\n",
    "\n",
    "Veremos la cantidad de apariciones según comienzo y fin del viaje, y normalizaremos por la cantidad de días, así tendremos la cantidad promedio de viajes por día. \n",
    "\n",
    "Para facilitar el uso de días, de aquí en adelante usaremos una variable categórica \"week_day\"."
   ]
  },
  {
   "cell_type": "code",
   "execution_count": 5,
   "metadata": {
    "collapsed": true
   },
   "outputs": [],
   "source": [
    "# Agrego el week_day\n",
    "dias_ordenados = [\"Monday\", \"Tuesday\", \"Wednesday\", \"Thursday\", \"Friday\", \"Saturday\", \"Sunday\"]\n",
    "viajes[\"week_day\"] = pd.Categorical(viajes.start_date.dt.weekday_name, categories=dias_ordenados)"
   ]
  },
  {
   "cell_type": "markdown",
   "metadata": {},
   "source": [
    "Ahora contamos la aparición de cada día."
   ]
  },
  {
   "cell_type": "code",
   "execution_count": null,
   "metadata": {
    "collapsed": true
   },
   "outputs": [],
   "source": [
    "# Cantidad de días distintos\n",
    "fechasDistintas = pd.DataFrame({\"fecha\": viajes.start_date.dt.date, \"week_day\": viajes.week_day})\n",
    "cantDias = fechasDistintas.groupby([\"week_day\",\"fecha\"]).agg(lambda x:1).reset_index().week_day.value_counts()\n",
    "# Arreglo del índice categórico.\n",
    "cantDias.index = pd.Categorical(cantDias.index, categories=dias_ordenados)\n",
    "cantDias = cantDias.sort_index()\n",
    "cantDias"
   ]
  },
  {
   "cell_type": "code",
   "execution_count": null,
   "metadata": {
    "collapsed": true
   },
   "outputs": [],
   "source": [
    "totalDias = cantDias.sum()\n",
    "totalDias"
   ]
  },
  {
   "cell_type": "markdown",
   "metadata": {},
   "source": [
    "Volviendo al objetivo: vamos a ver la distribución de la cantidad de alquileres según el día, y normalizamos por la cantidad de días."
   ]
  },
  {
   "cell_type": "code",
   "execution_count": null,
   "metadata": {
    "collapsed": true
   },
   "outputs": [],
   "source": [
    "(viajes.groupby(\"week_day\").size()/cantDias).plot(kind='bar',figsize=(12,8));\n",
    "plt.title(\"Cantidad de alquileres promedio segun dia de la semana\")\n",
    "plt.xlabel(\"Dia de la semana\")\n",
    "plt.ylabel(\"Cantidad de alquileres\")\n",
    "plt.show()"
   ]
  },
  {
   "cell_type": "markdown",
   "metadata": {},
   "source": [
    "Podemos ver que en promedio, durante el fin de semana baja sustancialmente la cantidad de alquileres. Con este dato en mente, separaremos muchas mediciones en días de semana y en fines de semana. Para facilitar esto agregamos una columna que explicita si un registro es del fin de semana o de día laboral."
   ]
  },
  {
   "cell_type": "code",
   "execution_count": 3,
   "metadata": {
    "collapsed": true
   },
   "outputs": [],
   "source": [
    "viajes[\"finde\"] = viajes.start_date.dt.dayofweek >= 5"
   ]
  },
  {
   "cell_type": "markdown",
   "metadata": {},
   "source": [
    "### Duración - Distribuciones\n",
    "\n",
    "Según el día de semana, veremos también las diferencias en duración. Primero vemos las distribuciones."
   ]
  },
  {
   "cell_type": "code",
   "execution_count": 14,
   "metadata": {
    "collapsed": false
   },
   "outputs": [
    {
     "data": {
      "image/png": "[encoded data removed]",
      "text/plain": [
       "<matplotlib.figure.Figure at 0x7fc914306588>"
      ]
     },
     "metadata": {},
     "output_type": "display_data"
    }
   ],
   "source": [
    "# Días de semana(en minutos)\n",
    "viajes.loc[~viajes.finde,\"duration\"].apply(lambda x: x/60).hist(bins=range(1,100));\n",
    "plt.title(\"Distribucion de duraciones en la semana\")\n",
    "plt.xlabel(\"Minutos\")\n",
    "plt.ylabel(\"Apariciones\")\n",
    "plt.show()"
   ]
  },
  {
   "cell_type": "code",
   "execution_count": 6,
   "metadata": {
    "collapsed": false
   },
   "outputs": [
    {
     "data": {
      "image/png": "[encoded data removed]",
      "text/plain": [
       "<matplotlib.figure.Figure at 0x7fc91c6a0860>"
      ]
     },
     "metadata": {},
     "output_type": "display_data"
    }
   ],
   "source": [
    "# Fines de semana (en minutos)\n",
    "viajes.loc[viajes.finde,\"duration\"].apply(lambda x: x/60).hist(bins=range(1,100));\n",
    "plt.title(\"Distribucion de duraciones en los fines de semana\")\n",
    "plt.xlabel(\"Minutos\")\n",
    "plt.ylabel(\"Apariciones\")\n",
    "plt.show()"
   ]
  },
  {
   "cell_type": "markdown",
   "metadata": {},
   "source": [
    "Si bien la diferencia no es tan pronunciada, se ve que para los fines de semana hay un aumento sustancial de viajes largos."
   ]
  },
  {
   "cell_type": "markdown",
   "metadata": {},
   "source": [
    "## Distribuciones por hora\n",
    "El mismo análisis anterior puede repetirse diferenciando a su vez por hora. Agregamos una columna con la hora."
   ]
  },
  {
   "cell_type": "code",
   "execution_count": 20,
   "metadata": {
    "collapsed": true
   },
   "outputs": [],
   "source": [
    "viajes[\"hour\"] = viajes.start_date.dt.hour"
   ]
  },
  {
   "cell_type": "markdown",
   "metadata": {},
   "source": [
    "### Cantidad de Alquileres"
   ]
  },
  {
   "cell_type": "code",
   "execution_count": 21,
   "metadata": {
    "collapsed": false
   },
   "outputs": [
    {
     "data": {
      "image/png": "[encoded data removed]",
      "text/plain": [
       "<matplotlib.figure.Figure at 0x7fc9142df080>"
      ]
     },
     "metadata": {},
     "output_type": "display_data"
    }
   ],
   "source": [
    "# Días de semana\n",
    "viajes.loc[~viajes.finde, \"hour\"].hist(bins=range(0,23));\n",
    "plt.title(\"Cantidad de Alquileres por Hora en Días de semana\")\n",
    "plt.xlabel(\"Hora\")\n",
    "plt.show()"
   ]
  },
  {
   "cell_type": "code",
   "execution_count": 22,
   "metadata": {
    "collapsed": false
   },
   "outputs": [
    {
     "data": {
      "image/png": "[encoded data removed]",
      "text/plain": [
       "<matplotlib.figure.Figure at 0x7fc91cc39438>"
      ]
     },
     "metadata": {},
     "output_type": "display_data"
    }
   ],
   "source": [
    "# Fines de semana\n",
    "viajes.loc[viajes.finde, \"hour\"].hist(bins=range(0,23));\n",
    "plt.title(\"Cantidad de Alquileres para fines de semana\")\n",
    "plt.xlabel(\"Hora\")\n",
    "plt.show()"
   ]
  },
  {
   "cell_type": "markdown",
   "metadata": {},
   "source": [
    "El comportamiento en cantidad de alquileres es muy distinto. En días de semana se ven picos claros en las horas de ingreso y salida del trabajo (8hs y 17hs), mientras que en los fines de semana hay un crecimiento menos acentuado hacia el mediodía y la tarde temprana."
   ]
  },
  {
   "cell_type": "markdown",
   "metadata": {},
   "source": [
    "### Duración\n",
    "\n",
    "Vemos si este comportamiento coincide en la duración. Uno podría esperar que a mayor cantidad de alquileres habrá más tráfico y por lo tanto los viajes durarán más."
   ]
  },
  {
   "cell_type": "code",
   "execution_count": 28,
   "metadata": {
    "collapsed": false
   },
   "outputs": [
    {
     "data": {
      "image/png": "[encoded data removed]",
      "text/plain": [
       "<matplotlib.figure.Figure at 0x7fc91f1782e8>"
      ]
     },
     "metadata": {},
     "output_type": "display_data"
    }
   ],
   "source": [
    "viajes.loc[viajes.finde,['duration', 'hour']].groupby('hour').mean().plot.bar();\n",
    "plt.title(\"Duración promedio en fines de semana.\")\n",
    "plt.xlabel(\"Hora\")\n",
    "plt.ylabel(\"Duración en segundos\")\n",
    "plt.show()"
   ]
  },
  {
   "cell_type": "markdown",
   "metadata": {},
   "source": [
    "Caben dos observaciones importantes:\n",
    "\n",
    "1. Los picos de las 3 de la mañana y las 21 se dan por la poca cantidad de registros a esas horas.\n",
    "2. Entre las 7 y las 20 el comportamiento de las duraciones aumenta de forma similar a la cantidad de alquileres, estableciendo una posible relación para futuras predicciones."
   ]
  },
  {
   "cell_type": "code",
   "execution_count": 31,
   "metadata": {
    "collapsed": false
   },
   "outputs": [
    {
     "data": {
      "image/png": "[encoded data removed]",
      "text/plain": [
       "<matplotlib.figure.Figure at 0x7fc91e595d68>"
      ]
     },
     "metadata": {},
     "output_type": "display_data"
    }
   ],
   "source": [
    "viajes.loc[~viajes.finde,['duration', 'hour']].groupby('hour').mean().plot.bar();\n",
    "plt.title(\"Duración promedio en días laborales.\")\n",
    "plt.xlabel(\"Hora\")\n",
    "plt.ylabel(\"Duración en segundos\")\n",
    "plt.show()"
   ]
  },
  {
   "cell_type": "markdown",
   "metadata": {},
   "source": [
    "Aquí, si bien se repite el problema del pico de duraciones a las 2-3 de la mañana, es interesante observar que el comportamiento en duraciones es más parecido al de fin de semana que al de cantidad de alquileres en la semana.\n",
    "\n",
    "Teniendo en cuenta los picos a las 3 de la mañana, lo más probable es que convenga tener distintos modelos para la noche y madrugada que para el día."
   ]
  },
  {
   "cell_type": "markdown",
   "metadata": {},
   "source": [
    "## Recorridos\n",
    "\n",
    "Otra variable que podría influir notoriamente en la duración es el par `start_station`-`end_station`. Si una persona viaja entre las mismas dos estaciones en días distintas, es probable que la duración del viaje sea muy similar. \n",
    "\n",
    "El primer problema que enfrentamos es que los ids de las estaciones son columnas categóricas (que un id sea mayor a otro no significa nada en si mismo, por lo que sería un error tratarlos como número entero). Por este motivo, lo que haremos es calcular en cambio la _distancia_ entre las estaciones de salida y llegada.\n",
    "\n",
    "Para construir las distancias utilizaremos el archivo `station.csv`, que contiene los datos de cada una."
   ]
  },
  {
   "cell_type": "code",
   "execution_count": 32,
   "metadata": {
    "collapsed": true
   },
   "outputs": [],
   "source": [
    "estaciones = pd.read_csv(\"dataset/station.csv\")"
   ]
  },
  {
   "cell_type": "code",
   "execution_count": 33,
   "metadata": {
    "collapsed": true
   },
   "outputs": [],
   "source": [
    "#armo un diccionario de distancias\n",
    "\n",
    "ids = estaciones.id\n",
    "stm = estaciones[[\"id\", \"lat\", \"long\"]]\n",
    "\n",
    "distancias = {}\n",
    "for id1 in ids:\n",
    "    x = stm.loc[estaciones.id == id1,[\"lat\",\"long\"]].values\n",
    "    x = (x[0][0],x[0][1])\n",
    "    for id2 in ids:\n",
    "        y = stm.loc[estaciones.id == id2,[\"lat\",\"long\"]].values\n",
    "        y = (y[0][0],y[0][1])\n",
    "        # Distancia Manhattan\n",
    "        distancias[(id1,id2)] = abs(y[0]-x[0]) + abs(y[1] - x[1])"
   ]
  },
  {
   "cell_type": "code",
   "execution_count": 34,
   "metadata": {
    "collapsed": true
   },
   "outputs": [],
   "source": [
    "def d(id1,id2):\n",
    "    return distancias[(id1,id2)]"
   ]
  },
  {
   "cell_type": "code",
   "execution_count": 35,
   "metadata": {
    "collapsed": true
   },
   "outputs": [],
   "source": [
    "viajes[\"dist\"] = viajes.apply(lambda x: d(x.start_station_id, x.end_station_id), axis=1)"
   ]
  },
  {
   "cell_type": "code",
   "execution_count": 36,
   "metadata": {
    "collapsed": true
   },
   "outputs": [],
   "source": [
    "# Radio de la tierra en KM\n",
    "from math import pi\n",
    "from numpy import sin\n",
    "\n",
    "R = 6378.137\n",
    "# Conversor de grados a radianes\n",
    "conv = pi/180\n",
    "\n",
    "# Conversión a km de toda la columna.\n",
    "viajes[\"distkm\"] = R*sin(conv*viajes.dist)"
   ]
  },
  {
   "cell_type": "code",
   "execution_count": 39,
   "metadata": {
    "collapsed": false
   },
   "outputs": [
    {
     "data": {
      "image/png": "[encoded data removed]",
      "text/plain": [
       "<matplotlib.figure.Figure at 0x7fc91424ddd8>"
      ]
     },
     "metadata": {},
     "output_type": "display_data"
    }
   ],
   "source": [
    "viajes[[\"distkm\",\"duration\"]].plot.scatter(x=\"distkm\",y=\"duration\");\n",
    "plt.title(\"Duración según distancia recorrida\")\n",
    "plt.xlabel(\"Distancia (km)\")\n",
    "plt.ylabel(\"Duración (s)\")\n",
    "plt.show()"
   ]
  },
  {
   "cell_type": "markdown",
   "metadata": {},
   "source": [
    "Lo que notamos inmediatamente es que los outliers de duración arruinan cualquier relación posible, dada su magnitud.\n",
    "\n",
    "Además, resulta interesante que hay viajes de más de 100km, lo cual se comentará más adelante.\n",
    "\n",
    "Para el problema de los outliers, sin hilar fino, quitamos el 10% de viajes más largos."
   ]
  },
  {
   "cell_type": "code",
   "execution_count": 40,
   "metadata": {
    "collapsed": false
   },
   "outputs": [
    {
     "data": {
      "text/plain": [
       "19.216666666666665"
      ]
     },
     "execution_count": 40,
     "metadata": {},
     "output_type": "execute_result"
    }
   ],
   "source": [
    "viajesCortos = viajes[viajes.duration < viajes.duration.quantile(0.9)]\n",
    "viajes.duration.quantile(0.9)/60"
   ]
  },
  {
   "cell_type": "markdown",
   "metadata": {},
   "source": [
    "Esto nos deja los viajes de 19 minutos o menos, que aunque son notoriamente cortos, es importante notar que son el 90% de los viajes."
   ]
  },
  {
   "cell_type": "code",
   "execution_count": 46,
   "metadata": {
    "collapsed": false
   },
   "outputs": [
    {
     "data": {
      "text/plain": [
       "count    602877.000000\n",
       "mean          1.873837\n",
       "std           0.854986\n",
       "min           0.000000\n",
       "25%           1.239654\n",
       "50%           1.803821\n",
       "75%           2.266131\n",
       "max          52.833852\n",
       "Name: distkm, dtype: float64"
      ]
     },
     "execution_count": 46,
     "metadata": {},
     "output_type": "execute_result"
    }
   ],
   "source": [
    "viajesCortos.distkm.describe()"
   ]
  },
  {
   "cell_type": "markdown",
   "metadata": {},
   "source": [
    "También es importante notar que dentro de los viajes cortos también hay algunos outliers en distancias (un caso que en menos de 20 minutos recorre 52km, muy poco probable en bicicleta). Ploteamos entre 0 y 9 km."
   ]
  },
  {
   "cell_type": "code",
   "execution_count": 47,
   "metadata": {
    "collapsed": false
   },
   "outputs": [
    {
     "data": {
      "image/png": "[encoded data removed]",
      "text/plain": [
       "<matplotlib.figure.Figure at 0x7fc91b03c0f0>"
      ]
     },
     "metadata": {},
     "output_type": "display_data"
    }
   ],
   "source": [
    "viajesCortos[[\"distkm\",\"duration\"]].plot.scatter(x=\"distkm\",y=\"duration\", alpha=0.05);\n",
    "plt.title(\"Duración según distancias en viajes cortos\")\n",
    "plt.xlim([0,9])\n",
    "plt.show()"
   ]
  },
  {
   "cell_type": "markdown",
   "metadata": {},
   "source": [
    "Para estos viajes cortos puede obser"
   ]
  },
  {
   "cell_type": "code",
   "execution_count": null,
   "metadata": {
    "collapsed": true
   },
   "outputs": [],
   "source": [
    "viajesCortos = viajes[viajes.duration < viajes.duration.quantile(0.9)]"
   ]
  }
 ],
 "metadata": {
  "kernelspec": {
   "display_name": "Python 3",
   "language": "python",
   "name": "python3"
  },
  "language_info": {
   "codemirror_mode": {
    "name": "ipython",
    "version": 3
   },
   "file_extension": ".py",
   "mimetype": "text/x-python",
   "name": "python",
   "nbconvert_exporter": "python",
   "pygments_lexer": "ipython3",
   "version": "3.6.0"
  }
 },
 "nbformat": 4,
 "nbformat_minor": 0
}
