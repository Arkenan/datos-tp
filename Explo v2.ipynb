{
 "cells": [
  {
   "cell_type": "code",
   "execution_count": 166,
   "metadata": {
    "collapsed": true,
    "deletable": true,
    "editable": true
   },
   "outputs": [],
   "source": [
    "import pandas as pd\n",
    "import numpy as np\n",
    "import matplotlib.pyplot as plt\n",
    "import seaborn as sns\n",
    "import math\n",
    "\n",
    "%matplotlib inline"
   ]
  },
  {
   "cell_type": "code",
   "execution_count": 2,
   "metadata": {
    "collapsed": false,
    "deletable": true,
    "editable": true
   },
   "outputs": [
    {
     "data": {
      "text/html": [
       "<div>\n",
       "<table border=\"1\" class=\"dataframe\">\n",
       "  <thead>\n",
       "    <tr style=\"text-align: right;\">\n",
       "      <th></th>\n",
       "      <th>id</th>\n",
       "      <th>name</th>\n",
       "      <th>lat</th>\n",
       "      <th>long</th>\n",
       "      <th>dock_count</th>\n",
       "      <th>city</th>\n",
       "      <th>installation_date</th>\n",
       "    </tr>\n",
       "  </thead>\n",
       "  <tbody>\n",
       "    <tr>\n",
       "      <th>0</th>\n",
       "      <td>2</td>\n",
       "      <td>San Jose Diridon Caltrain Station</td>\n",
       "      <td>37.329732</td>\n",
       "      <td>-121.901782</td>\n",
       "      <td>27</td>\n",
       "      <td>San Jose</td>\n",
       "      <td>8/6/2013</td>\n",
       "    </tr>\n",
       "    <tr>\n",
       "      <th>1</th>\n",
       "      <td>3</td>\n",
       "      <td>San Jose Civic Center</td>\n",
       "      <td>37.330698</td>\n",
       "      <td>-121.888979</td>\n",
       "      <td>15</td>\n",
       "      <td>San Jose</td>\n",
       "      <td>8/5/2013</td>\n",
       "    </tr>\n",
       "    <tr>\n",
       "      <th>2</th>\n",
       "      <td>4</td>\n",
       "      <td>Santa Clara at Almaden</td>\n",
       "      <td>37.333988</td>\n",
       "      <td>-121.894902</td>\n",
       "      <td>11</td>\n",
       "      <td>San Jose</td>\n",
       "      <td>8/6/2013</td>\n",
       "    </tr>\n",
       "    <tr>\n",
       "      <th>3</th>\n",
       "      <td>5</td>\n",
       "      <td>Adobe on Almaden</td>\n",
       "      <td>37.331415</td>\n",
       "      <td>-121.893200</td>\n",
       "      <td>19</td>\n",
       "      <td>San Jose</td>\n",
       "      <td>8/5/2013</td>\n",
       "    </tr>\n",
       "    <tr>\n",
       "      <th>4</th>\n",
       "      <td>6</td>\n",
       "      <td>San Pedro Square</td>\n",
       "      <td>37.336721</td>\n",
       "      <td>-121.894074</td>\n",
       "      <td>15</td>\n",
       "      <td>San Jose</td>\n",
       "      <td>8/7/2013</td>\n",
       "    </tr>\n",
       "  </tbody>\n",
       "</table>\n",
       "</div>"
      ],
      "text/plain": [
       "   id                               name        lat        long  dock_count  \\\n",
       "0   2  San Jose Diridon Caltrain Station  37.329732 -121.901782          27   \n",
       "1   3              San Jose Civic Center  37.330698 -121.888979          15   \n",
       "2   4             Santa Clara at Almaden  37.333988 -121.894902          11   \n",
       "3   5                   Adobe on Almaden  37.331415 -121.893200          19   \n",
       "4   6                   San Pedro Square  37.336721 -121.894074          15   \n",
       "\n",
       "       city installation_date  \n",
       "0  San Jose          8/6/2013  \n",
       "1  San Jose          8/5/2013  \n",
       "2  San Jose          8/6/2013  \n",
       "3  San Jose          8/5/2013  \n",
       "4  San Jose          8/7/2013  "
      ]
     },
     "execution_count": 2,
     "metadata": {},
     "output_type": "execute_result"
    }
   ],
   "source": [
    "stations = pd.read_csv('data/station.csv')\n",
    "stations.head()"
   ]
  },
  {
   "cell_type": "code",
   "execution_count": 171,
   "metadata": {
    "collapsed": false,
    "deletable": true,
    "editable": true
   },
   "outputs": [
    {
     "data": {
      "text/html": [
       "<div>\n",
       "<table border=\"1\" class=\"dataframe\">\n",
       "  <thead>\n",
       "    <tr style=\"text-align: right;\">\n",
       "      <th></th>\n",
       "      <th>id</th>\n",
       "      <th>duration</th>\n",
       "      <th>start_date</th>\n",
       "      <th>start_station_name</th>\n",
       "      <th>start_station_id</th>\n",
       "      <th>end_date</th>\n",
       "      <th>end_station_name</th>\n",
       "      <th>end_station_id</th>\n",
       "      <th>bike_id</th>\n",
       "      <th>subscription_type</th>\n",
       "      <th>zip_code</th>\n",
       "    </tr>\n",
       "  </thead>\n",
       "  <tbody>\n",
       "    <tr>\n",
       "      <th>0</th>\n",
       "      <td>4576</td>\n",
       "      <td>63</td>\n",
       "      <td>2013-08-29 14:13:00</td>\n",
       "      <td>South Van Ness at Market</td>\n",
       "      <td>66</td>\n",
       "      <td>2013-08-29 14:14:00</td>\n",
       "      <td>South Van Ness at Market</td>\n",
       "      <td>66</td>\n",
       "      <td>520</td>\n",
       "      <td>Subscriber</td>\n",
       "      <td>94127</td>\n",
       "    </tr>\n",
       "    <tr>\n",
       "      <th>1</th>\n",
       "      <td>4607</td>\n",
       "      <td>70</td>\n",
       "      <td>2013-08-29 14:42:00</td>\n",
       "      <td>San Jose City Hall</td>\n",
       "      <td>10</td>\n",
       "      <td>2013-08-29 14:43:00</td>\n",
       "      <td>San Jose City Hall</td>\n",
       "      <td>10</td>\n",
       "      <td>661</td>\n",
       "      <td>Subscriber</td>\n",
       "      <td>95138</td>\n",
       "    </tr>\n",
       "    <tr>\n",
       "      <th>2</th>\n",
       "      <td>4130</td>\n",
       "      <td>71</td>\n",
       "      <td>2013-08-29 10:16:00</td>\n",
       "      <td>Mountain View City Hall</td>\n",
       "      <td>27</td>\n",
       "      <td>2013-08-29 10:17:00</td>\n",
       "      <td>Mountain View City Hall</td>\n",
       "      <td>27</td>\n",
       "      <td>48</td>\n",
       "      <td>Subscriber</td>\n",
       "      <td>97214</td>\n",
       "    </tr>\n",
       "    <tr>\n",
       "      <th>3</th>\n",
       "      <td>4251</td>\n",
       "      <td>77</td>\n",
       "      <td>2013-08-29 11:29:00</td>\n",
       "      <td>San Jose City Hall</td>\n",
       "      <td>10</td>\n",
       "      <td>2013-08-29 11:30:00</td>\n",
       "      <td>San Jose City Hall</td>\n",
       "      <td>10</td>\n",
       "      <td>26</td>\n",
       "      <td>Subscriber</td>\n",
       "      <td>95060</td>\n",
       "    </tr>\n",
       "    <tr>\n",
       "      <th>4</th>\n",
       "      <td>4299</td>\n",
       "      <td>83</td>\n",
       "      <td>2013-08-29 12:02:00</td>\n",
       "      <td>South Van Ness at Market</td>\n",
       "      <td>66</td>\n",
       "      <td>2013-08-29 12:04:00</td>\n",
       "      <td>Market at 10th</td>\n",
       "      <td>67</td>\n",
       "      <td>319</td>\n",
       "      <td>Subscriber</td>\n",
       "      <td>94103</td>\n",
       "    </tr>\n",
       "  </tbody>\n",
       "</table>\n",
       "</div>"
      ],
      "text/plain": [
       "     id  duration          start_date        start_station_name  \\\n",
       "0  4576        63 2013-08-29 14:13:00  South Van Ness at Market   \n",
       "1  4607        70 2013-08-29 14:42:00        San Jose City Hall   \n",
       "2  4130        71 2013-08-29 10:16:00   Mountain View City Hall   \n",
       "3  4251        77 2013-08-29 11:29:00        San Jose City Hall   \n",
       "4  4299        83 2013-08-29 12:02:00  South Van Ness at Market   \n",
       "\n",
       "   start_station_id            end_date          end_station_name  \\\n",
       "0                66 2013-08-29 14:14:00  South Van Ness at Market   \n",
       "1                10 2013-08-29 14:43:00        San Jose City Hall   \n",
       "2                27 2013-08-29 10:17:00   Mountain View City Hall   \n",
       "3                10 2013-08-29 11:30:00        San Jose City Hall   \n",
       "4                66 2013-08-29 12:04:00            Market at 10th   \n",
       "\n",
       "   end_station_id  bike_id subscription_type zip_code  \n",
       "0              66      520        Subscriber    94127  \n",
       "1              10      661        Subscriber    95138  \n",
       "2              27       48        Subscriber    97214  \n",
       "3              10       26        Subscriber    95060  \n",
       "4              67      319        Subscriber    94103  "
      ]
     },
     "execution_count": 171,
     "metadata": {},
     "output_type": "execute_result"
    }
   ],
   "source": [
    "trips = pd.read_csv(\"data/trip.csv\", parse_dates=[\"start_date\", \"end_date\"], \n",
    "                     infer_datetime_format=True)\n",
    "trips.head()"
   ]
  },
  {
   "cell_type": "code",
   "execution_count": 172,
   "metadata": {
    "collapsed": true,
    "deletable": true,
    "editable": true
   },
   "outputs": [],
   "source": [
    "trips['duration'] = trips.duration.apply(lambda x: x/60.0)"
   ]
  },
  {
   "cell_type": "code",
   "execution_count": 8,
   "metadata": {
    "collapsed": false,
    "deletable": true,
    "editable": true
   },
   "outputs": [
    {
     "data": {
      "text/plain": [
       "start_station_id\n",
       "70    49092\n",
       "69    33742\n",
       "50    32934\n",
       "60    27713\n",
       "55    26089\n",
       "dtype: int64"
      ]
     },
     "execution_count": 8,
     "metadata": {},
     "output_type": "execute_result"
    }
   ],
   "source": [
    "start_station_grouped = trips.groupby('start_station_id')\n",
    "start_station_grouped.size().sort_values(ascending=False).head()"
   ]
  },
  {
   "cell_type": "code",
   "execution_count": 12,
   "metadata": {
    "collapsed": false,
    "deletable": true,
    "editable": true
   },
   "outputs": [
    {
     "data": {
      "text/html": [
       "<div>\n",
       "<table border=\"1\" class=\"dataframe\">\n",
       "  <thead>\n",
       "    <tr style=\"text-align: right;\">\n",
       "      <th></th>\n",
       "      <th>id</th>\n",
       "      <th>name</th>\n",
       "      <th>lat</th>\n",
       "      <th>long</th>\n",
       "      <th>dock_count</th>\n",
       "      <th>city</th>\n",
       "      <th>installation_date</th>\n",
       "    </tr>\n",
       "  </thead>\n",
       "  <tbody>\n",
       "    <tr>\n",
       "      <th>58</th>\n",
       "      <td>70</td>\n",
       "      <td>San Francisco Caltrain (Townsend at 4th)</td>\n",
       "      <td>37.776617</td>\n",
       "      <td>-122.39526</td>\n",
       "      <td>19</td>\n",
       "      <td>San Francisco</td>\n",
       "      <td>8/23/2013</td>\n",
       "    </tr>\n",
       "  </tbody>\n",
       "</table>\n",
       "</div>"
      ],
      "text/plain": [
       "    id                                      name        lat       long  \\\n",
       "58  70  San Francisco Caltrain (Townsend at 4th)  37.776617 -122.39526   \n",
       "\n",
       "    dock_count           city installation_date  \n",
       "58          19  San Francisco         8/23/2013  "
      ]
     },
     "execution_count": 12,
     "metadata": {},
     "output_type": "execute_result"
    }
   ],
   "source": [
    "stations[stations.id == 70]\n",
    "## Corresponde a una estación de tren "
   ]
  },
  {
   "cell_type": "code",
   "execution_count": 173,
   "metadata": {
    "collapsed": false,
    "deletable": true,
    "editable": true
   },
   "outputs": [
    {
     "data": {
      "text/plain": [
       "week_day\n",
       "Friday       109361\n",
       "Monday       115873\n",
       "Saturday      44785\n",
       "Sunday        38391\n",
       "Thursday     119089\n",
       "Tuesday      122259\n",
       "Wednesday    120201\n",
       "dtype: int64"
      ]
     },
     "execution_count": 173,
     "metadata": {},
     "output_type": "execute_result"
    }
   ],
   "source": [
    "# Total de viajes por día.\n",
    "trips[\"week_day\"] = trips.start_date.dt.weekday_name\n",
    "grouped_by_weekday = trips.groupby(\"week_day\")\n",
    "day_rentals = grouped_by_weekday.size()\n",
    "day_rentals"
   ]
  },
  {
   "cell_type": "code",
   "execution_count": 56,
   "metadata": {
    "collapsed": false,
    "deletable": true,
    "editable": true
   },
   "outputs": [
    {
     "data": {
      "text/plain": [
       "733"
      ]
     },
     "execution_count": 56,
     "metadata": {},
     "output_type": "execute_result"
    }
   ],
   "source": [
    "# Cantidad de días distintos\n",
    "day_count = len(trips.start_date.dt.date.unique())\n",
    "day_count"
   ]
  },
  {
   "cell_type": "code",
   "execution_count": 55,
   "metadata": {
    "collapsed": false,
    "deletable": true,
    "editable": true
   },
   "outputs": [
    {
     "data": {
      "text/plain": [
       "Saturday     105\n",
       "Friday       105\n",
       "Monday       105\n",
       "Sunday       105\n",
       "Thursday     105\n",
       "Tuesday      104\n",
       "Wednesday    104\n",
       "Name: week_day, dtype: int64"
      ]
     },
     "execution_count": 55,
     "metadata": {},
     "output_type": "execute_result"
    }
   ],
   "source": [
    "# Cantidad de días distintos por día de la semana\n",
    "different_dates = pd.DataFrame({\"fecha\": trips.start_date.dt.date, \"week_day\": trips.week_day})\n",
    "week_day_count = different_dates.groupby([\"week_day\",\"fecha\"]).agg(lambda x:1).reset_index().week_day.value_counts()\n",
    "week_day_count\n"
   ]
  },
  {
   "cell_type": "code",
   "execution_count": 97,
   "metadata": {
    "collapsed": true,
    "deletable": true,
    "editable": true
   },
   "outputs": [],
   "source": [
    "# Días de semana: 523\n",
    "# Días de fin de semana: 210\n",
    "weekday_count = 523.0\n",
    "weekend_days_count = 210.0"
   ]
  },
  {
   "cell_type": "code",
   "execution_count": 183,
   "metadata": {
    "collapsed": false,
    "deletable": true,
    "editable": true
   },
   "outputs": [
    {
     "data": {
      "text/plain": [
       "hour\n",
       "0      2171\n",
       "1      1189\n",
       "2       692\n",
       "3       342\n",
       "4      1022\n",
       "5      3449\n",
       "6     14312\n",
       "7     43939\n",
       "8     85864\n",
       "9     62897\n",
       "10    30106\n",
       "11    29141\n",
       "12    34384\n",
       "13    31740\n",
       "14    27156\n",
       "15    33223\n",
       "16    59099\n",
       "17    82705\n",
       "18    57652\n",
       "19    29188\n",
       "20    16527\n",
       "21    11277\n",
       "22     7434\n",
       "23     4450\n",
       "dtype: int64"
      ]
     },
     "execution_count": 183,
     "metadata": {},
     "output_type": "execute_result"
    }
   ],
   "source": [
    "trips['hour'] = trips.start_date.dt.hour\n",
    "trips_by_hour = trips.groupby('hour').size()\n",
    "trips_by_hour\n"
   ]
  },
  {
   "cell_type": "code",
   "execution_count": 128,
   "metadata": {
    "collapsed": true,
    "deletable": true,
    "editable": true
   },
   "outputs": [],
   "source": [
    "hours = [0]*24\n",
    "hours_weekday = [0]*24\n",
    "hours_weekend = [0]*24"
   ]
  },
  {
   "cell_type": "code",
   "execution_count": 127,
   "metadata": {
    "collapsed": true,
    "deletable": true,
    "editable": true
   },
   "outputs": [],
   "source": [
    "# Suma de apariciones de cada hora en las listas.\n",
    "def horas(viaje):\n",
    "    # Obtengo la hora más cercana por arriba al inicio.\n",
    "    startf = viaje.start_date.ceil(\"H\")\n",
    "    # Hora más cercana por abajo al fin.\n",
    "    endf = viaje.end_date.floor(\"H\")\n",
    "    rango = pd.date_range(start=startf, end=endf, freq=\"H\").hour\n",
    "    # Sumamos 1 a las apariciones de cada hora en el rango.\n",
    "    for h in rango:\n",
    "        hours_weekday[h]+=1"
   ]
  },
  {
   "cell_type": "code",
   "execution_count": 129,
   "metadata": {
    "collapsed": false,
    "deletable": true,
    "editable": true
   },
   "outputs": [
    {
     "data": {
      "text/plain": [
       "[1675,\n",
       " 1289,\n",
       " 1226,\n",
       " 1167,\n",
       " 1153,\n",
       " 1231,\n",
       " 1848,\n",
       " 4238,\n",
       " 11843,\n",
       " 17360,\n",
       " 8121,\n",
       " 5965,\n",
       " 7818,\n",
       " 8635,\n",
       " 8070,\n",
       " 8097,\n",
       " 10994,\n",
       " 16768,\n",
       " 15830,\n",
       " 8682,\n",
       " 5021,\n",
       " 3502,\n",
       " 2703,\n",
       " 2032]"
      ]
     },
     "execution_count": 129,
     "metadata": {},
     "output_type": "execute_result"
    }
   ],
   "source": [
    "# Calculo las horas de los días de semana\n",
    "trips[trips.start_date.dt.dayofweek < 5].apply(horas, axis=1)\n",
    "hours_weekday"
   ]
  },
  {
   "cell_type": "code",
   "execution_count": 100,
   "metadata": {
    "collapsed": true,
    "deletable": true,
    "editable": true
   },
   "outputs": [
    {
     "data": {
      "text/plain": [
       "[5.319047619047619,\n",
       " 5.0,\n",
       " 5.0095238095238095,\n",
       " 4.6571428571428575,\n",
       " 4.523809523809524,\n",
       " 4.457142857142857,\n",
       " 4.652380952380953,\n",
       " 5.09047619047619,\n",
       " 6.438095238095238,\n",
       " 8.32857142857143,\n",
       " 11.857142857142858,\n",
       " 15.795238095238096,\n",
       " 21.18095238095238,\n",
       " 25.304761904761904,\n",
       " 27.833333333333332,\n",
       " 28.63809523809524,\n",
       " 28.48095238095238,\n",
       " 26.047619047619047,\n",
       " 20.395238095238096,\n",
       " 14.823809523809524,\n",
       " 10.538095238095238,\n",
       " 8.071428571428571,\n",
       " 6.838095238095238,\n",
       " 5.8428571428571425]"
      ]
     },
     "execution_count": 100,
     "metadata": {},
     "output_type": "execute_result"
    }
   ],
   "source": [
    "# hours_weekday = [x/weekday_count for x in hours_weekday]\n",
    "hours_weekend = [x/weekend_days_count for x in hours_weekend]\n",
    "hours_weekend"
   ]
  },
  {
   "cell_type": "code",
   "execution_count": 99,
   "metadata": {
    "collapsed": false,
    "deletable": true,
    "editable": true
   },
   "outputs": [
    {
     "data": {
      "text/plain": [
       "[1117,\n",
       " 1050,\n",
       " 1052,\n",
       " 978,\n",
       " 950,\n",
       " 936,\n",
       " 977,\n",
       " 1069,\n",
       " 1352,\n",
       " 1749,\n",
       " 2490,\n",
       " 3317,\n",
       " 4448,\n",
       " 5314,\n",
       " 5845,\n",
       " 6014,\n",
       " 5981,\n",
       " 5470,\n",
       " 4283,\n",
       " 3113,\n",
       " 2213,\n",
       " 1695,\n",
       " 1436,\n",
       " 1227]"
      ]
     },
     "execution_count": 99,
     "metadata": {},
     "output_type": "execute_result"
    }
   ],
   "source": [
    "# Calculo las horas de los fines de semana\n",
    "trips[trips.start_date.dt.dayofweek > 4].apply(horas, axis=1)\n",
    "hours_weekend"
   ]
  },
  {
   "cell_type": "code",
   "execution_count": 45,
   "metadata": {
    "collapsed": false,
    "deletable": true,
    "editable": true
   },
   "outputs": [
    {
     "data": {
      "text/plain": [
       "0    3\n",
       "1    3\n",
       "2    3\n",
       "3    3\n",
       "4    3\n",
       "Name: start_date, dtype: int64"
      ]
     },
     "execution_count": 45,
     "metadata": {},
     "output_type": "execute_result"
    }
   ],
   "source": [
    "trips.start_date.dt.dayofweek.head()"
   ]
  },
  {
   "cell_type": "code",
   "execution_count": 89,
   "metadata": {
    "collapsed": false,
    "deletable": true,
    "editable": true,
    "scrolled": true
   },
   "outputs": [
    {
     "data": {
      "image/png": "[encoded data removed]",
      "text/plain": [
       "<matplotlib.figure.Figure at 0x7ff7a2124590>"
      ]
     },
     "metadata": {},
     "output_type": "display_data"
    }
   ],
   "source": [
    "# Distribucion horaria del comienzo de los viajes los dias de semana\n",
    "trips.start_date[trips.start_date.dt.dayofweek < 5]\\\n",
    "     .apply(lambda date: date.hour)\\\n",
    "     .hist(bins=range(0,24))\n",
    "    \n",
    "plt.title(\"Inicio de viajes por hora en dias de semana\")\n",
    "plt.show()"
   ]
  },
  {
   "cell_type": "code",
   "execution_count": 10,
   "metadata": {
    "collapsed": false,
    "deletable": true,
    "editable": true
   },
   "outputs": [
    {
     "data": {
      "image/png": "[encoded data removed]",
      "text/plain": [
       "<matplotlib.figure.Figure at 0x7ff7ae9b8610>"
      ]
     },
     "metadata": {},
     "output_type": "display_data"
    }
   ],
   "source": [
    "# Distribucion horaria del comienzo de los viajes los dias de fin de semana\n",
    "trips.start_date[trips.start_date.dt.dayofweek > 4]\\\n",
    "     .apply(lambda date: date.hour)\\\n",
    "     .hist(bins=range(1,25))\n",
    "        \n",
    "plt.show()"
   ]
  },
  {
   "cell_type": "code",
   "execution_count": 125,
   "metadata": {
    "collapsed": false,
    "deletable": true,
    "editable": true
   },
   "outputs": [
    {
     "data": {
      "text/plain": [
       "[0, 0, 0, 0, 0, 0, 0, 0, 0, 0, 0, 0, 0, 0, 0, 0, 0, 0, 0, 0, 0, 0, 0, 0]"
      ]
     },
     "execution_count": 125,
     "metadata": {},
     "output_type": "execute_result"
    }
   ],
   "source": [
    "hours_weekday"
   ]
  },
  {
   "cell_type": "code",
   "execution_count": 124,
   "metadata": {
    "collapsed": false,
    "deletable": true,
    "editable": true
   },
   "outputs": [
    {
     "data": {
      "image/png": "[encoded data removed]",
      "text/plain": [
       "<matplotlib.figure.Figure at 0x7ff79a686090>"
      ]
     },
     "metadata": {},
     "output_type": "display_data"
    }
   ],
   "source": [
    "data = pd.Series(hours_weekend)\n",
    "plt.bar(height=hours_weekend,left=range(0,24))\n",
    "plt.xticks(range(0,24))\n",
    "plt.title(\"Bicicletas en transito por hora por dia en fin de semana\")\n",
    "plt.ylabel(\"Cantidad de bicicletas\")\n",
    "plt.xlabel(\"Hora\")\n",
    "plt.show()"
   ]
  },
  {
   "cell_type": "code",
   "execution_count": 158,
   "metadata": {
    "collapsed": false,
    "deletable": true,
    "editable": true
   },
   "outputs": [
    {
     "data": {
      "text/plain": [
       "<matplotlib.axes._subplots.AxesSubplot at 0x7ff7a170fc10>"
      ]
     },
     "execution_count": 158,
     "metadata": {},
     "output_type": "execute_result"
    },
    {
     "data": {
      "image/png": "[encoded data removed]",
      "text/plain": [
       "<matplotlib.figure.Figure at 0x7ff7a1087510>"
      ]
     },
     "metadata": {},
     "output_type": "display_data"
    }
   ],
   "source": [
    "trips[trips.subscription_type == 'Customer'].duration[trips.start_date.dt.dayofweek > 4]\\\n",
    "     .hist(bins=range(0,100))\n",
    "        "
   ]
  },
  {
   "cell_type": "code",
   "execution_count": 199,
   "metadata": {
    "collapsed": false,
    "deletable": true,
    "editable": true
   },
   "outputs": [
    {
     "data": {
      "text/plain": [
       "<matplotlib.axes._subplots.AxesSubplot at 0x7ff7ab061890>"
      ]
     },
     "execution_count": 199,
     "metadata": {},
     "output_type": "execute_result"
    },
    {
     "data": {
      "image/png": "[encoded data removed]",
      "text/plain": [
       "<matplotlib.figure.Figure at 0x7ff7abf02110>"
      ]
     },
     "metadata": {},
     "output_type": "display_data"
    }
   ],
   "source": [
    "grouped_by_hour = trips.loc[trips.start_date.dt.weekday > 4][['duration', 'hour']].groupby('hour')\n",
    "grouped_by_hour.median().plot.bar()\n",
    "# Los datos de las 3 am se van al carajo"
   ]
  }
 ],
 "metadata": {
  "kernelspec": {
   "display_name": "Python 2",
   "language": "python",
   "name": "python2"
  }
 },
 "nbformat": 4,
 "nbformat_minor": 2
}
