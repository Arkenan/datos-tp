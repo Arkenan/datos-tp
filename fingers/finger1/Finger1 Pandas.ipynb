{
 "cells": [
  {
   "cell_type": "code",
   "execution_count": 15,
   "metadata": {
    "collapsed": false
   },
   "outputs": [],
   "source": [
    "import pandas as pd\n",
    "import numpy as np\n",
    "import matplotlib.pyplot as plt\n",
    "%matplotlib inline"
   ]
  },
  {
   "cell_type": "code",
   "execution_count": 2,
   "metadata": {
    "collapsed": false
   },
   "outputs": [],
   "source": [
    "# Limpiado de fechas.\n",
    "iter_statusMin = pd.read_csv('dataset/status.csv', iterator = True, chunksize = 100000)\n",
    "chunk = iter_statusMin.get_chunk()\n",
    "chunk.time.replace(\"/\",\"-\",regex=True, inplace=True)\n",
    "chunk.to_csv('dataset/salida2.csv',mode='w', header=True)\n",
    "\n",
    "for chunk in iter_statusMin:\n",
    "    chunk.time.replace(\"/\",\"-\",regex=True, inplace=True)\n",
    "    chunk.to_csv('dataset/salida2.csv',mode='a', header=False)"
   ]
  },
  {
   "cell_type": "markdown",
   "metadata": {},
   "source": [
    "### TODO: hacer plot de primer y último tiempo de viaje de una bicicleta para ver si se perdió."
   ]
  },
  {
   "cell_type": "code",
   "execution_count": 5,
   "metadata": {
    "collapsed": false
   },
   "outputs": [],
   "source": [
    "# Cálculo de la última fecha de status.\n",
    "iter_csv = pd.read_csv('dataset/status.csv', iterator=True,chunksize=100000)\n",
    "maximaFecha = max([chunk.time.max() for chunk in iter_csv])"
   ]
  },
  {
   "cell_type": "code",
   "execution_count": 6,
   "metadata": {
    "collapsed": false
   },
   "outputs": [
    {
     "name": "stdout",
     "output_type": "stream",
     "text": [
      "2015-08-31 23:59:02\n"
     ]
    }
   ],
   "source": [
    "print(maximaFecha)"
   ]
  },
  {
   "cell_type": "code",
   "execution_count": 8,
   "metadata": {
    "collapsed": false
   },
   "outputs": [
    {
     "name": "stdout",
     "output_type": "stream",
     "text": [
      "2013-08-29 12:06:01\n"
     ]
    }
   ],
   "source": [
    "# Cálculo de la primera fecha de status.\n",
    "iter_csv = pd.read_csv('dataset/status.csv', iterator=True,chunksize=100000)\n",
    "minimaFecha = min([chunk.time.min() for chunk in iter_csv])"
   ]
  },
  {
   "cell_type": "code",
   "execution_count": 9,
   "metadata": {
    "collapsed": false
   },
   "outputs": [
    {
     "name": "stdout",
     "output_type": "stream",
     "text": [
      "2013-08-29 12:06:01\n"
     ]
    }
   ],
   "source": [
    "print(minimaFecha)"
   ]
  },
  {
   "cell_type": "code",
   "execution_count": 136,
   "metadata": {
    "collapsed": true
   },
   "outputs": [],
   "source": [
    "# El archivo va entre el 29 de agosto del 2013 hasta el 31 de agosto del 2015. \n",
    "# Vamos a ver la cantidad de bicicletas para el 25 de agosto del 2015.\n",
    "iter_csv = pd.read_csv('status.csv', iterator=True,chunksize=100000)\n",
    "df_estacionadas = pd.concat([chunk[(chunk['time'] >= \"2015-08-25 12:00:00\") & (chunk['time'] < \"2015-08-25 12:01:00\")] for chunk in iter_csv])"
   ]
  },
  {
   "cell_type": "code",
   "execution_count": 142,
   "metadata": {
    "collapsed": false
   },
   "outputs": [],
   "source": [
    "#len(df_estacionadas)\n",
    "totalEstacionadas = sum(df_estacionadas.bikes_available)"
   ]
  },
  {
   "cell_type": "code",
   "execution_count": 10,
   "metadata": {
    "collapsed": true
   },
   "outputs": [],
   "source": [
    "# Viajes grabados.\n",
    "viajes = pd.read_csv('dataset/trip.csv')"
   ]
  },
  {
   "cell_type": "code",
   "execution_count": 140,
   "metadata": {
    "collapsed": false
   },
   "outputs": [],
   "source": [
    "viajes.end_date = pd.to_datetime(viajes.end_date)"
   ]
  },
  {
   "cell_type": "code",
   "execution_count": 25,
   "metadata": {
    "collapsed": false
   },
   "outputs": [],
   "source": [
    "# Queremos ver qué intervalo de viajes tenemos.\n",
    "viajes.start_date = pd.to_datetime(viajes.start_date)"
   ]
  },
  {
   "cell_type": "code",
   "execution_count": 42,
   "metadata": {
    "collapsed": false
   },
   "outputs": [
    {
     "data": {
      "text/plain": [
       "<matplotlib.axes._subplots.AxesSubplot at 0x7f85072216d8>"
      ]
     },
     "execution_count": 42,
     "metadata": {},
     "output_type": "execute_result"
    },
    {
     "data": {
      "image/png": "[encoded data removed]",
      "text/plain": [
       "<matplotlib.figure.Figure at 0x7f8544bf9f28>"
      ]
     },
     "metadata": {},
     "output_type": "display_data"
    }
   ],
   "source": [
    "viajes.groupby(viajes.start_date)[\"start_date\"].count().plot()"
   ]
  },
  {
   "cell_type": "code",
   "execution_count": 109,
   "metadata": {
    "collapsed": false
   },
   "outputs": [],
   "source": [
    "iter_csv = pd.read_csv('dataset/status.csv', iterator=True,chunksize=100000)\n",
    "# Saco los datos del último mes, para tener algo más manejable.\n",
    "estacionadas_agosto = pd.concat([chunk[chunk['time'] >= \"2015-08-01 00:00:00\"] for chunk in iter_csv])"
   ]
  },
  {
   "cell_type": "code",
   "execution_count": 122,
   "metadata": {
    "collapsed": false
   },
   "outputs": [],
   "source": [
    "estacionadas_agosto_por_minuto = estacionadas_agosto.groupby(\"time\")[\"bikes_available\",\"docks_available\"].sum()"
   ]
  },
  {
   "cell_type": "code",
   "execution_count": 126,
   "metadata": {
    "collapsed": false
   },
   "outputs": [
    {
     "name": "stdout",
     "output_type": "stream",
     "text": [
      "600\n",
      "484\n",
      "745\n",
      "634\n"
     ]
    },
    {
     "data": {
      "text/plain": [
       "<matplotlib.axes._subplots.AxesSubplot at 0x7f84bf06c5c0>"
      ]
     },
     "execution_count": 126,
     "metadata": {},
     "output_type": "execute_result"
    },
    {
     "data": {
      "image/png": "[encoded data removed]",
      "text/plain": [
       "<matplotlib.figure.Figure at 0x7f84dfaaafd0>"
      ]
     },
     "metadata": {},
     "output_type": "display_data"
    }
   ],
   "source": [
    "print(estacionadas_agosto_por_minuto.bikes_available.max())\n",
    "print(estacionadas_agosto_por_minuto.bikes_available.min())\n",
    "print(estacionadas_agosto_por_minuto.docks_available.max())\n",
    "print(estacionadas_agosto_por_minuto.docks_available.min())\n",
    "#estacionadas_agosto.sort_values(by=\"time\")\n",
    "estacionadas_agosto_por_minuto.plot()"
   ]
  },
  {
   "cell_type": "code",
   "execution_count": 128,
   "metadata": {
    "collapsed": false
   },
   "outputs": [
    {
     "data": {
      "text/html": [
       "<div>\n",
       "<table border=\"1\" class=\"dataframe\">\n",
       "  <thead>\n",
       "    <tr style=\"text-align: right;\">\n",
       "      <th></th>\n",
       "      <th>bikes_available</th>\n",
       "      <th>docks_available</th>\n",
       "    </tr>\n",
       "    <tr>\n",
       "      <th>time</th>\n",
       "      <th></th>\n",
       "      <th></th>\n",
       "    </tr>\n",
       "  </thead>\n",
       "  <tbody>\n",
       "    <tr>\n",
       "      <th>2015-08-29 07:49:02</th>\n",
       "      <td>600</td>\n",
       "      <td>635</td>\n",
       "    </tr>\n",
       "    <tr>\n",
       "      <th>2015-08-29 07:50:03</th>\n",
       "      <td>600</td>\n",
       "      <td>635</td>\n",
       "    </tr>\n",
       "  </tbody>\n",
       "</table>\n",
       "</div>"
      ],
      "text/plain": [
       "                     bikes_available  docks_available\n",
       "time                                                 \n",
       "2015-08-29 07:49:02              600              635\n",
       "2015-08-29 07:50:03              600              635"
      ]
     },
     "execution_count": 128,
     "metadata": {},
     "output_type": "execute_result"
    }
   ],
   "source": [
    "estacionadas_agosto_por_minuto[estacionadas_agosto_por_minuto['bikes_available'] == 600]"
   ]
  },
  {
   "cell_type": "code",
   "execution_count": 141,
   "metadata": {
    "collapsed": false,
    "scrolled": true
   },
   "outputs": [
    {
     "data": {
      "text/html": [
       "<div>\n",
       "<table border=\"1\" class=\"dataframe\">\n",
       "  <thead>\n",
       "    <tr style=\"text-align: right;\">\n",
       "      <th></th>\n",
       "      <th>id</th>\n",
       "      <th>duration</th>\n",
       "      <th>start_date</th>\n",
       "      <th>start_station_name</th>\n",
       "      <th>start_station_id</th>\n",
       "      <th>end_date</th>\n",
       "      <th>end_station_name</th>\n",
       "      <th>end_station_id</th>\n",
       "      <th>bike_id</th>\n",
       "      <th>subscription_type</th>\n",
       "      <th>zip_code</th>\n",
       "    </tr>\n",
       "  </thead>\n",
       "  <tbody>\n",
       "    <tr>\n",
       "      <th>317833</th>\n",
       "      <td>910713</td>\n",
       "      <td>4323</td>\n",
       "      <td>2015-08-29 07:26:00</td>\n",
       "      <td>Embarcadero at Vallejo</td>\n",
       "      <td>48</td>\n",
       "      <td>2015-08-29 08:38:00</td>\n",
       "      <td>Embarcadero at Vallejo</td>\n",
       "      <td>48</td>\n",
       "      <td>355</td>\n",
       "      <td>Customer</td>\n",
       "      <td>NaN</td>\n",
       "    </tr>\n",
       "    <tr>\n",
       "      <th>317873</th>\n",
       "      <td>910666</td>\n",
       "      <td>55805</td>\n",
       "      <td>2015-08-28 21:16:00</td>\n",
       "      <td>Broadway St at Battery St</td>\n",
       "      <td>82</td>\n",
       "      <td>2015-08-29 12:46:00</td>\n",
       "      <td>Steuart at Market</td>\n",
       "      <td>74</td>\n",
       "      <td>212</td>\n",
       "      <td>Subscriber</td>\n",
       "      <td>94111</td>\n",
       "    </tr>\n",
       "  </tbody>\n",
       "</table>\n",
       "</div>"
      ],
      "text/plain": [
       "            id  duration          start_date         start_station_name  \\\n",
       "317833  910713      4323 2015-08-29 07:26:00     Embarcadero at Vallejo   \n",
       "317873  910666     55805 2015-08-28 21:16:00  Broadway St at Battery St   \n",
       "\n",
       "        start_station_id            end_date        end_station_name  \\\n",
       "317833                48 2015-08-29 08:38:00  Embarcadero at Vallejo   \n",
       "317873                82 2015-08-29 12:46:00       Steuart at Market   \n",
       "\n",
       "        end_station_id  bike_id subscription_type zip_code  \n",
       "317833              48      355          Customer      NaN  \n",
       "317873              74      212        Subscriber    94111  "
      ]
     },
     "execution_count": 141,
     "metadata": {},
     "output_type": "execute_result"
    }
   ],
   "source": [
    "# En los momentos de máxima cantidad de estacionamientos mido la cantidad de alquiladas con trips.\n",
    "viajes[(viajes.start_date < \"2015-08-29 07:49:02\") & (viajes.end_date > \"2015-08-29 07:49:02\")]"
   ]
  },
  {
   "cell_type": "code",
   "execution_count": 142,
   "metadata": {
    "collapsed": false
   },
   "outputs": [
    {
     "data": {
      "text/html": [
       "<div>\n",
       "<table border=\"1\" class=\"dataframe\">\n",
       "  <thead>\n",
       "    <tr style=\"text-align: right;\">\n",
       "      <th></th>\n",
       "      <th>id</th>\n",
       "      <th>duration</th>\n",
       "      <th>start_date</th>\n",
       "      <th>start_station_name</th>\n",
       "      <th>start_station_id</th>\n",
       "      <th>end_date</th>\n",
       "      <th>end_station_name</th>\n",
       "      <th>end_station_id</th>\n",
       "      <th>bike_id</th>\n",
       "      <th>subscription_type</th>\n",
       "      <th>zip_code</th>\n",
       "    </tr>\n",
       "  </thead>\n",
       "  <tbody>\n",
       "    <tr>\n",
       "      <th>0</th>\n",
       "      <td>4576</td>\n",
       "      <td>63</td>\n",
       "      <td>2013-08-29 14:13:00</td>\n",
       "      <td>South Van Ness at Market</td>\n",
       "      <td>66</td>\n",
       "      <td>2013-08-29 14:14:00</td>\n",
       "      <td>South Van Ness at Market</td>\n",
       "      <td>66</td>\n",
       "      <td>520</td>\n",
       "      <td>Subscriber</td>\n",
       "      <td>94127</td>\n",
       "    </tr>\n",
       "    <tr>\n",
       "      <th>1</th>\n",
       "      <td>4607</td>\n",
       "      <td>70</td>\n",
       "      <td>2013-08-29 14:42:00</td>\n",
       "      <td>San Jose City Hall</td>\n",
       "      <td>10</td>\n",
       "      <td>2013-08-29 14:43:00</td>\n",
       "      <td>San Jose City Hall</td>\n",
       "      <td>10</td>\n",
       "      <td>661</td>\n",
       "      <td>Subscriber</td>\n",
       "      <td>95138</td>\n",
       "    </tr>\n",
       "    <tr>\n",
       "      <th>2</th>\n",
       "      <td>4130</td>\n",
       "      <td>71</td>\n",
       "      <td>2013-08-29 10:16:00</td>\n",
       "      <td>Mountain View City Hall</td>\n",
       "      <td>27</td>\n",
       "      <td>2013-08-29 10:17:00</td>\n",
       "      <td>Mountain View City Hall</td>\n",
       "      <td>27</td>\n",
       "      <td>48</td>\n",
       "      <td>Subscriber</td>\n",
       "      <td>97214</td>\n",
       "    </tr>\n",
       "    <tr>\n",
       "      <th>3</th>\n",
       "      <td>4251</td>\n",
       "      <td>77</td>\n",
       "      <td>2013-08-29 11:29:00</td>\n",
       "      <td>San Jose City Hall</td>\n",
       "      <td>10</td>\n",
       "      <td>2013-08-29 11:30:00</td>\n",
       "      <td>San Jose City Hall</td>\n",
       "      <td>10</td>\n",
       "      <td>26</td>\n",
       "      <td>Subscriber</td>\n",
       "      <td>95060</td>\n",
       "    </tr>\n",
       "    <tr>\n",
       "      <th>4</th>\n",
       "      <td>4299</td>\n",
       "      <td>83</td>\n",
       "      <td>2013-08-29 12:02:00</td>\n",
       "      <td>South Van Ness at Market</td>\n",
       "      <td>66</td>\n",
       "      <td>2013-08-29 12:04:00</td>\n",
       "      <td>Market at 10th</td>\n",
       "      <td>67</td>\n",
       "      <td>319</td>\n",
       "      <td>Subscriber</td>\n",
       "      <td>94103</td>\n",
       "    </tr>\n",
       "  </tbody>\n",
       "</table>\n",
       "</div>"
      ],
      "text/plain": [
       "     id  duration          start_date        start_station_name  \\\n",
       "0  4576        63 2013-08-29 14:13:00  South Van Ness at Market   \n",
       "1  4607        70 2013-08-29 14:42:00        San Jose City Hall   \n",
       "2  4130        71 2013-08-29 10:16:00   Mountain View City Hall   \n",
       "3  4251        77 2013-08-29 11:29:00        San Jose City Hall   \n",
       "4  4299        83 2013-08-29 12:02:00  South Van Ness at Market   \n",
       "\n",
       "   start_station_id            end_date          end_station_name  \\\n",
       "0                66 2013-08-29 14:14:00  South Van Ness at Market   \n",
       "1                10 2013-08-29 14:43:00        San Jose City Hall   \n",
       "2                27 2013-08-29 10:17:00   Mountain View City Hall   \n",
       "3                10 2013-08-29 11:30:00        San Jose City Hall   \n",
       "4                66 2013-08-29 12:04:00            Market at 10th   \n",
       "\n",
       "   end_station_id  bike_id subscription_type zip_code  \n",
       "0              66      520        Subscriber    94127  \n",
       "1              10      661        Subscriber    95138  \n",
       "2              27       48        Subscriber    97214  \n",
       "3              10       26        Subscriber    95060  \n",
       "4              67      319        Subscriber    94103  "
      ]
     },
     "execution_count": 142,
     "metadata": {},
     "output_type": "execute_result"
    }
   ],
   "source": [
    "# Maxima cantidad de bicicletas en funcionamiento (andando)\n",
    "viajes.head()"
   ]
  }
 ],
 "metadata": {
  "kernelspec": {
   "display_name": "Python 3",
   "language": "python",
   "name": "python3"
  },
  "language_info": {
   "codemirror_mode": {
    "name": "ipython",
    "version": 3
   },
   "file_extension": ".py",
   "mimetype": "text/x-python",
   "name": "python",
   "nbconvert_exporter": "python",
   "pygments_lexer": "ipython3",
   "version": "3.5.2"
  }
 },
 "nbformat": 4,
 "nbformat_minor": 1
}
