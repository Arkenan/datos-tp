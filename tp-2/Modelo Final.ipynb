{
 "cells": [
  {
   "cell_type": "code",
   "execution_count": 1,
   "metadata": {},
   "outputs": [
    {
     "name": "stderr",
     "output_type": "stream",
     "text": [
      "/usr/local/lib/python2.7/dist-packages/sklearn/cross_validation.py:44: DeprecationWarning: This module was deprecated in version 0.18 in favor of the model_selection module into which all the refactored classes and functions are moved. Also note that the interface of the new CV iterators are different from that of this module. This module will be removed in 0.20.\n",
      "  \"This module will be removed in 0.20.\", DeprecationWarning)\n"
     ]
    }
   ],
   "source": [
    "import pandas as pd\n",
    "import numpy as np\n",
    "from sklearn import preprocessing\n",
    "from xgboost import XGBRegressor"
   ]
  },
  {
   "cell_type": "code",
   "execution_count": 2,
   "metadata": {
    "collapsed": true
   },
   "outputs": [],
   "source": [
    "def train_test_data(trainPath, testPath):\n",
    "    test = pd.read_csv(testPath).set_index('id') \n",
    "    train = pd.read_csv(trainPath).set_index('id')\n",
    "    return train, test\n",
    "\n",
    "def remplazar_faltantes(X):\n",
    "    imputer = preprocessing.Imputer(missing_values='NaN', strategy='mean', axis=0)\n",
    "    return imputer.fit_transform(X)\n",
    "\n",
    "def Scalar(X):\n",
    "    return preprocessing.StandardScaler().fit_transform(X)\n",
    "\n",
    "def Normalizar(X):\n",
    "    return preprocessing.normalize(X,norm='l1')\n",
    "\n",
    "def PreProcesamiento(trainPath,testPath):\n",
    "    train, test = train_test_data(trainPath, testPath)\n",
    "    \n",
    "    y_train = train.duration.values\n",
    "    X_train = train.drop('duration',axis=1)\n",
    "    \n",
    "    X_test = test.copy()\n",
    "    \n",
    "    X_train = remplazar_faltantes(X_train)\n",
    "    X_train = Scalar(X_train)\n",
    "    X_train = Normalizar(X_train)\n",
    "    \n",
    "    X_test = remplazar_faltantes(X_test)\n",
    "    X_test = Scalar(X_test)\n",
    "    X_test = Normalizar(X_test)\n",
    "    \n",
    "    return X_train, y_train, X_test    "
   ]
  },
  {
   "cell_type": "code",
   "execution_count": 3,
   "metadata": {
    "collapsed": true
   },
   "outputs": [],
   "source": [
    "trainPath = \"../Data/train.csv\"\n",
    "testPath = \"../Data/test.csv\"\n",
    "\n",
    "X_train, y_train, X_test =  PreProcesamiento(trainPath,testPath)"
   ]
  },
  {
   "cell_type": "code",
   "execution_count": 4,
   "metadata": {
    "collapsed": true
   },
   "outputs": [],
   "source": [
    "xgboost = XGBRegressor(base_score=0.5, colsample_bylevel=1, colsample_bytree=0.9,\n",
    "                      gamma=0.4, learning_rate=0.1, max_delta_step=0, max_depth=16,\n",
    "                      min_child_weight=1, missing=None, n_estimators=100, nthread=-1,\n",
    "                      objective='reg:linear', reg_alpha=1e-05, reg_lambda=1,\n",
    "                      scale_pos_weight=1, seed=25, silent=True, subsample=0.9)"
   ]
  },
  {
   "cell_type": "code",
   "execution_count": 5,
   "metadata": {
    "collapsed": true
   },
   "outputs": [],
   "source": [
    "xgboost = xgboost.fit(X_train,y_train)"
   ]
  },
  {
   "cell_type": "code",
   "execution_count": 6,
   "metadata": {
    "collapsed": true
   },
   "outputs": [],
   "source": [
    "y_pred_xg = xgboost.predict(X_test)"
   ]
  },
  {
   "cell_type": "code",
   "execution_count": 17,
   "metadata": {
    "collapsed": true
   },
   "outputs": [],
   "source": [
    "test = pd.read_csv(testPath)"
   ]
  },
  {
   "cell_type": "code",
   "execution_count": 18,
   "metadata": {
    "collapsed": true
   },
   "outputs": [],
   "source": [
    "df = pd.DataFrame({\"id\": list(test.id), 'duration':y_pred_xg})\n",
    "df = df.set_index('id')\n",
    "df.to_csv(\"~/sampleSubmission.csv\")"
   ]
  }
 ],
 "metadata": {
  "kernelspec": {
   "display_name": "Python 2",
   "language": "python",
   "name": "python2"
  },
  "language_info": {
   "codemirror_mode": {
    "name": "ipython",
    "version": 2
   },
   "file_extension": ".py",
   "mimetype": "text/x-python",
   "name": "python",
   "nbconvert_exporter": "python",
   "pygments_lexer": "ipython2",
   "version": "2.7.12"
  }
 },
 "nbformat": 4,
 "nbformat_minor": 2
}
