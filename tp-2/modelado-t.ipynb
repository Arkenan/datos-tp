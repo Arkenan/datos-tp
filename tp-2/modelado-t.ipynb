{
 "cells": [
  {
   "cell_type": "code",
   "execution_count": 1,
   "metadata": {
    "collapsed": false,
    "deletable": true,
    "editable": true
   },
   "outputs": [
    {
     "name": "stderr",
     "output_type": "stream",
     "text": [
      "/home/tomas/anaconda3/lib/python3.5/site-packages/sklearn/cross_validation.py:44: DeprecationWarning: This module was deprecated in version 0.18 in favor of the model_selection module into which all the refactored classes and functions are moved. Also note that the interface of the new CV iterators are different from that of this module. This module will be removed in 0.20.\n",
      "  \"This module will be removed in 0.20.\", DeprecationWarning)\n"
     ]
    }
   ],
   "source": [
    "import pandas as pd\n",
    "import numpy as np\n",
    "import matplotlib.pyplot as plt\n",
    "import seaborn as sns\n",
    "from sklearn import preprocessing\n",
    "from sklearn.model_selection import train_test_split\n",
    "from sklearn.metrics import mean_squared_error\n",
    "from xgboost import XGBRegressor\n",
    "from sklearn.ensemble import RandomForestRegressor\n",
    "from sklearn.model_selection import RandomizedSearchCV, GridSearchCV\n",
    "from sklearn.decomposition import TruncatedSVD"
   ]
  },
  {
   "cell_type": "code",
   "execution_count": 17,
   "metadata": {
    "collapsed": true,
    "deletable": true,
    "editable": true
   },
   "outputs": [],
   "source": [
    "def preproc_rf(X, scale=False, svd=False):\n",
    "    imputer = preprocessing.Imputer(missing_values='NaN', strategy='mean', axis=0)\n",
    "    X = imputer.fit_transform(X)\n",
    "    if scale:\n",
    "        scaler = preprocessing.StandardScaler().fit(X_train)\n",
    "        X = scaler.transform(X)\n",
    "    return X"
   ]
  },
  {
   "cell_type": "code",
   "execution_count": 18,
   "metadata": {
    "collapsed": false,
    "deletable": true,
    "editable": true
   },
   "outputs": [],
   "source": [
    "test = pd.read_csv(\"../data/data_test.csv\").set_index('id')\n",
    "train = pd.read_csv(\"../data/data_train.csv\").set_index('id')"
   ]
  },
  {
   "cell_type": "code",
   "execution_count": 19,
   "metadata": {
    "collapsed": true
   },
   "outputs": [],
   "source": [
    "X_test = test.copy()"
   ]
  },
  {
   "cell_type": "code",
   "execution_count": 20,
   "metadata": {
    "collapsed": true,
    "deletable": true,
    "editable": true
   },
   "outputs": [],
   "source": [
    "y_train = train.duration.values\n",
    "X_train = train.drop('duration',axis=1)"
   ]
  },
  {
   "cell_type": "code",
   "execution_count": 21,
   "metadata": {
    "collapsed": false,
    "deletable": true,
    "editable": true
   },
   "outputs": [],
   "source": [
    "X_train = preproc_rf(X_train)\n",
    "X_test = preproc_rf(X_test)"
   ]
  },
  {
   "cell_type": "markdown",
   "metadata": {
    "deletable": true,
    "editable": true
   },
   "source": [
    "### Random Forest"
   ]
  },
  {
   "cell_type": "code",
   "execution_count": 22,
   "metadata": {
    "collapsed": false,
    "deletable": true,
    "editable": true
   },
   "outputs": [],
   "source": [
    "Xtrain, Xval,ytrain, yval = train_test_split(X_train, y_train, test_size=0.2, random_state=42)"
   ]
  },
  {
   "cell_type": "code",
   "execution_count": 23,
   "metadata": {
    "collapsed": false,
    "deletable": true,
    "editable": true
   },
   "outputs": [],
   "source": [
    "randomForest = RandomForestRegressor()\n",
    "randomForest = randomForest.fit(Xtrain, ytrain)"
   ]
  },
  {
   "cell_type": "code",
   "execution_count": 24,
   "metadata": {
    "collapsed": false,
    "deletable": true,
    "editable": true,
    "scrolled": true
   },
   "outputs": [
    {
     "name": "stdout",
     "output_type": "stream",
     "text": [
      "0.878746911743\n",
      "0.34945547103\n"
     ]
    }
   ],
   "source": [
    "print(randomForest.score(Xtrain,ytrain))\n",
    "print(randomForest.score(Xval,yval))"
   ]
  },
  {
   "cell_type": "markdown",
   "metadata": {
    "deletable": true,
    "editable": true
   },
   "source": [
    "### Submit RF"
   ]
  },
  {
   "cell_type": "code",
   "execution_count": 25,
   "metadata": {
    "collapsed": true,
    "deletable": true,
    "editable": true
   },
   "outputs": [],
   "source": [
    "randomForest = RandomForestRegressor()\n",
    "randomForest = randomForest.fit(X_train, y_train)"
   ]
  },
  {
   "cell_type": "code",
   "execution_count": 26,
   "metadata": {
    "collapsed": false,
    "deletable": true,
    "editable": true
   },
   "outputs": [],
   "source": [
    "y = randomForest.predict(X_test)\n",
    "df = pd.DataFrame({\"id\": list(test.index.values), 'duration':y})\n",
    "df = df.set_index('id')\n",
    "df.to_csv(\"~/sampleSubmission.csv\")"
   ]
  },
  {
   "cell_type": "markdown",
   "metadata": {
    "collapsed": true,
    "deletable": true,
    "editable": true
   },
   "source": [
    "## El resto"
   ]
  },
  {
   "cell_type": "code",
   "execution_count": 5,
   "metadata": {
    "collapsed": true,
    "deletable": true,
    "editable": true
   },
   "outputs": [],
   "source": [
    "x_test = test.copy()"
   ]
  },
  {
   "cell_type": "code",
   "execution_count": 9,
   "metadata": {
    "collapsed": true,
    "deletable": true,
    "editable": true
   },
   "outputs": [],
   "source": [
    "U,E,V = np.linalg.svd(X_train,full_matrices=0)"
   ]
  },
  {
   "cell_type": "code",
   "execution_count": 12,
   "metadata": {
    "collapsed": false,
    "deletable": true,
    "editable": true
   },
   "outputs": [
    {
     "data": {
      "image/png": "[encoded data removed]",
      "text/plain": [
       "<matplotlib.figure.Figure at 0x7f3ddaa43dd0>"
      ]
     },
     "metadata": {},
     "output_type": "display_data"
    }
   ],
   "source": [
    "plt.figure(figsize=(8,8))\n",
    "plt.xlabel(\"Valores Singulares\")\n",
    "plt.ylabel('Valor singular')\n",
    "plt.title(\"Energia de la matriz\")\n",
    "plt.plot(E, \"o\")\n",
    "plt.show()"
   ]
  },
  {
   "cell_type": "code",
   "execution_count": 13,
   "metadata": {
    "collapsed": true,
    "deletable": true,
    "editable": true
   },
   "outputs": [],
   "source": [
    "def Energia(E):\n",
    "    return sum([e ** 2 for e in E])\n",
    "\n",
    "def ParticipacionEnLaEnergia(cant_val, E):\n",
    "    return Energia(E[0:cant_val]) / Energia(E)"
   ]
  },
  {
   "cell_type": "code",
   "execution_count": 17,
   "metadata": {
    "collapsed": false,
    "deletable": true,
    "editable": true
   },
   "outputs": [
    {
     "data": {
      "text/plain": [
       "1.0"
      ]
     },
     "execution_count": 17,
     "metadata": {},
     "output_type": "execute_result"
    }
   ],
   "source": [
    "ParticipacionEnLaEnergia(100, E)"
   ]
  },
  {
   "cell_type": "code",
   "execution_count": 18,
   "metadata": {
    "collapsed": true,
    "deletable": true,
    "editable": true
   },
   "outputs": [],
   "source": [
    "svd = TruncatedSVD(n_components=100,n_iter=7, random_state=42)\n",
    "x_train_k = svd.fit_transform(X_train)"
   ]
  },
  {
   "cell_type": "code",
   "execution_count": 19,
   "metadata": {
    "collapsed": true,
    "deletable": true,
    "editable": true
   },
   "outputs": [],
   "source": [
    "svd = TruncatedSVD(n_components=100, n_iter=7, random_state=42)\n",
    "x_test_k = svd.fit_transform(x_test)"
   ]
  },
  {
   "cell_type": "code",
   "execution_count": null,
   "metadata": {
    "collapsed": true,
    "deletable": true,
    "editable": true
   },
   "outputs": [],
   "source": [
    "ydest = randomForest."
   ]
  },
  {
   "cell_type": "code",
   "execution_count": 28,
   "metadata": {
    "collapsed": false,
    "deletable": true,
    "editable": true
   },
   "outputs": [
    {
     "name": "stdout",
     "output_type": "stream",
     "text": [
      "Fitting 3 folds for each of 3 candidates, totalling 9 fits\n",
      "[CV] max_depth=5 .....................................................\n",
      "[CV] ...................... max_depth=5, score=0.192689, total= 2.6min\n",
      "[CV] max_depth=5 .....................................................\n"
     ]
    },
    {
     "name": "stderr",
     "output_type": "stream",
     "text": [
      "[Parallel(n_jobs=1)]: Done   1 out of   1 | elapsed:  2.6min remaining:    0.0s\n"
     ]
    },
    {
     "name": "stdout",
     "output_type": "stream",
     "text": [
      "[CV] ...................... max_depth=5, score=0.222699, total= 2.6min\n",
      "[CV] max_depth=5 .....................................................\n"
     ]
    },
    {
     "name": "stderr",
     "output_type": "stream",
     "text": [
      "[Parallel(n_jobs=1)]: Done   2 out of   2 | elapsed:  5.1min remaining:    0.0s\n"
     ]
    },
    {
     "name": "stdout",
     "output_type": "stream",
     "text": [
      "[CV] ...................... max_depth=5, score=0.230399, total= 2.5min\n",
      "[CV] max_depth=15 ....................................................\n"
     ]
    },
    {
     "name": "stderr",
     "output_type": "stream",
     "text": [
      "[Parallel(n_jobs=1)]: Done   3 out of   3 | elapsed:  7.7min remaining:    0.0s\n"
     ]
    },
    {
     "name": "stdout",
     "output_type": "stream",
     "text": [
      "[CV] ..................... max_depth=15, score=0.147615, total= 7.0min\n",
      "[CV] max_depth=15 ....................................................\n"
     ]
    },
    {
     "name": "stderr",
     "output_type": "stream",
     "text": [
      "[Parallel(n_jobs=1)]: Done   4 out of   4 | elapsed: 14.6min remaining:    0.0s\n"
     ]
    },
    {
     "name": "stdout",
     "output_type": "stream",
     "text": [
      "[CV] ..................... max_depth=15, score=0.193508, total= 7.0min\n",
      "[CV] max_depth=15 ....................................................\n",
      "[CV] ..................... max_depth=15, score=0.206747, total= 6.5min\n",
      "[CV] max_depth=None ..................................................\n",
      "[CV] .................. max_depth=None, score=-0.069404, total=15.0min\n",
      "[CV] max_depth=None ..................................................\n",
      "[CV] ................... max_depth=None, score=0.047564, total=15.5min\n",
      "[CV] max_depth=None ..................................................\n",
      "[CV] ................... max_depth=None, score=0.050603, total=14.8min\n"
     ]
    },
    {
     "name": "stderr",
     "output_type": "stream",
     "text": [
      "[Parallel(n_jobs=1)]: Done   9 out of   9 | elapsed: 73.5min finished\n"
     ]
    },
    {
     "name": "stdout",
     "output_type": "stream",
     "text": [
      "{'max_depth': 5}\n"
     ]
    }
   ],
   "source": [
    "param_grid = {\"max_depth\": [5, 15, None]}\n",
    "reg = RandomForestRegressor()\n",
    "grid_search = GridSearchCV(reg, param_grid=param_grid, verbose=5, cv = 3)\n",
    "grid_search.fit(x_train_k, y_train)\n",
    "print(grid_search.best_params_)"
   ]
  },
  {
   "cell_type": "code",
   "execution_count": 34,
   "metadata": {
    "collapsed": false,
    "deletable": true,
    "editable": true
   },
   "outputs": [
    {
     "name": "stdout",
     "output_type": "stream",
     "text": [
      "Fitting 3 folds for each of 4 candidates, totalling 12 fits\n",
      "[CV] max_depth=3 .....................................................\n",
      "[CV] ...................... max_depth=3, score=0.194727, total= 1.5min\n",
      "[CV] max_depth=3 .....................................................\n"
     ]
    },
    {
     "name": "stderr",
     "output_type": "stream",
     "text": [
      "[Parallel(n_jobs=1)]: Done   1 out of   1 | elapsed:  1.5min remaining:    0.0s\n"
     ]
    },
    {
     "name": "stdout",
     "output_type": "stream",
     "text": [
      "[CV] ...................... max_depth=3, score=0.214833, total= 1.6min\n",
      "[CV] max_depth=3 .....................................................\n"
     ]
    },
    {
     "name": "stderr",
     "output_type": "stream",
     "text": [
      "[Parallel(n_jobs=1)]: Done   2 out of   2 | elapsed:  3.1min remaining:    0.0s\n"
     ]
    },
    {
     "name": "stdout",
     "output_type": "stream",
     "text": [
      "[CV] ...................... max_depth=3, score=0.226800, total= 1.6min\n",
      "[CV] max_depth=4 .....................................................\n"
     ]
    },
    {
     "name": "stderr",
     "output_type": "stream",
     "text": [
      "[Parallel(n_jobs=1)]: Done   3 out of   3 | elapsed:  4.7min remaining:    0.0s\n"
     ]
    },
    {
     "name": "stdout",
     "output_type": "stream",
     "text": [
      "[CV] ...................... max_depth=4, score=0.193324, total= 2.1min\n",
      "[CV] max_depth=4 .....................................................\n"
     ]
    },
    {
     "name": "stderr",
     "output_type": "stream",
     "text": [
      "[Parallel(n_jobs=1)]: Done   4 out of   4 | elapsed:  6.8min remaining:    0.0s\n"
     ]
    },
    {
     "name": "stdout",
     "output_type": "stream",
     "text": [
      "[CV] ...................... max_depth=4, score=0.221454, total= 2.0min\n",
      "[CV] max_depth=4 .....................................................\n",
      "[CV] ...................... max_depth=4, score=0.228458, total= 2.1min\n",
      "[CV] max_depth=5 .....................................................\n",
      "[CV] ...................... max_depth=5, score=0.193029, total= 2.6min\n",
      "[CV] max_depth=5 .....................................................\n",
      "[CV] ...................... max_depth=5, score=0.223380, total= 2.5min\n",
      "[CV] max_depth=5 .....................................................\n",
      "[CV] ...................... max_depth=5, score=0.228931, total= 2.5min\n",
      "[CV] max_depth=6 .....................................................\n",
      "[CV] ...................... max_depth=6, score=0.193524, total= 3.0min\n",
      "[CV] max_depth=6 .....................................................\n",
      "[CV] ...................... max_depth=6, score=0.223128, total= 2.9min\n",
      "[CV] max_depth=6 .....................................................\n",
      "[CV] ...................... max_depth=6, score=0.231493, total= 3.0min\n"
     ]
    },
    {
     "name": "stderr",
     "output_type": "stream",
     "text": [
      "[Parallel(n_jobs=1)]: Done  12 out of  12 | elapsed: 27.3min finished\n"
     ]
    },
    {
     "name": "stdout",
     "output_type": "stream",
     "text": [
      "{'max_depth': 6}\n"
     ]
    }
   ],
   "source": [
    "param_grid = {\"max_depth\": [3,4,5,6]}\n",
    "reg = RandomForestRegressor()\n",
    "grid_search = GridSearchCV(reg, param_grid=param_grid, verbose=5, cv = 3)\n",
    "grid_search.fit(x_train_k, y_train)\n",
    "print(grid_search.best_params_)"
   ]
  },
  {
   "cell_type": "code",
   "execution_count": 29,
   "metadata": {
    "collapsed": false,
    "deletable": true,
    "editable": true
   },
   "outputs": [
    {
     "name": "stdout",
     "output_type": "stream",
     "text": [
      "Fitting 3 folds for each of 2 candidates, totalling 6 fits\n",
      "[CV] bootstrap=True ..................................................\n",
      "[CV] .................. bootstrap=True, score=-0.038084, total=15.2min\n",
      "[CV] bootstrap=True ..................................................\n"
     ]
    },
    {
     "name": "stderr",
     "output_type": "stream",
     "text": [
      "[Parallel(n_jobs=1)]: Done   1 out of   1 | elapsed: 15.3min remaining:    0.0s\n"
     ]
    },
    {
     "name": "stdout",
     "output_type": "stream",
     "text": [
      "[CV] ................... bootstrap=True, score=0.038526, total=15.3min\n",
      "[CV] bootstrap=True ..................................................\n"
     ]
    },
    {
     "name": "stderr",
     "output_type": "stream",
     "text": [
      "[Parallel(n_jobs=1)]: Done   2 out of   2 | elapsed: 30.6min remaining:    0.0s\n"
     ]
    },
    {
     "name": "stdout",
     "output_type": "stream",
     "text": [
      "[CV] ................... bootstrap=True, score=0.067302, total=14.6min\n",
      "[CV] bootstrap=False .................................................\n"
     ]
    },
    {
     "name": "stderr",
     "output_type": "stream",
     "text": [
      "[Parallel(n_jobs=1)]: Done   3 out of   3 | elapsed: 45.2min remaining:    0.0s\n"
     ]
    },
    {
     "name": "stdout",
     "output_type": "stream",
     "text": [
      "[CV] ................. bootstrap=False, score=-0.916110, total=23.2min\n",
      "[CV] bootstrap=False .................................................\n"
     ]
    },
    {
     "name": "stderr",
     "output_type": "stream",
     "text": [
      "[Parallel(n_jobs=1)]: Done   4 out of   4 | elapsed: 68.4min remaining:    0.0s\n"
     ]
    },
    {
     "name": "stdout",
     "output_type": "stream",
     "text": [
      "[CV] ................. bootstrap=False, score=-0.582693, total=23.4min\n",
      "[CV] bootstrap=False .................................................\n",
      "[CV] ................. bootstrap=False, score=-0.508790, total=21.9min\n"
     ]
    },
    {
     "name": "stderr",
     "output_type": "stream",
     "text": [
      "[Parallel(n_jobs=1)]: Done   6 out of   6 | elapsed: 113.8min finished\n"
     ]
    },
    {
     "name": "stdout",
     "output_type": "stream",
     "text": [
      "{'bootstrap': True}\n"
     ]
    }
   ],
   "source": [
    "param_grid = {\"bootstrap\": [True, False]}\n",
    "reg = RandomForestRegressor()\n",
    "grid_search = GridSearchCV(reg, param_grid=param_grid, verbose=5, cv = 3)\n",
    "grid_search.fit(x_train_k, y_train)\n",
    "print(grid_search.best_params_)"
   ]
  },
  {
   "cell_type": "code",
   "execution_count": null,
   "metadata": {
    "collapsed": true,
    "deletable": true,
    "editable": true
   },
   "outputs": [],
   "source": []
  },
  {
   "cell_type": "code",
   "execution_count": 30,
   "metadata": {
    "collapsed": false,
    "deletable": true,
    "editable": true
   },
   "outputs": [
    {
     "name": "stdout",
     "output_type": "stream",
     "text": [
      "Fitting 3 folds for each of 3 candidates, totalling 9 fits\n",
      "[CV] max_features=auto ...............................................\n",
      "[CV] ............... max_features=auto, score=-0.094338, total=15.0min\n",
      "[CV] max_features=auto ...............................................\n"
     ]
    },
    {
     "name": "stderr",
     "output_type": "stream",
     "text": [
      "[Parallel(n_jobs=1)]: Done   1 out of   1 | elapsed: 15.0min remaining:    0.0s\n"
     ]
    },
    {
     "name": "stdout",
     "output_type": "stream",
     "text": [
      "[CV] ................ max_features=auto, score=0.055603, total=15.1min\n",
      "[CV] max_features=auto ...............................................\n"
     ]
    },
    {
     "name": "stderr",
     "output_type": "stream",
     "text": [
      "[Parallel(n_jobs=1)]: Done   2 out of   2 | elapsed: 30.1min remaining:    0.0s\n"
     ]
    },
    {
     "name": "stdout",
     "output_type": "stream",
     "text": [
      "[CV] ................ max_features=auto, score=0.064749, total=14.7min\n",
      "[CV] max_features=sqrt ...............................................\n"
     ]
    },
    {
     "name": "stderr",
     "output_type": "stream",
     "text": [
      "[Parallel(n_jobs=1)]: Done   3 out of   3 | elapsed: 44.9min remaining:    0.0s\n"
     ]
    },
    {
     "name": "stdout",
     "output_type": "stream",
     "text": [
      "[CV] ................ max_features=sqrt, score=0.018871, total= 1.3min\n",
      "[CV] max_features=sqrt ...............................................\n"
     ]
    },
    {
     "name": "stderr",
     "output_type": "stream",
     "text": [
      "[Parallel(n_jobs=1)]: Done   4 out of   4 | elapsed: 46.2min remaining:    0.0s\n"
     ]
    },
    {
     "name": "stdout",
     "output_type": "stream",
     "text": [
      "[CV] ................ max_features=sqrt, score=0.092302, total= 1.2min\n",
      "[CV] max_features=sqrt ...............................................\n",
      "[CV] ................ max_features=sqrt, score=0.094558, total= 1.3min\n",
      "[CV] max_features=log2 ...............................................\n",
      "[CV] ................ max_features=log2, score=0.029407, total=  43.5s\n",
      "[CV] max_features=log2 ...............................................\n",
      "[CV] ................ max_features=log2, score=0.088770, total=  42.6s\n",
      "[CV] max_features=log2 ...............................................\n",
      "[CV] ................ max_features=log2, score=0.094456, total=  42.7s\n"
     ]
    },
    {
     "name": "stderr",
     "output_type": "stream",
     "text": [
      "[Parallel(n_jobs=1)]: Done   9 out of   9 | elapsed: 50.9min finished\n"
     ]
    },
    {
     "name": "stdout",
     "output_type": "stream",
     "text": [
      "{'max_features': 'log2'}\n"
     ]
    }
   ],
   "source": [
    "param_grid = {\"max_features\": ['auto','sqrt','log2']}\n",
    "reg = RandomForestRegressor()\n",
    "grid_search = GridSearchCV(reg, param_grid=param_grid, verbose=5, cv = 3)\n",
    "grid_search.fit(x_train_k, y_train)\n",
    "print(grid_search.best_params_)"
   ]
  },
  {
   "cell_type": "code",
   "execution_count": 31,
   "metadata": {
    "collapsed": false,
    "deletable": true,
    "editable": true
   },
   "outputs": [
    {
     "name": "stdout",
     "output_type": "stream",
     "text": [
      "Fitting 3 folds for each of 3 candidates, totalling 9 fits\n",
      "[CV] min_samples_split=2 .............................................\n",
      "[CV] ............. min_samples_split=2, score=-0.051571, total=15.3min\n",
      "[CV] min_samples_split=2 .............................................\n"
     ]
    },
    {
     "name": "stderr",
     "output_type": "stream",
     "text": [
      "[Parallel(n_jobs=1)]: Done   1 out of   1 | elapsed: 15.3min remaining:    0.0s\n"
     ]
    },
    {
     "name": "stdout",
     "output_type": "stream",
     "text": [
      "[CV] .............. min_samples_split=2, score=0.050185, total=14.6min\n",
      "[CV] min_samples_split=2 .............................................\n"
     ]
    },
    {
     "name": "stderr",
     "output_type": "stream",
     "text": [
      "[Parallel(n_jobs=1)]: Done   2 out of   2 | elapsed: 29.9min remaining:    0.0s\n"
     ]
    },
    {
     "name": "stdout",
     "output_type": "stream",
     "text": [
      "[CV] .............. min_samples_split=2, score=0.062529, total=14.7min\n",
      "[CV] min_samples_split=4 .............................................\n"
     ]
    },
    {
     "name": "stderr",
     "output_type": "stream",
     "text": [
      "[Parallel(n_jobs=1)]: Done   3 out of   3 | elapsed: 44.7min remaining:    0.0s\n"
     ]
    },
    {
     "name": "stdout",
     "output_type": "stream",
     "text": [
      "[CV] ............. min_samples_split=4, score=-0.061487, total=15.0min\n",
      "[CV] min_samples_split=4 .............................................\n"
     ]
    },
    {
     "name": "stderr",
     "output_type": "stream",
     "text": [
      "[Parallel(n_jobs=1)]: Done   4 out of   4 | elapsed: 59.8min remaining:    0.0s\n"
     ]
    },
    {
     "name": "stdout",
     "output_type": "stream",
     "text": [
      "[CV] .............. min_samples_split=4, score=0.055404, total=14.8min\n",
      "[CV] min_samples_split=4 .............................................\n",
      "[CV] .............. min_samples_split=4, score=0.066389, total=14.4min\n",
      "[CV] min_samples_split=8 .............................................\n",
      "[CV] ............. min_samples_split=8, score=-0.040527, total=14.7min\n",
      "[CV] min_samples_split=8 .............................................\n",
      "[CV] .............. min_samples_split=8, score=0.067306, total=15.1min\n",
      "[CV] min_samples_split=8 .............................................\n",
      "[CV] .............. min_samples_split=8, score=0.086303, total=14.0min\n"
     ]
    },
    {
     "name": "stderr",
     "output_type": "stream",
     "text": [
      "[Parallel(n_jobs=1)]: Done   9 out of   9 | elapsed: 132.9min finished\n"
     ]
    },
    {
     "name": "stdout",
     "output_type": "stream",
     "text": [
      "{'min_samples_split': 8}\n"
     ]
    }
   ],
   "source": [
    "param_grid = {\"min_samples_split\": [2, 4, 8]}\n",
    "reg = RandomForestRegressor()\n",
    "grid_search = GridSearchCV(reg, param_grid=param_grid, verbose=5, cv = 3)\n",
    "grid_search.fit(x_train_k, y_train)\n",
    "print(grid_search.best_params_)"
   ]
  },
  {
   "cell_type": "code",
   "execution_count": 32,
   "metadata": {
    "collapsed": false,
    "deletable": true,
    "editable": true
   },
   "outputs": [
    {
     "name": "stdout",
     "output_type": "stream",
     "text": [
      "Fitting 3 folds for each of 3 candidates, totalling 9 fits\n",
      "[CV] min_samples_leaf=1 ..............................................\n",
      "[CV] .............. min_samples_leaf=1, score=-0.065787, total=15.6min\n",
      "[CV] min_samples_leaf=1 ..............................................\n"
     ]
    },
    {
     "name": "stderr",
     "output_type": "stream",
     "text": [
      "[Parallel(n_jobs=1)]: Done   1 out of   1 | elapsed: 15.6min remaining:    0.0s\n"
     ]
    },
    {
     "name": "stdout",
     "output_type": "stream",
     "text": [
      "[CV] ............... min_samples_leaf=1, score=0.037708, total=14.9min\n",
      "[CV] min_samples_leaf=1 ..............................................\n"
     ]
    },
    {
     "name": "stderr",
     "output_type": "stream",
     "text": [
      "[Parallel(n_jobs=1)]: Done   2 out of   2 | elapsed: 30.5min remaining:    0.0s\n"
     ]
    },
    {
     "name": "stdout",
     "output_type": "stream",
     "text": [
      "[CV] ............... min_samples_leaf=1, score=0.065244, total=14.7min\n",
      "[CV] min_samples_leaf=3 ..............................................\n"
     ]
    },
    {
     "name": "stderr",
     "output_type": "stream",
     "text": [
      "[Parallel(n_jobs=1)]: Done   3 out of   3 | elapsed: 45.3min remaining:    0.0s\n"
     ]
    },
    {
     "name": "stdout",
     "output_type": "stream",
     "text": [
      "[CV] ............... min_samples_leaf=3, score=0.057570, total=14.4min\n",
      "[CV] min_samples_leaf=3 ..............................................\n"
     ]
    },
    {
     "name": "stderr",
     "output_type": "stream",
     "text": [
      "[Parallel(n_jobs=1)]: Done   4 out of   4 | elapsed: 59.7min remaining:    0.0s\n"
     ]
    },
    {
     "name": "stdout",
     "output_type": "stream",
     "text": [
      "[CV] ............... min_samples_leaf=3, score=0.130205, total=13.9min\n",
      "[CV] min_samples_leaf=3 ..............................................\n",
      "[CV] ............... min_samples_leaf=3, score=0.132518, total=13.8min\n",
      "[CV] min_samples_leaf=8 ..............................................\n",
      "[CV] ............... min_samples_leaf=8, score=0.132165, total=12.6min\n",
      "[CV] min_samples_leaf=8 ..............................................\n",
      "[CV] ............... min_samples_leaf=8, score=0.178177, total=12.0min\n",
      "[CV] min_samples_leaf=8 ..............................................\n",
      "[CV] ............... min_samples_leaf=8, score=0.190776, total=12.3min\n"
     ]
    },
    {
     "name": "stderr",
     "output_type": "stream",
     "text": [
      "[Parallel(n_jobs=1)]: Done   9 out of   9 | elapsed: 124.3min finished\n"
     ]
    },
    {
     "name": "stdout",
     "output_type": "stream",
     "text": [
      "{'min_samples_leaf': 8}\n"
     ]
    }
   ],
   "source": [
    "param_grid = {\"min_samples_leaf\": [1, 3, 8]}\n",
    "reg = RandomForestRegressor()\n",
    "grid_search = GridSearchCV(reg, param_grid=param_grid, verbose=5, cv = 3)\n",
    "grid_search.fit(x_train_k, y_train)\n",
    "print(grid_search.best_params_)"
   ]
  },
  {
   "cell_type": "code",
   "execution_count": 36,
   "metadata": {
    "collapsed": true,
    "deletable": true,
    "editable": true
   },
   "outputs": [
    {
     "name": "stdout",
     "output_type": "stream",
     "text": [
      "Fitting 3 folds for each of 9 candidates, totalling 27 fits\n",
      "[CV] max_depth=6, min_samples_leaf=5 .................................\n",
      "[CV] .. max_depth=6, min_samples_leaf=5, score=0.186725, total=  11.3s\n",
      "[CV] max_depth=6, min_samples_leaf=5 .................................\n"
     ]
    },
    {
     "name": "stderr",
     "output_type": "stream",
     "text": [
      "[Parallel(n_jobs=1)]: Done   1 out of   1 | elapsed:   11.6s remaining:    0.0s\n"
     ]
    },
    {
     "name": "stdout",
     "output_type": "stream",
     "text": [
      "[CV] .. max_depth=6, min_samples_leaf=5, score=0.200602, total=  12.4s\n",
      "[CV] max_depth=6, min_samples_leaf=5 .................................\n"
     ]
    },
    {
     "name": "stderr",
     "output_type": "stream",
     "text": [
      "[Parallel(n_jobs=1)]: Done   2 out of   2 | elapsed:   24.2s remaining:    0.0s\n"
     ]
    },
    {
     "name": "stdout",
     "output_type": "stream",
     "text": [
      "[CV] .. max_depth=6, min_samples_leaf=5, score=0.217021, total=  12.5s\n",
      "[CV] max_depth=6, min_samples_leaf=8 .................................\n"
     ]
    },
    {
     "name": "stderr",
     "output_type": "stream",
     "text": [
      "[Parallel(n_jobs=1)]: Done   3 out of   3 | elapsed:   37.0s remaining:    0.0s\n"
     ]
    },
    {
     "name": "stdout",
     "output_type": "stream",
     "text": [
      "[CV] .. max_depth=6, min_samples_leaf=8, score=0.179548, total=  12.0s\n",
      "[CV] max_depth=6, min_samples_leaf=8 .................................\n"
     ]
    },
    {
     "name": "stderr",
     "output_type": "stream",
     "text": [
      "[Parallel(n_jobs=1)]: Done   4 out of   4 | elapsed:   49.2s remaining:    0.0s\n"
     ]
    },
    {
     "name": "stdout",
     "output_type": "stream",
     "text": [
      "[CV] .. max_depth=6, min_samples_leaf=8, score=0.212282, total=  12.9s\n",
      "[CV] max_depth=6, min_samples_leaf=8 .................................\n",
      "[CV] .. max_depth=6, min_samples_leaf=8, score=0.222533, total=  12.7s\n",
      "[CV] max_depth=6, min_samples_leaf=12 ................................\n",
      "[CV] . max_depth=6, min_samples_leaf=12, score=0.194403, total=  12.4s\n",
      "[CV] max_depth=6, min_samples_leaf=12 ................................\n",
      "[CV] . max_depth=6, min_samples_leaf=12, score=0.200621, total=  12.9s\n",
      "[CV] max_depth=6, min_samples_leaf=12 ................................\n",
      "[CV] . max_depth=6, min_samples_leaf=12, score=0.219506, total=  12.6s\n",
      "[CV] max_depth=10, min_samples_leaf=5 ................................\n",
      "[CV] . max_depth=10, min_samples_leaf=5, score=0.197002, total=  19.0s\n",
      "[CV] max_depth=10, min_samples_leaf=5 ................................\n",
      "[CV] . max_depth=10, min_samples_leaf=5, score=0.222605, total=  18.9s\n",
      "[CV] max_depth=10, min_samples_leaf=5 ................................\n",
      "[CV] . max_depth=10, min_samples_leaf=5, score=0.224532, total=  18.6s\n",
      "[CV] max_depth=10, min_samples_leaf=8 ................................\n",
      "[CV] . max_depth=10, min_samples_leaf=8, score=0.197006, total=  18.6s\n",
      "[CV] max_depth=10, min_samples_leaf=8 ................................\n",
      "[CV] . max_depth=10, min_samples_leaf=8, score=0.221198, total=  18.8s\n",
      "[CV] max_depth=10, min_samples_leaf=8 ................................\n",
      "[CV] . max_depth=10, min_samples_leaf=8, score=0.225846, total=  18.9s\n",
      "[CV] max_depth=10, min_samples_leaf=12 ...............................\n",
      "[CV]  max_depth=10, min_samples_leaf=12, score=0.197391, total=  19.0s\n",
      "[CV] max_depth=10, min_samples_leaf=12 ...............................\n",
      "[CV]  max_depth=10, min_samples_leaf=12, score=0.223500, total=  19.4s\n",
      "[CV] max_depth=10, min_samples_leaf=12 ...............................\n",
      "[CV]  max_depth=10, min_samples_leaf=12, score=0.228633, total=  17.5s\n",
      "[CV] max_depth=15, min_samples_leaf=5 ................................\n",
      "[CV] . max_depth=15, min_samples_leaf=5, score=0.174556, total=  24.7s\n",
      "[CV] max_depth=15, min_samples_leaf=5 ................................\n",
      "[CV] . max_depth=15, min_samples_leaf=5, score=0.209266, total=  24.1s\n",
      "[CV] max_depth=15, min_samples_leaf=5 ................................\n",
      "[CV] . max_depth=15, min_samples_leaf=5, score=0.214718, total=  23.6s\n",
      "[CV] max_depth=15, min_samples_leaf=8 ................................\n",
      "[CV] . max_depth=15, min_samples_leaf=8, score=0.188101, total=  23.3s\n",
      "[CV] max_depth=15, min_samples_leaf=8 ................................\n",
      "[CV] . max_depth=15, min_samples_leaf=8, score=0.206332, total=  23.3s\n",
      "[CV] max_depth=15, min_samples_leaf=8 ................................\n",
      "[CV] . max_depth=15, min_samples_leaf=8, score=0.217586, total=  24.8s\n",
      "[CV] max_depth=15, min_samples_leaf=12 ...............................\n",
      "[CV]  max_depth=15, min_samples_leaf=12, score=0.190028, total=  24.8s\n",
      "[CV] max_depth=15, min_samples_leaf=12 ...............................\n",
      "[CV]  max_depth=15, min_samples_leaf=12, score=0.212399, total=  24.0s\n",
      "[CV] max_depth=15, min_samples_leaf=12 ...............................\n",
      "[CV]  max_depth=15, min_samples_leaf=12, score=0.218174, total=  25.0s\n"
     ]
    },
    {
     "name": "stderr",
     "output_type": "stream",
     "text": [
      "[Parallel(n_jobs=1)]: Done  27 out of  27 | elapsed:  8.4min finished\n"
     ]
    },
    {
     "name": "stdout",
     "output_type": "stream",
     "text": [
      "{'max_depth': 10, 'min_samples_leaf': 12}\n"
     ]
    }
   ],
   "source": [
    "param_grid = {\"max_depth\": [6, 10, 15],\n",
    "              \"min_samples_leaf\": [5, 8, 12],\n",
    "              }\n",
    "\n",
    "reg = RandomForestRegressor(bootstrap=True, max_features='log2')\n",
    "grid_search = GridSearchCV(reg, param_grid=param_grid, verbose=5, cv = 3)\n",
    "grid_search.fit(x_train_k, y_train)\n",
    "print(grid_search.best_params_)"
   ]
  },
  {
   "cell_type": "code",
   "execution_count": null,
   "metadata": {
    "collapsed": false,
    "deletable": true,
    "editable": true
   },
   "outputs": [
    {
     "name": "stdout",
     "output_type": "stream",
     "text": [
      "Fitting 5 folds for each of 24 candidates, totalling 120 fits\n",
      "[CV] max_features=log2, bootstrap=False, min_samples_leaf=11 .........\n",
      "[CV]  max_features=log2, bootstrap=False, min_samples_leaf=11, score=0.193640, total=  30.6s\n",
      "[CV] max_features=log2, bootstrap=False, min_samples_leaf=11 .........\n"
     ]
    },
    {
     "name": "stderr",
     "output_type": "stream",
     "text": [
      "[Parallel(n_jobs=1)]: Done   1 out of   1 | elapsed:   31.0s remaining:    0.0s\n"
     ]
    },
    {
     "name": "stdout",
     "output_type": "stream",
     "text": [
      "[CV]  max_features=log2, bootstrap=False, min_samples_leaf=11, score=0.207035, total=  30.1s\n",
      "[CV] max_features=log2, bootstrap=False, min_samples_leaf=11 .........\n"
     ]
    },
    {
     "name": "stderr",
     "output_type": "stream",
     "text": [
      "[Parallel(n_jobs=1)]: Done   2 out of   2 | elapsed:  1.0min remaining:    0.0s\n"
     ]
    },
    {
     "name": "stdout",
     "output_type": "stream",
     "text": [
      "[CV]  max_features=log2, bootstrap=False, min_samples_leaf=11, score=0.234952, total=  30.2s\n",
      "[CV] max_features=log2, bootstrap=False, min_samples_leaf=11 .........\n"
     ]
    },
    {
     "name": "stderr",
     "output_type": "stream",
     "text": [
      "[Parallel(n_jobs=1)]: Done   3 out of   3 | elapsed:  1.5min remaining:    0.0s\n"
     ]
    },
    {
     "name": "stdout",
     "output_type": "stream",
     "text": [
      "[CV]  max_features=log2, bootstrap=False, min_samples_leaf=11, score=0.198778, total=  32.0s\n",
      "[CV] max_features=log2, bootstrap=False, min_samples_leaf=11 .........\n"
     ]
    },
    {
     "name": "stderr",
     "output_type": "stream",
     "text": [
      "[Parallel(n_jobs=1)]: Done   4 out of   4 | elapsed:  2.1min remaining:    0.0s\n"
     ]
    },
    {
     "name": "stdout",
     "output_type": "stream",
     "text": [
      "[CV]  max_features=log2, bootstrap=False, min_samples_leaf=11, score=0.239539, total=  30.6s\n",
      "[CV] max_features=log2, bootstrap=False, min_samples_leaf=12 .........\n",
      "[CV]  max_features=log2, bootstrap=False, min_samples_leaf=12, score=0.192981, total=  31.6s\n",
      "[CV] max_features=log2, bootstrap=False, min_samples_leaf=12 .........\n",
      "[CV]  max_features=log2, bootstrap=False, min_samples_leaf=12, score=0.208214, total=  30.0s\n",
      "[CV] max_features=log2, bootstrap=False, min_samples_leaf=12 .........\n",
      "[CV]  max_features=log2, bootstrap=False, min_samples_leaf=12, score=0.236623, total=  30.0s\n",
      "[CV] max_features=log2, bootstrap=False, min_samples_leaf=12 .........\n",
      "[CV]  max_features=log2, bootstrap=False, min_samples_leaf=12, score=0.197319, total=  30.6s\n",
      "[CV] max_features=log2, bootstrap=False, min_samples_leaf=12 .........\n",
      "[CV]  max_features=log2, bootstrap=False, min_samples_leaf=12, score=0.240559, total=  31.2s\n",
      "[CV] max_features=log2, bootstrap=False, min_samples_leaf=15 .........\n",
      "[CV]  max_features=log2, bootstrap=False, min_samples_leaf=15, score=0.196682, total=  31.1s\n",
      "[CV] max_features=log2, bootstrap=False, min_samples_leaf=15 .........\n",
      "[CV]  max_features=log2, bootstrap=False, min_samples_leaf=15, score=0.207365, total=  30.5s\n",
      "[CV] max_features=log2, bootstrap=False, min_samples_leaf=15 .........\n",
      "[CV]  max_features=log2, bootstrap=False, min_samples_leaf=15, score=0.236289, total=  30.5s\n",
      "[CV] max_features=log2, bootstrap=False, min_samples_leaf=15 .........\n",
      "[CV]  max_features=log2, bootstrap=False, min_samples_leaf=15, score=0.203835, total=  32.8s\n",
      "[CV] max_features=log2, bootstrap=False, min_samples_leaf=15 .........\n",
      "[CV]  max_features=log2, bootstrap=False, min_samples_leaf=15, score=0.241340, total=  30.9s\n",
      "[CV] max_features=log2, bootstrap=False, min_samples_leaf=16 .........\n",
      "[CV]  max_features=log2, bootstrap=False, min_samples_leaf=16, score=0.198135, total=  31.0s\n",
      "[CV] max_features=log2, bootstrap=False, min_samples_leaf=16 .........\n",
      "[CV]  max_features=log2, bootstrap=False, min_samples_leaf=16, score=0.205437, total=  30.7s\n",
      "[CV] max_features=log2, bootstrap=False, min_samples_leaf=16 .........\n",
      "[CV]  max_features=log2, bootstrap=False, min_samples_leaf=16, score=0.233089, total=  31.5s\n",
      "[CV] max_features=log2, bootstrap=False, min_samples_leaf=16 .........\n",
      "[CV]  max_features=log2, bootstrap=False, min_samples_leaf=16, score=0.199267, total=  31.0s\n",
      "[CV] max_features=log2, bootstrap=False, min_samples_leaf=16 .........\n",
      "[CV]  max_features=log2, bootstrap=False, min_samples_leaf=16, score=0.246187, total=  31.2s\n",
      "[CV] max_features=auto, bootstrap=False, min_samples_leaf=11 .........\n"
     ]
    }
   ],
   "source": [
    "param_grid = {\"min_samples_leaf\": [11, 12, 15, 16],\n",
    "              \"bootstrap\":[False,True], \"max_features\":['log2','auto', 'sqrt']}\n",
    "\n",
    "reg = RandomForestRegressor(bootstrap=True, max_features='log2', max_depth=10)\n",
    "grid_search = GridSearchCV(reg, param_grid=param_grid, verbose=5, cv = 5)\n",
    "grid_search.fit(x_train_k, y_train)\n",
    "print(grid_search.best_params_)"
   ]
  },
  {
   "cell_type": "code",
   "execution_count": 15,
   "metadata": {
    "collapsed": true,
    "deletable": true,
    "editable": true
   },
   "outputs": [],
   "source": [
    "best_random_forest = RandomForestRegressor(bootstrap=True, criterion='mse', max_depth=None,\n",
    "           max_features='auto', max_leaf_nodes=None,\n",
    "           min_impurity_split=1e-07, min_samples_leaf=3,\n",
    "           min_samples_split=2, min_weight_fraction_leaf=0.0,\n",
    "           n_estimators=10, n_jobs=1, oob_score=False, random_state=None,\n",
    "           verbose=0, warm_start=False)"
   ]
  },
  {
   "cell_type": "code",
   "execution_count": 16,
   "metadata": {
    "collapsed": false,
    "deletable": true,
    "editable": true
   },
   "outputs": [
    {
     "data": {
      "text/plain": [
       "RandomForestRegressor(bootstrap=True, criterion='mse', max_depth=None,\n",
       "           max_features='auto', max_leaf_nodes=None,\n",
       "           min_impurity_split=1e-07, min_samples_leaf=3,\n",
       "           min_samples_split=2, min_weight_fraction_leaf=0.0,\n",
       "           n_estimators=10, n_jobs=1, oob_score=False, random_state=None,\n",
       "           verbose=0, warm_start=False)"
      ]
     },
     "execution_count": 16,
     "metadata": {},
     "output_type": "execute_result"
    }
   ],
   "source": [
    "best_random_forest.fit(X_train,y_train)"
   ]
  },
  {
   "cell_type": "code",
   "execution_count": 20,
   "metadata": {
    "collapsed": true,
    "deletable": true,
    "editable": true
   },
   "outputs": [],
   "source": [
    "y_pred = best_random_forest.predict(x_test)"
   ]
  },
  {
   "cell_type": "code",
   "execution_count": 69,
   "metadata": {
    "collapsed": true,
    "deletable": true,
    "editable": true
   },
   "outputs": [],
   "source": [
    "y_pred_random_forest = best_random_forest.predict(x_test_k)"
   ]
  },
  {
   "cell_type": "markdown",
   "metadata": {
    "deletable": true,
    "editable": true
   },
   "source": [
    "### XGBoost"
   ]
  },
  {
   "cell_type": "code",
   "execution_count": 11,
   "metadata": {
    "collapsed": true,
    "deletable": true,
    "editable": true
   },
   "outputs": [],
   "source": [
    "Xtrain, Xval, ytrain, yval = train_test_split(X_train, y_train, test_size=0.2, random_state=42)"
   ]
  },
  {
   "cell_type": "code",
   "execution_count": 21,
   "metadata": {
    "collapsed": false,
    "deletable": true,
    "editable": true
   },
   "outputs": [
    {
     "data": {
      "text/plain": [
       "0.42892569407796233"
      ]
     },
     "execution_count": 21,
     "metadata": {},
     "output_type": "execute_result"
    }
   ],
   "source": [
    "xboost_reg = XGBRegressor(n_estimators=30, seed=25)\n",
    "xboost_reg = xboost_reg.fit(Xtrain, ytrain)\n",
    "xboost_reg.score(Xval, yval)"
   ]
  },
  {
   "cell_type": "code",
   "execution_count": 12,
   "metadata": {
    "collapsed": false,
    "deletable": true,
    "editable": true
   },
   "outputs": [
    {
     "name": "stdout",
     "output_type": "stream",
     "text": [
      "Fitting 2 folds for each of 3 candidates, totalling 6 fits\n",
      "[CV] max_depth=3 .....................................................\n",
      "[CV] ...................... max_depth=3, score=0.427239, total=  44.6s\n",
      "[CV] max_depth=3 .....................................................\n"
     ]
    },
    {
     "name": "stderr",
     "output_type": "stream",
     "text": [
      "[Parallel(n_jobs=1)]: Done   1 out of   1 | elapsed:   45.0s remaining:    0.0s\n"
     ]
    },
    {
     "name": "stdout",
     "output_type": "stream",
     "text": [
      "[CV] ...................... max_depth=3, score=0.442231, total=  46.0s\n",
      "[CV] max_depth=5 .....................................................\n"
     ]
    },
    {
     "name": "stderr",
     "output_type": "stream",
     "text": [
      "[Parallel(n_jobs=1)]: Done   2 out of   2 | elapsed:  1.5min remaining:    0.0s\n"
     ]
    },
    {
     "name": "stdout",
     "output_type": "stream",
     "text": [
      "[CV] ...................... max_depth=5, score=0.627600, total= 1.2min\n",
      "[CV] max_depth=5 .....................................................\n"
     ]
    },
    {
     "name": "stderr",
     "output_type": "stream",
     "text": [
      "[Parallel(n_jobs=1)]: Done   3 out of   3 | elapsed:  2.8min remaining:    0.0s\n"
     ]
    },
    {
     "name": "stdout",
     "output_type": "stream",
     "text": [
      "[CV] ...................... max_depth=5, score=0.636061, total= 1.2min\n",
      "[CV] max_depth=10 ....................................................\n"
     ]
    },
    {
     "name": "stderr",
     "output_type": "stream",
     "text": [
      "[Parallel(n_jobs=1)]: Done   4 out of   4 | elapsed:  4.0min remaining:    0.0s\n"
     ]
    },
    {
     "name": "stdout",
     "output_type": "stream",
     "text": [
      "[CV] ..................... max_depth=10, score=0.825808, total= 2.5min\n",
      "[CV] max_depth=10 ....................................................\n",
      "[CV] ..................... max_depth=10, score=0.836070, total= 2.6min\n"
     ]
    },
    {
     "name": "stderr",
     "output_type": "stream",
     "text": [
      "[Parallel(n_jobs=1)]: Done   6 out of   6 | elapsed:  9.1min finished\n"
     ]
    }
   ],
   "source": [
    "xboost_reg = XGBRegressor(n_estimators=30, seed=25)\n",
    "gsearch_max_depth = GridSearchCV(xboost_reg,param_grid = {'max_depth':[3,5,10]}, cv=2, verbose=5)\n",
    "gsearch_max_depth = gsearch_max_depth.fit(Xtrain, ytrain)"
   ]
  },
  {
   "cell_type": "code",
   "execution_count": 13,
   "metadata": {
    "collapsed": false,
    "deletable": true,
    "editable": true
   },
   "outputs": [
    {
     "name": "stdout",
     "output_type": "stream",
     "text": [
      "Fitting 2 folds for each of 3 candidates, totalling 6 fits\n",
      "[CV] max_depth=8 .....................................................\n",
      "[CV] ...................... max_depth=8, score=0.781394, total= 1.9min\n",
      "[CV] max_depth=8 .....................................................\n"
     ]
    },
    {
     "name": "stderr",
     "output_type": "stream",
     "text": [
      "[Parallel(n_jobs=1)]: Done   1 out of   1 | elapsed:  2.0min remaining:    0.0s\n"
     ]
    },
    {
     "name": "stdout",
     "output_type": "stream",
     "text": [
      "[CV] ...................... max_depth=8, score=0.798269, total= 1.9min\n",
      "[CV] max_depth=10 ....................................................\n"
     ]
    },
    {
     "name": "stderr",
     "output_type": "stream",
     "text": [
      "[Parallel(n_jobs=1)]: Done   2 out of   2 | elapsed:  3.9min remaining:    0.0s\n"
     ]
    },
    {
     "name": "stdout",
     "output_type": "stream",
     "text": [
      "[CV] ..................... max_depth=10, score=0.825808, total= 2.5min\n",
      "[CV] max_depth=10 ....................................................\n"
     ]
    },
    {
     "name": "stderr",
     "output_type": "stream",
     "text": [
      "[Parallel(n_jobs=1)]: Done   3 out of   3 | elapsed:  6.4min remaining:    0.0s\n"
     ]
    },
    {
     "name": "stdout",
     "output_type": "stream",
     "text": [
      "[CV] ..................... max_depth=10, score=0.836070, total= 2.3min\n",
      "[CV] max_depth=12 ....................................................\n"
     ]
    },
    {
     "name": "stderr",
     "output_type": "stream",
     "text": [
      "[Parallel(n_jobs=1)]: Done   4 out of   4 | elapsed:  8.7min remaining:    0.0s\n"
     ]
    },
    {
     "name": "stdout",
     "output_type": "stream",
     "text": [
      "[CV] ..................... max_depth=12, score=0.846738, total= 2.7min\n",
      "[CV] max_depth=12 ....................................................\n",
      "[CV] ..................... max_depth=12, score=0.865626, total= 2.8min\n"
     ]
    },
    {
     "name": "stderr",
     "output_type": "stream",
     "text": [
      "[Parallel(n_jobs=1)]: Done   6 out of   6 | elapsed: 14.3min finished\n"
     ]
    }
   ],
   "source": [
    "xboost_reg = XGBRegressor(n_estimators=30, seed=25)\n",
    "gsearch_max_depth_2 = GridSearchCV(xboost_reg,param_grid = {'max_depth':[8,10,12]}, cv=2, verbose=5)\n",
    "gsearch_max_depth_2 = gsearch_max_depth_2.fit(Xtrain, ytrain)"
   ]
  },
  {
   "cell_type": "code",
   "execution_count": 16,
   "metadata": {
    "collapsed": false,
    "deletable": true,
    "editable": true
   },
   "outputs": [
    {
     "name": "stdout",
     "output_type": "stream",
     "text": [
      "Fitting 2 folds for each of 3 candidates, totalling 6 fits\n",
      "[CV] max_depth=12 ....................................................\n",
      "[CV] ..................... max_depth=12, score=0.846738, total= 2.6min\n",
      "[CV] max_depth=12 ....................................................\n"
     ]
    },
    {
     "name": "stderr",
     "output_type": "stream",
     "text": [
      "[Parallel(n_jobs=1)]: Done   1 out of   1 | elapsed:  2.6min remaining:    0.0s\n"
     ]
    },
    {
     "name": "stdout",
     "output_type": "stream",
     "text": [
      "[CV] ..................... max_depth=12, score=0.865626, total= 2.6min\n",
      "[CV] max_depth=14 ....................................................\n"
     ]
    },
    {
     "name": "stderr",
     "output_type": "stream",
     "text": [
      "[Parallel(n_jobs=1)]: Done   2 out of   2 | elapsed:  5.2min remaining:    0.0s\n"
     ]
    },
    {
     "name": "stdout",
     "output_type": "stream",
     "text": [
      "[CV] ..................... max_depth=14, score=0.862965, total= 3.0min\n",
      "[CV] max_depth=14 ....................................................\n"
     ]
    },
    {
     "name": "stderr",
     "output_type": "stream",
     "text": [
      "[Parallel(n_jobs=1)]: Done   3 out of   3 | elapsed:  8.2min remaining:    0.0s\n"
     ]
    },
    {
     "name": "stdout",
     "output_type": "stream",
     "text": [
      "[CV] ..................... max_depth=14, score=0.875889, total= 3.0min\n",
      "[CV] max_depth=16 ....................................................\n"
     ]
    },
    {
     "name": "stderr",
     "output_type": "stream",
     "text": [
      "[Parallel(n_jobs=1)]: Done   4 out of   4 | elapsed: 11.3min remaining:    0.0s\n"
     ]
    },
    {
     "name": "stdout",
     "output_type": "stream",
     "text": [
      "[CV] ..................... max_depth=16, score=0.869063, total= 3.5min\n",
      "[CV] max_depth=16 ....................................................\n",
      "[CV] ..................... max_depth=16, score=0.885986, total= 3.5min\n"
     ]
    },
    {
     "name": "stderr",
     "output_type": "stream",
     "text": [
      "[Parallel(n_jobs=1)]: Done   6 out of   6 | elapsed: 18.3min finished\n"
     ]
    }
   ],
   "source": [
    "xboost_reg = XGBRegressor(n_estimators=30, seed=25)\n",
    "gsearch_max_depth_3 = GridSearchCV(xboost_reg,param_grid = {'max_depth':[12, 14, 16]}, cv=2, verbose=5)\n",
    "gsearch_max_depth_3 = gsearch_max_depth_3.fit(Xtrain, ytrain)"
   ]
  },
  {
   "cell_type": "code",
   "execution_count": 14,
   "metadata": {
    "collapsed": false,
    "deletable": true,
    "editable": true
   },
   "outputs": [
    {
     "name": "stdout",
     "output_type": "stream",
     "text": [
      "Fitting 3 folds for each of 3 candidates, totalling 9 fits\n",
      "[CV] min_child_weight=1 ..............................................\n",
      "[CV] ............... min_child_weight=1, score=0.440381, total=  57.7s\n",
      "[CV] min_child_weight=1 ..............................................\n"
     ]
    },
    {
     "name": "stderr",
     "output_type": "stream",
     "text": [
      "[Parallel(n_jobs=1)]: Done   1 out of   1 | elapsed:   58.3s remaining:    0.0s\n"
     ]
    },
    {
     "name": "stdout",
     "output_type": "stream",
     "text": [
      "[CV] ............... min_child_weight=1, score=0.423370, total=  57.1s\n",
      "[CV] min_child_weight=1 ..............................................\n"
     ]
    },
    {
     "name": "stderr",
     "output_type": "stream",
     "text": [
      "[Parallel(n_jobs=1)]: Done   2 out of   2 | elapsed:  1.9min remaining:    0.0s\n"
     ]
    },
    {
     "name": "stdout",
     "output_type": "stream",
     "text": [
      "[CV] ............... min_child_weight=1, score=0.433511, total= 1.0min\n",
      "[CV] min_child_weight=3 ..............................................\n"
     ]
    },
    {
     "name": "stderr",
     "output_type": "stream",
     "text": [
      "[Parallel(n_jobs=1)]: Done   3 out of   3 | elapsed:  3.0min remaining:    0.0s\n"
     ]
    },
    {
     "name": "stdout",
     "output_type": "stream",
     "text": [
      "[CV] ............... min_child_weight=3, score=0.431600, total= 1.0min\n",
      "[CV] min_child_weight=3 ..............................................\n"
     ]
    },
    {
     "name": "stderr",
     "output_type": "stream",
     "text": [
      "[Parallel(n_jobs=1)]: Done   4 out of   4 | elapsed:  4.0min remaining:    0.0s\n"
     ]
    },
    {
     "name": "stdout",
     "output_type": "stream",
     "text": [
      "[CV] ............... min_child_weight=3, score=0.423715, total= 1.1min\n",
      "[CV] min_child_weight=3 ..............................................\n",
      "[CV] ............... min_child_weight=3, score=0.433526, total=  59.8s\n",
      "[CV] min_child_weight=6 ..............................................\n",
      "[CV] ............... min_child_weight=6, score=0.431603, total=  57.5s\n",
      "[CV] min_child_weight=6 ..............................................\n",
      "[CV] ............... min_child_weight=6, score=0.423358, total= 1.0min\n",
      "[CV] min_child_weight=6 ..............................................\n",
      "[CV] ............... min_child_weight=6, score=0.433526, total= 1.0min\n"
     ]
    },
    {
     "name": "stderr",
     "output_type": "stream",
     "text": [
      "[Parallel(n_jobs=1)]: Done   9 out of   9 | elapsed:  9.2min finished\n"
     ]
    }
   ],
   "source": [
    "xboost_reg = XGBRegressor(n_estimators=30, seed=25)\n",
    "gsearch = GridSearchCV(xboost_reg,param_grid = {'min_child_weight':[1,3,6]}, cv=3, verbose=5)\n",
    "gsearch = gsearch.fit(Xtrain, ytrain)"
   ]
  },
  {
   "cell_type": "code",
   "execution_count": 56,
   "metadata": {
    "collapsed": false,
    "deletable": true,
    "editable": true
   },
   "outputs": [
    {
     "name": "stdout",
     "output_type": "stream",
     "text": [
      "Fitting 3 folds for each of 5 candidates, totalling 15 fits\n"
     ]
    },
    {
     "name": "stderr",
     "output_type": "stream",
     "text": [
      "[Parallel(n_jobs=1)]: Done  15 out of  15 | elapsed: 94.7min finished\n"
     ]
    }
   ],
   "source": [
    "xboost_reg = XGBRegressor(n_estimators=30, seed=25,max_depth=16, min_child_weight=1)\n",
    "gsearch_gamma = GridSearchCV(xboost_reg,param_grid = {'gamma':[i/10.0 for i in range(0,5)]}, cv=3, verbose=1)\n",
    "gsearch_gamma = gsearch_gamma.fit(Xtrain, ytrain)"
   ]
  },
  {
   "cell_type": "code",
   "execution_count": 57,
   "metadata": {
    "collapsed": false,
    "deletable": true,
    "editable": true
   },
   "outputs": [
    {
     "data": {
      "text/plain": [
       "{'gamma': 0.4}"
      ]
     },
     "execution_count": 57,
     "metadata": {},
     "output_type": "execute_result"
    }
   ],
   "source": [
    "gsearch_gamma.best_params_"
   ]
  },
  {
   "cell_type": "code",
   "execution_count": 61,
   "metadata": {
    "collapsed": false,
    "deletable": true,
    "editable": true
   },
   "outputs": [
    {
     "name": "stdout",
     "output_type": "stream",
     "text": [
      "Fitting 3 folds for each of 4 candidates, totalling 12 fits\n",
      "[CV] subsample=0.6 ...................................................\n",
      "[CV] .................... subsample=0.6, score=0.869055, total= 5.3min\n",
      "[CV] subsample=0.6 ...................................................\n"
     ]
    },
    {
     "name": "stderr",
     "output_type": "stream",
     "text": [
      "[Parallel(n_jobs=1)]: Done   1 out of   1 | elapsed:  5.3min remaining:    0.0s\n"
     ]
    },
    {
     "name": "stdout",
     "output_type": "stream",
     "text": [
      "[CV] .................... subsample=0.6, score=0.884310, total= 5.2min\n",
      "[CV] subsample=0.6 ...................................................\n"
     ]
    },
    {
     "name": "stderr",
     "output_type": "stream",
     "text": [
      "[Parallel(n_jobs=1)]: Done   2 out of   2 | elapsed: 10.6min remaining:    0.0s\n"
     ]
    },
    {
     "name": "stdout",
     "output_type": "stream",
     "text": [
      "[CV] .................... subsample=0.6, score=0.890332, total= 4.9min\n",
      "[CV] subsample=0.7 ...................................................\n"
     ]
    },
    {
     "name": "stderr",
     "output_type": "stream",
     "text": [
      "[Parallel(n_jobs=1)]: Done   3 out of   3 | elapsed: 15.5min remaining:    0.0s\n"
     ]
    },
    {
     "name": "stdout",
     "output_type": "stream",
     "text": [
      "[CV] .................... subsample=0.7, score=0.875779, total= 5.2min\n",
      "[CV] subsample=0.7 ...................................................\n",
      "[CV] .................... subsample=0.7, score=0.882491, total= 4.8min\n",
      "[CV] subsample=0.7 ...................................................\n",
      "[CV] .................... subsample=0.7, score=0.889940, total= 4.4min\n",
      "[CV] subsample=0.8 ...................................................\n",
      "[CV] .................... subsample=0.8, score=0.877135, total= 4.9min\n",
      "[CV] subsample=0.8 ...................................................\n",
      "[CV] .................... subsample=0.8, score=0.888374, total= 5.3min\n",
      "[CV] subsample=0.8 ...................................................\n",
      "[CV] .................... subsample=0.8, score=0.894517, total= 5.1min\n",
      "[CV] subsample=0.9 ...................................................\n",
      "[CV] .................... subsample=0.9, score=0.874670, total= 4.8min\n",
      "[CV] subsample=0.9 ...................................................\n",
      "[CV] .................... subsample=0.9, score=0.891087, total= 4.8min\n",
      "[CV] subsample=0.9 ...................................................\n",
      "[CV] .................... subsample=0.9, score=0.897425, total= 4.8min\n"
     ]
    },
    {
     "name": "stderr",
     "output_type": "stream",
     "text": [
      "[Parallel(n_jobs=1)]: Done  12 out of  12 | elapsed: 59.7min finished\n"
     ]
    }
   ],
   "source": [
    "xboost_reg = XGBRegressor(n_estimators=30, seed=25,max_depth=16, min_child_weight=1)\n",
    "gsearch_subsample = GridSearchCV(xboost_reg,param_grid ={'subsample':[i/10.0 for i in range(6,10)]},cv=3, verbose=4)\n",
    "gsearch_subsample = gsearch_subsample.fit(Xtrain, ytrain)"
   ]
  },
  {
   "cell_type": "code",
   "execution_count": 63,
   "metadata": {
    "collapsed": false,
    "deletable": true,
    "editable": true
   },
   "outputs": [
    {
     "data": {
      "text/plain": [
       "{'subsample': 0.9}"
      ]
     },
     "execution_count": 63,
     "metadata": {},
     "output_type": "execute_result"
    }
   ],
   "source": [
    "gsearch_subsample.best_params_"
   ]
  },
  {
   "cell_type": "code",
   "execution_count": 65,
   "metadata": {
    "collapsed": false,
    "deletable": true,
    "editable": true
   },
   "outputs": [
    {
     "name": "stdout",
     "output_type": "stream",
     "text": [
      "Fitting 3 folds for each of 4 candidates, totalling 12 fits\n",
      "[CV] colsample_bytree=0.6 ............................................\n",
      "[CV] ............. colsample_bytree=0.6, score=0.868684, total= 3.4min\n",
      "[CV] colsample_bytree=0.6 ............................................\n"
     ]
    },
    {
     "name": "stderr",
     "output_type": "stream",
     "text": [
      "[Parallel(n_jobs=1)]: Done   1 out of   1 | elapsed:  3.4min remaining:    0.0s\n"
     ]
    },
    {
     "name": "stdout",
     "output_type": "stream",
     "text": [
      "[CV] ............. colsample_bytree=0.6, score=0.802136, total= 4.0min\n",
      "[CV] colsample_bytree=0.6 ............................................\n"
     ]
    },
    {
     "name": "stderr",
     "output_type": "stream",
     "text": [
      "[Parallel(n_jobs=1)]: Done   2 out of   2 | elapsed:  7.5min remaining:    0.0s\n"
     ]
    },
    {
     "name": "stdout",
     "output_type": "stream",
     "text": [
      "[CV] ............. colsample_bytree=0.6, score=0.805225, total= 5.7min\n",
      "[CV] colsample_bytree=0.7 ............................................\n"
     ]
    },
    {
     "name": "stderr",
     "output_type": "stream",
     "text": [
      "[Parallel(n_jobs=1)]: Done   3 out of   3 | elapsed: 13.2min remaining:    0.0s\n"
     ]
    },
    {
     "name": "stdout",
     "output_type": "stream",
     "text": [
      "[CV] ............. colsample_bytree=0.7, score=0.868365, total= 4.3min\n",
      "[CV] colsample_bytree=0.7 ............................................\n",
      "[CV] ............. colsample_bytree=0.7, score=0.817621, total= 3.5min\n",
      "[CV] colsample_bytree=0.7 ............................................\n",
      "[CV] ............. colsample_bytree=0.7, score=0.827185, total= 3.4min\n",
      "[CV] colsample_bytree=0.8 ............................................\n",
      "[CV] ............. colsample_bytree=0.8, score=0.871348, total= 3.9min\n",
      "[CV] colsample_bytree=0.8 ............................................\n",
      "[CV] ............. colsample_bytree=0.8, score=0.859760, total= 3.9min\n",
      "[CV] colsample_bytree=0.8 ............................................\n",
      "[CV] ............. colsample_bytree=0.8, score=0.864390, total= 4.0min\n",
      "[CV] colsample_bytree=0.9 ............................................\n",
      "[CV] ............. colsample_bytree=0.9, score=0.885919, total= 4.4min\n",
      "[CV] colsample_bytree=0.9 ............................................\n",
      "[CV] ............. colsample_bytree=0.9, score=0.884618, total= 4.4min\n",
      "[CV] colsample_bytree=0.9 ............................................\n",
      "[CV] ............. colsample_bytree=0.9, score=0.891805, total= 4.4min\n"
     ]
    },
    {
     "name": "stderr",
     "output_type": "stream",
     "text": [
      "[Parallel(n_jobs=1)]: Done  12 out of  12 | elapsed: 49.6min finished\n"
     ]
    }
   ],
   "source": [
    "xboost_reg = XGBRegressor(n_estimators=30, seed=25,max_depth=16, min_child_weight=1, gamma=0.4, subsample=0.9)\n",
    "gsearch_colsample_bytree = GridSearchCV(xboost_reg,param_grid ={'colsample_bytree':[i/10.0 for i in range(6,10)]},cv=3, verbose=4)\n",
    "gsearch_colsample_bytree = gsearch_colsample_bytree.fit(Xtrain, ytrain)"
   ]
  },
  {
   "cell_type": "code",
   "execution_count": 68,
   "metadata": {
    "collapsed": false,
    "deletable": true,
    "editable": true
   },
   "outputs": [
    {
     "data": {
      "text/plain": [
       "{'colsample_bytree': 0.9}"
      ]
     },
     "execution_count": 68,
     "metadata": {},
     "output_type": "execute_result"
    }
   ],
   "source": [
    "gsearch_colsample_bytree.best_params_"
   ]
  },
  {
   "cell_type": "code",
   "execution_count": 69,
   "metadata": {
    "collapsed": false,
    "deletable": true,
    "editable": true
   },
   "outputs": [
    {
     "name": "stdout",
     "output_type": "stream",
     "text": [
      "Fitting 2 folds for each of 5 candidates, totalling 10 fits\n",
      "[CV] reg_alpha=1e-05 .................................................\n",
      "[CV] .................. reg_alpha=1e-05, score=0.872813, total= 4.0min\n",
      "[CV] reg_alpha=1e-05 .................................................\n"
     ]
    },
    {
     "name": "stderr",
     "output_type": "stream",
     "text": [
      "[Parallel(n_jobs=1)]: Done   1 out of   1 | elapsed:  4.0min remaining:    0.0s\n"
     ]
    },
    {
     "name": "stdout",
     "output_type": "stream",
     "text": [
      "[CV] .................. reg_alpha=1e-05, score=0.886462, total= 3.9min\n",
      "[CV] reg_alpha=0.01 ..................................................\n"
     ]
    },
    {
     "name": "stderr",
     "output_type": "stream",
     "text": [
      "[Parallel(n_jobs=1)]: Done   2 out of   2 | elapsed:  7.9min remaining:    0.0s\n"
     ]
    },
    {
     "name": "stdout",
     "output_type": "stream",
     "text": [
      "[CV] ................... reg_alpha=0.01, score=0.872813, total= 3.8min\n",
      "[CV] reg_alpha=0.01 ..................................................\n"
     ]
    },
    {
     "name": "stderr",
     "output_type": "stream",
     "text": [
      "[Parallel(n_jobs=1)]: Done   3 out of   3 | elapsed: 11.7min remaining:    0.0s\n"
     ]
    },
    {
     "name": "stdout",
     "output_type": "stream",
     "text": [
      "[CV] ................... reg_alpha=0.01, score=0.886460, total= 4.0min\n",
      "[CV] reg_alpha=0.1 ...................................................\n",
      "[CV] .................... reg_alpha=0.1, score=0.872929, total= 4.4min\n",
      "[CV] reg_alpha=0.1 ...................................................\n",
      "[CV] .................... reg_alpha=0.1, score=0.882337, total= 4.3min\n",
      "[CV] reg_alpha=1 .....................................................\n",
      "[CV] ...................... reg_alpha=1, score=0.873236, total= 4.3min\n",
      "[CV] reg_alpha=1 .....................................................\n",
      "[CV] ...................... reg_alpha=1, score=0.883547, total= 3.9min\n",
      "[CV] reg_alpha=100 ...................................................\n",
      "[CV] .................... reg_alpha=100, score=0.870343, total= 3.9min\n",
      "[CV] reg_alpha=100 ...................................................\n",
      "[CV] .................... reg_alpha=100, score=0.885553, total= 4.2min\n"
     ]
    },
    {
     "name": "stderr",
     "output_type": "stream",
     "text": [
      "[Parallel(n_jobs=1)]: Done  10 out of  10 | elapsed: 41.0min finished\n"
     ]
    }
   ],
   "source": [
    "xboost_reg = XGBRegressor(n_estimators=30, colsample_bytree=0.9, seed=25,max_depth=16, min_child_weight=1, gamma=0.4, subsample=0.9)\n",
    "gsearch_rep_alpha = GridSearchCV(xboost_reg,param_grid ={'reg_alpha':[1e-5, 1e-2, 0.1, 1, 100]},cv=2, verbose=4)\n",
    "gsearch_rep_alpha = gsearch_rep_alpha.fit(Xtrain, ytrain)"
   ]
  },
  {
   "cell_type": "code",
   "execution_count": 70,
   "metadata": {
    "collapsed": false,
    "deletable": true,
    "editable": true
   },
   "outputs": [
    {
     "data": {
      "text/plain": [
       "{'reg_alpha': 1e-05}"
      ]
     },
     "execution_count": 70,
     "metadata": {},
     "output_type": "execute_result"
    }
   ],
   "source": [
    "gsearch_rep_alpha.best_params_"
   ]
  },
  {
   "cell_type": "code",
   "execution_count": 71,
   "metadata": {
    "collapsed": false,
    "deletable": true,
    "editable": true
   },
   "outputs": [
    {
     "name": "stdout",
     "output_type": "stream",
     "text": [
      "Fitting 2 folds for each of 9 candidates, totalling 18 fits\n",
      "[CV] n_estimators=10, learning_rate=0.1 ..............................\n",
      "[CV]  n_estimators=10, learning_rate=0.1, score=0.608121, total= 1.5min\n",
      "[CV] n_estimators=10, learning_rate=0.1 ..............................\n"
     ]
    },
    {
     "name": "stderr",
     "output_type": "stream",
     "text": [
      "[Parallel(n_jobs=1)]: Done   1 out of   1 | elapsed:  1.5min remaining:    0.0s\n"
     ]
    },
    {
     "name": "stdout",
     "output_type": "stream",
     "text": [
      "[CV]  n_estimators=10, learning_rate=0.1, score=0.631821, total= 1.4min\n",
      "[CV] n_estimators=60, learning_rate=0.1 ..............................\n"
     ]
    },
    {
     "name": "stderr",
     "output_type": "stream",
     "text": [
      "[Parallel(n_jobs=1)]: Done   2 out of   2 | elapsed:  3.0min remaining:    0.0s\n"
     ]
    },
    {
     "name": "stdout",
     "output_type": "stream",
     "text": [
      "[CV]  n_estimators=60, learning_rate=0.1, score=0.908995, total= 8.6min\n",
      "[CV] n_estimators=60, learning_rate=0.1 ..............................\n"
     ]
    },
    {
     "name": "stderr",
     "output_type": "stream",
     "text": [
      "[Parallel(n_jobs=1)]: Done   3 out of   3 | elapsed: 11.6min remaining:    0.0s\n"
     ]
    },
    {
     "name": "stdout",
     "output_type": "stream",
     "text": [
      "[CV]  n_estimators=60, learning_rate=0.1, score=0.832609, total= 8.6min\n",
      "[CV] n_estimators=100, learning_rate=0.1 .............................\n"
     ]
    },
    {
     "name": "stderr",
     "output_type": "stream",
     "text": [
      "[Parallel(n_jobs=1)]: Done   4 out of   4 | elapsed: 20.3min remaining:    0.0s\n"
     ]
    },
    {
     "name": "stdout",
     "output_type": "stream",
     "text": [
      "[CV]  n_estimators=100, learning_rate=0.1, score=0.914832, total=14.2min\n",
      "[CV] n_estimators=100, learning_rate=0.1 .............................\n",
      "[CV]  n_estimators=100, learning_rate=0.1, score=0.835763, total=15.2min\n",
      "[CV] n_estimators=10, learning_rate=0.01 .............................\n",
      "[CV]  n_estimators=10, learning_rate=0.01, score=-0.241593, total= 1.4min\n",
      "[CV] n_estimators=10, learning_rate=0.01 .............................\n",
      "[CV]  n_estimators=10, learning_rate=0.01, score=-0.259990, total= 1.4min\n",
      "[CV] n_estimators=60, learning_rate=0.01 .............................\n",
      "[CV]  n_estimators=60, learning_rate=0.01, score=0.375056, total= 8.2min\n",
      "[CV] n_estimators=60, learning_rate=0.01 .............................\n",
      "[CV]  n_estimators=60, learning_rate=0.01, score=0.354097, total= 9.2min\n",
      "[CV] n_estimators=100, learning_rate=0.01 ............................\n",
      "[CV]  n_estimators=100, learning_rate=0.01, score=0.608983, total=15.0min\n",
      "[CV] n_estimators=100, learning_rate=0.01 ............................\n",
      "[CV]  n_estimators=100, learning_rate=0.01, score=0.594731, total=14.2min\n",
      "[CV] n_estimators=10, learning_rate=0.001 ............................\n",
      "[CV]  n_estimators=10, learning_rate=0.001, score=-0.418029, total= 1.4min\n",
      "[CV] n_estimators=10, learning_rate=0.001 ............................\n",
      "[CV]  n_estimators=10, learning_rate=0.001, score=-0.469400, total= 1.4min\n",
      "[CV] n_estimators=60, learning_rate=0.001 ............................\n",
      "[CV]  n_estimators=60, learning_rate=0.001, score=-0.315551, total= 8.3min\n",
      "[CV] n_estimators=60, learning_rate=0.001 ............................\n",
      "[CV]  n_estimators=60, learning_rate=0.001, score=-0.365856, total= 8.7min\n",
      "[CV] n_estimators=100, learning_rate=0.001 ...........................\n",
      "[CV]  n_estimators=100, learning_rate=0.001, score=-0.238162, total=14.5min\n",
      "[CV] n_estimators=100, learning_rate=0.001 ...........................\n",
      "[CV]  n_estimators=100, learning_rate=0.001, score=-0.284801, total=15.5min\n"
     ]
    },
    {
     "name": "stderr",
     "output_type": "stream",
     "text": [
      "[Parallel(n_jobs=1)]: Done  18 out of  18 | elapsed: 149.4min finished\n"
     ]
    }
   ],
   "source": [
    "grid ={\n",
    "       'n_estimators':[10, 60, 100],\n",
    "       'learning_rate': [0.1, 0.01, 0.001]\n",
    "      }\n",
    "xboost_reg = XGBRegressor(reg_alpha = 1e-05, colsample_bytree=0.9, seed=25,max_depth=16, min_child_weight=1, gamma=0.4, subsample=0.9)\n",
    "gsearch_rep_alpha = GridSearchCV(xboost_reg,param_grid=grid,cv=2, verbose=5)\n",
    "gsearch_rep_alpha = gsearch_rep_alpha.fit(X_train, y_train)"
   ]
  },
  {
   "cell_type": "code",
   "execution_count": 22,
   "metadata": {
    "collapsed": true,
    "deletable": true,
    "editable": true
   },
   "outputs": [],
   "source": [
    "Xtrain, Xval, ytrain, yval = train_test_split(X_train, y_train, test_size=0.2, random_state=42)"
   ]
  },
  {
   "cell_type": "code",
   "execution_count": 24,
   "metadata": {
    "collapsed": true,
    "deletable": true,
    "editable": true
   },
   "outputs": [],
   "source": [
    "xgboost = XGBRegressor(base_score=0.5, colsample_bylevel=1, colsample_bytree=0.9,\n",
    "       gamma=0.4, learning_rate=0.1, max_delta_step=0, max_depth=16,\n",
    "       min_child_weight=1, missing=None, n_estimators=100, nthread=-1,\n",
    "       objective='reg:linear', reg_alpha=1e-05, reg_lambda=1,\n",
    "       scale_pos_weight=1, seed=25, silent=True, subsample=0.9)"
   ]
  },
  {
   "cell_type": "code",
   "execution_count": 14,
   "metadata": {
    "collapsed": false,
    "deletable": true,
    "editable": true
   },
   "outputs": [
    {
     "data": {
      "text/plain": [
       "XGBRegressor(base_score=0.5, colsample_bylevel=1, colsample_bytree=0.9,\n",
       "       gamma=0.4, learning_rate=0.1, max_delta_step=0, max_depth=16,\n",
       "       min_child_weight=1, missing=None, n_estimators=100, nthread=-1,\n",
       "       objective='reg:linear', reg_alpha=1e-05, reg_lambda=1,\n",
       "       scale_pos_weight=1, seed=25, silent=True, subsample=0.9)"
      ]
     },
     "execution_count": 14,
     "metadata": {},
     "output_type": "execute_result"
    }
   ],
   "source": [
    "xgboost.fit(Xtrain,ytrain, verbose=5)"
   ]
  },
  {
   "cell_type": "code",
   "execution_count": 12,
   "metadata": {
    "collapsed": false,
    "deletable": true,
    "editable": true
   },
   "outputs": [
    {
     "data": {
      "text/plain": [
       "0.011126221779670487"
      ]
     },
     "execution_count": 12,
     "metadata": {},
     "output_type": "execute_result"
    }
   ],
   "source": [
    "xgboost.score(Xval,yval)"
   ]
  },
  {
   "cell_type": "code",
   "execution_count": 23,
   "metadata": {
    "collapsed": false,
    "deletable": true,
    "editable": true
   },
   "outputs": [
    {
     "data": {
      "text/plain": [
       "0.95853443205956534"
      ]
     },
     "execution_count": 23,
     "metadata": {},
     "output_type": "execute_result"
    }
   ],
   "source": [
    "xgboost.fit(X_train,y_train)\n",
    "xgboost.score(Xval,yval)"
   ]
  },
  {
   "cell_type": "code",
   "execution_count": 25,
   "metadata": {
    "collapsed": false,
    "deletable": true,
    "editable": true
   },
   "outputs": [
    {
     "data": {
      "text/plain": [
       "XGBRegressor(base_score=0.5, colsample_bylevel=1, colsample_bytree=0.9,\n",
       "       gamma=0.4, learning_rate=0.1, max_delta_step=0, max_depth=16,\n",
       "       min_child_weight=1, missing=None, n_estimators=100, nthread=-1,\n",
       "       objective='reg:linear', reg_alpha=1e-05, reg_lambda=1,\n",
       "       scale_pos_weight=1, seed=25, silent=True, subsample=0.9)"
      ]
     },
     "execution_count": 25,
     "metadata": {},
     "output_type": "execute_result"
    }
   ],
   "source": [
    "xgboost.fit(X_train,y_train)"
   ]
  },
  {
   "cell_type": "code",
   "execution_count": 26,
   "metadata": {
    "collapsed": true,
    "deletable": true,
    "editable": true
   },
   "outputs": [],
   "source": [
    "y_pred_xg = xgboost.predict(x_test)"
   ]
  },
  {
   "cell_type": "code",
   "execution_count": 27,
   "metadata": {
    "collapsed": false,
    "deletable": true,
    "editable": true
   },
   "outputs": [
    {
     "data": {
      "text/plain": [
       "array([  302.8024292 ,  1665.38562012,  1850.11914062, ...,  1790.94262695,\n",
       "         261.48266602,   454.54464722], dtype=float32)"
      ]
     },
     "execution_count": 27,
     "metadata": {},
     "output_type": "execute_result"
    }
   ],
   "source": [
    "y_pred_xg"
   ]
  },
  {
   "cell_type": "code",
   "execution_count": 31,
   "metadata": {
    "collapsed": true,
    "deletable": true,
    "editable": true
   },
   "outputs": [],
   "source": [
    "df = pd.DataFrame({\"id\": list(test.index.values), 'duration':y_pred_xg})\n",
    "df = df.set_index('id')\n",
    "df.to_csv(\"~/sampleSubmission.csv\")"
   ]
  }
 ],
 "metadata": {
  "kernelspec": {
   "display_name": "Python 3",
   "language": "python",
   "name": "python3"
  },
  "language_info": {
   "codemirror_mode": {
    "name": "ipython",
    "version": 3
   },
   "file_extension": ".py",
   "mimetype": "text/x-python",
   "name": "python",
   "nbconvert_exporter": "python",
   "pygments_lexer": "ipython3",
   "version": "3.5.3"
  }
 },
 "nbformat": 4,
 "nbformat_minor": 2
}
