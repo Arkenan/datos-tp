{
 "cells": [
  {
   "cell_type": "code",
   "execution_count": 2,
   "metadata": {
    "collapsed": true,
    "deletable": true,
    "editable": true
   },
   "outputs": [],
   "source": [
    "import matplotlib.pyplot as plt\n",
    "import pandas as pd\n",
    "import numpy as np\n",
    "import math"
   ]
  },
  {
   "cell_type": "code",
   "execution_count": 66,
   "metadata": {
    "collapsed": false,
    "deletable": true,
    "editable": true
   },
   "outputs": [],
   "source": [
    "# Cargo el data frame de estaciones\n",
    "estaciones = pd.read_csv('../data/station.csv')\n",
    "estaciones = estaciones.rename(columns={'id':'station_id'})\n",
    "\n",
    "# Cada ciudad esta  vinculado a un zip code\n",
    "zip_codes = {\n",
    "    'Mountain View': 94041,\n",
    "    'Redwood City': 94063,\n",
    "    'San Francisco': 94107,\n",
    "    'Palo Alto': 94301,\n",
    "    'San Jose':95113\n",
    "}\n",
    "\n",
    "# Creo una nueva columna con zip_code de cada estacion\n",
    "estaciones['zip_code'] = estaciones.city.apply(lambda c: zip_codes[c])"
   ]
  },
  {
   "cell_type": "code",
   "execution_count": 78,
   "metadata": {
    "collapsed": true,
    "deletable": true,
    "editable": true
   },
   "outputs": [],
   "source": [
    "# Agrego tres columnas.\n",
    "estaciones[\"max_dist\"] = 0\n",
    "estaciones[\"min_dist\"] = 0\n",
    "estaciones[\"mean_dist\"] = 0"
   ]
  },
  {
   "cell_type": "code",
   "execution_count": 7,
   "metadata": {
    "collapsed": false,
    "deletable": true,
    "editable": true
   },
   "outputs": [],
   "source": [
    "# Vamos a hacer bardo con las fechas. Necesitamos trips. Queremos agregar una columna donde se redondea \n",
    "# a 15 minutos la fecha de llegada.\n",
    "\n",
    "trips = pd.read_csv(\"../data/trip_train.csv\", parse_dates=[\"start_date\", \"end_date\"],\\\n",
    "                    infer_datetime_format=True)"
   ]
  },
  {
   "cell_type": "code",
   "execution_count": 13,
   "metadata": {
    "collapsed": true,
    "deletable": true,
    "editable": true
   },
   "outputs": [],
   "source": [
    "trips[\"round_start\"] = trips.start_date.dt.round(\"30min\")\n",
    "trips[\"round_end\"] = trips.end_date.dt.round(\"30min\")"
   ]
  },
  {
   "cell_type": "code",
   "execution_count": 47,
   "metadata": {
    "collapsed": false,
    "deletable": true,
    "editable": true
   },
   "outputs": [],
   "source": [
    "# Ahora queremos los 10 destinos más populares a las 8.\n",
    "t = pd.datetime(2017,1,1,8,0).time()\n",
    "estaciones = trips[trips.round_start.dt.time == t].end_station_id"
   ]
  },
  {
   "cell_type": "code",
   "execution_count": 48,
   "metadata": {
    "collapsed": false,
    "deletable": true,
    "editable": true
   },
   "outputs": [
    {
     "data": {
      "text/plain": [
       "70    2784\n",
       "65    1982\n",
       "77    1737\n",
       "61    1540\n",
       "51    1407\n",
       "60    1391\n",
       "74    1244\n",
       "55    1181\n",
       "69    1148\n",
       "48    1142\n",
       "Name: end_station_id, dtype: int64"
      ]
     },
     "execution_count": 48,
     "metadata": {},
     "output_type": "execute_result"
    }
   ],
   "source": [
    "estaciones.value_counts().head(10)"
   ]
  },
  {
   "cell_type": "code",
   "execution_count": 82,
   "metadata": {
    "collapsed": false,
    "deletable": true,
    "editable": true,
    "scrolled": true
   },
   "outputs": [],
   "source": [
    "# Listo. Podemos hacer eso para cada hora y guardar todo en un arreglo de 48 lugares.\n",
    "top10 = 48*[0]\n",
    "\n",
    "horas = 0\n",
    "minutos = 0\n",
    "for mediaHora in range(48):\n",
    "    t = pd.datetime(2017,1,1,horas,minutos).time()\n",
    "    # Saco el top10\n",
    "    top10[mediaHora] = trips[trips.round_start.dt.time == t].end_station_id.head(10)\n",
    "    if minutos == 30:\n",
    "        horas+=1\n",
    "        minutos = 0\n",
    "    else:\n",
    "        minutos = 30"
   ]
  },
  {
   "cell_type": "code",
   "execution_count": 84,
   "metadata": {
    "collapsed": false,
    "deletable": true,
    "editable": true,
    "scrolled": true
   },
   "outputs": [],
   "source": [
    "# Ahora que tengo el top10 para cada media hora con su id debería buscar la latitud y longitud de cada uno.\n",
    "for i in range(len(top10)):\n",
    "    top10[i] = pd.DataFrame({\"station_id\": top10[i].values}).merge(estaciones)[[\"lat\",\"long\"]]"
   ]
  },
  {
   "cell_type": "code",
   "execution_count": 127,
   "metadata": {
    "collapsed": false,
    "deletable": true,
    "editable": true
   },
   "outputs": [],
   "source": [
    "# Ponele que funciona. Qué hago ahora que tengo ese dataframe? \n",
    "# Para cada viaje ver que la distancia entre la salida y los top10 que le corresponden a esa hora. \n",
    "# De eso max, min y mean.\n",
    "\n",
    "horas = 0\n",
    "minutos = 0\n",
    "for top10i in top10:\n",
    "    t = pd.datetime(2017,1,1,horas,minutos).time()\n",
    "    # Con cuáles tengo que comparar?\n",
    "    idx_hora = trips.round_start.dt.time == t\n",
    "    # En top10 i tenemos las distintas estaciones. Podemos hacer un for en esas y fue.\n",
    "    for st_id in estaciones.station_id:\n",
    "        idx_id = estaciones.station_id == st_id\n",
    "        reg = estaciones[idx_id]\n",
    "        lat_i = reg.lat.values[0]\n",
    "        long_i = reg.long.values[0]\n",
    "        distancias_i = np.sqrt((lat_i - top10i.lat)**2 + (long_i - top10i.long)**2)\n",
    "        distancias_i = distancias_i[distancias_i > 0]\n",
    "        \n",
    "        estaciones.loc[idx_id, \"max_dist_pop_\" + str(t)] = distancias_i.max()\n",
    "        estaciones.loc[idx_id, \"min_dist_pop_\" + str(t)] = distancias_i.min()\n",
    "        estaciones.loc[idx_id, \"mean_dist_pop_\" + str(t)] = distancias_i.mean()\n",
    "    \n",
    "    if minutos == 30:\n",
    "        horas+=1\n",
    "        minutos = 0\n",
    "    else:\n",
    "        minutos = 30\n",
    "# POSTA: es igual que lo de abajo, pero con un for exterior por hora y filtrando por la misma."
   ]
  },
  {
   "cell_type": "code",
   "execution_count": 110,
   "metadata": {
    "collapsed": false,
    "deletable": true,
    "editable": true
   },
   "outputs": [],
   "source": [
    "# Calculo distancias minima media y maxima de cada una al resto.\n",
    "for st_id in estaciones.station_id:\n",
    "    reg = estaciones[estaciones.station_id == st_id]\n",
    "    lat_i = reg.lat.values[0]\n",
    "    long_i = reg.long.values[0]\n",
    "    distancias_i = np.sqrt((lat_i - estaciones.lat)**2 + (long_i - estaciones.long)**2)\n",
    "    distancias_i = distancias_i[distancias_i > 0]\n",
    "    estaciones.loc[estaciones.station_id == st_id, \"max_dist\"] = distancias_i.max()\n",
    "    estaciones.loc[estaciones.station_id == st_id, \"min_dist\"] = distancias_i.min()\n",
    "    estaciones.loc[estaciones.station_id == st_id, \"mean_dist\"] = distancias_i.mean()"
   ]
  },
  {
   "cell_type": "code",
   "execution_count": 145,
   "metadata": {
    "collapsed": false
   },
   "outputs": [],
   "source": [
    "# Agrego el promedio de duraciones desde cada estación.\n",
    "promedios = trips[[\"start_station_id\", \"duration\"]].groupby(\"start_station_id\").mean().reset_index()\n",
    "promedios = promedios.rename(columns={\"start_station_id\":\"station_id\", \"duration\": \"dur_prom\"})\n",
    "estaciones = estaciones.merge(promedios)"
   ]
  },
  {
   "cell_type": "code",
   "execution_count": 157,
   "metadata": {
    "collapsed": true,
    "deletable": true,
    "editable": true
   },
   "outputs": [],
   "source": [
    "def outliers(viajes):\n",
    "    #Sacamos los outliers\n",
    "    if('duration' in viajes.columns):\n",
    "        viajes = viajes.loc[viajes.duration < viajes.duration.quantile(0.99),:]\n",
    "#         viajes = viajes.loc[viajes.duration > viajes.duration.quantile(0.01),:]\n",
    "        return viajes\n",
    "    else:\n",
    "        return viajes"
   ]
  },
  {
   "cell_type": "code",
   "execution_count": 153,
   "metadata": {
    "collapsed": false,
    "deletable": true,
    "editable": true
   },
   "outputs": [],
   "source": [
    "def add_weather(viajes, soloLluvia = True):\n",
    "    # Merge provisorio con stations para obtener el zip_code\n",
    "    viajes_merged  = pd.merge(viajes, estaciones, left_on='start_station_id', right_on='station_id')\\\n",
    "    .drop(['station_id', 'name', 'installation_date', 'lat', 'long','city','dock_count'], axis=1)\n",
    "    \n",
    "    weather = pd.read_csv('../data/weather.csv',\\\n",
    "                      parse_dates=[\"date\"] ,\\\n",
    "                      infer_datetime_format=True)\n",
    "    \n",
    "    # Events. Ver si da mejor resultado con o sin unir los dos tipos de lluvia.\n",
    "    if soloLluvia:\n",
    "        weather.loc[weather.events.isin(['Rain','Rain-Thunderstorm']), 'events'] = 'rain'\n",
    "        weather.loc[weather.events.isnull(), 'events'] = 'normal'\n",
    "    \n",
    "    weather.precipitation_inches = pd.to_numeric(weather.precipitation_inches, errors='coerse')\n",
    "    weather.precipitation_inches.fillna(0,inplace=True)\n",
    "    weather['date'] = weather['date'].apply(lambda x: x.date())\n",
    "    weather['zip_code'] = weather['zip_code'].astype('int64')\n",
    "    viajes_merged[\"date\"] = viajes_merged[\"start_date\"].apply(lambda x: x.date())\n",
    "    return weather.merge(viajes_merged, on=['date', 'zip_code']).drop(\"zip_code\",axis=1)"
   ]
  },
  {
   "cell_type": "code",
   "execution_count": 154,
   "metadata": {
    "collapsed": true,
    "deletable": true,
    "editable": true
   },
   "outputs": [],
   "source": [
    "def separarFecha(data):\n",
    "    data['year'] = data.start_date.dt.year\n",
    "    data['month'] = data.start_date.dt.month\n",
    "    data['day'] = data.start_date.dt.day\n",
    "    data['week_end'] = data.start_date.dt.dayofweek > 5\n",
    "    data['start_hour'] = data.start_date.dt.hour\n",
    "    data['start_minutes']= data.start_date.dt.minute\n",
    "    #Agrego una dimension con la estacion del año\n",
    "    data['season'] = data.start_date.apply(lambda dt: (dt.month%12 + 3)//3)\n",
    "    return data.drop(\"start_date\", axis=1)"
   ]
  },
  {
   "cell_type": "code",
   "execution_count": 155,
   "metadata": {
    "collapsed": false,
    "deletable": true,
    "editable": true
   },
   "outputs": [],
   "source": [
    "def categorias(data):\n",
    "    for col in ['events', 'subscription_type', 'start_station_id', 'season']:\n",
    "        data[col] = data[col].astype('category')\n",
    "\n",
    "    data = data.set_index('id')\n",
    "    data = data.drop(['date'], axis=1)\n",
    "    # One-hot-encoding: ver la alternativa de sklearn.\n",
    "    for col in data.columns:\n",
    "        if 'category' == str(data[col].dtypes):\n",
    "            data = pd.concat([data, pd.get_dummies(data[col], prefix=col)], axis=1).drop(col, axis=1)\n",
    "    return data"
   ]
  },
  {
   "cell_type": "code",
   "execution_count": 156,
   "metadata": {
    "collapsed": true,
    "deletable": true,
    "editable": true
   },
   "outputs": [],
   "source": [
    "def preproc(archViajes):\n",
    "    data = pd.read_csv(archViajes,\\\n",
    "                    parse_dates=[\"start_date\", \"end_date\"],\\\n",
    "                    infer_datetime_format=True)\n",
    "    data.drop(['end_station_name', 'end_station_id', 'end_date', 'start_station_name','bike_id', 'zip_code'], \\\n",
    "                axis=1, inplace=True)\n",
    "    data = outliers(data)\n",
    "    data = add_weather(data)\n",
    "    data = separarFecha(data)\n",
    "    data = categorias(data)\n",
    "    data.to_csv(archViajes.replace(\"trip\",\"data\"))"
   ]
  },
  {
   "cell_type": "code",
   "execution_count": 159,
   "metadata": {
    "collapsed": true,
    "deletable": true,
    "editable": true
   },
   "outputs": [],
   "source": [
    "arch_train = \"../data/trip_train.csv\"\n",
    "arch_test = \"../data/trip_test.csv\""
   ]
  },
  {
   "cell_type": "code",
   "execution_count": null,
   "metadata": {
    "collapsed": false,
    "deletable": true,
    "editable": true
   },
   "outputs": [],
   "source": [
    "preproc(arch_train)\n",
    "preproc(arch_test)"
   ]
  }
 ],
 "metadata": {
  "kernelspec": {
   "display_name": "Python 3",
   "language": "python",
   "name": "python3"
  },
  "language_info": {
   "codemirror_mode": {
    "name": "ipython",
    "version": 3
   },
   "file_extension": ".py",
   "mimetype": "text/x-python",
   "name": "python",
   "nbconvert_exporter": "python",
   "pygments_lexer": "ipython3",
   "version": "3.5.3"
  }
 },
 "nbformat": 4,
 "nbformat_minor": 2
}
