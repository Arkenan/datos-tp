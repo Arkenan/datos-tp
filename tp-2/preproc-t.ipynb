{
 "cells": [
  {
   "cell_type": "code",
   "execution_count": 1,
   "metadata": {
    "collapsed": true,
    "deletable": true,
    "editable": true
   },
   "outputs": [],
   "source": [
    "import matplotlib.pyplot as plt\n",
    "import pandas as pd\n",
    "import numpy as np\n",
    "import math\n",
    "\n",
    "from sklearn import preprocessing\n",
    "from sklearn.decomposition import TruncatedSVD\n",
    "\n",
    "%matplotlib inline"
   ]
  },
  {
   "cell_type": "code",
   "execution_count": 25,
   "metadata": {
    "collapsed": true,
    "deletable": true,
    "editable": true
   },
   "outputs": [],
   "source": [
    "viajes = pd.read_csv(\"../Data/trip_test.csv\",\\\n",
    "                    parse_dates=[\"start_date\", \"end_date\"],\\\n",
    "                    infer_datetime_format=True)"
   ]
  },
  {
   "cell_type": "code",
   "execution_count": 26,
   "metadata": {
    "collapsed": true,
    "deletable": true,
    "editable": true
   },
   "outputs": [],
   "source": [
    "viajes = viajes.drop(['end_station_name', 'start_station_name','bike_id','zip_code'], axis=1)"
   ]
  },
  {
   "cell_type": "code",
   "execution_count": 27,
   "metadata": {
    "collapsed": true,
    "deletable": true,
    "editable": true
   },
   "outputs": [],
   "source": [
    "#Sacamos los outliers\n",
    "if('duration' in viajes.columns):\n",
    "    viajes = viajes.loc[viajes.duration < viajes.duration.quantile(0.99),:]"
   ]
  },
  {
   "cell_type": "code",
   "execution_count": 28,
   "metadata": {
    "collapsed": true,
    "deletable": true,
    "editable": true
   },
   "outputs": [],
   "source": [
    "#Cargo el data frame de estaciones\n",
    "estaciones = pd.read_csv('../Data/station.csv')\n",
    "estaciones = estaciones.rename(columns={'id':'station_id'})\n",
    "\n",
    "#Cada ciudad esta  vinculado a un zip code\n",
    "zip_codes = {\n",
    "    'Mountain View': 94041,\n",
    "    'Redwood City': 94063,\n",
    "    'San Francisco': 94107,\n",
    "    'Palo Alto': 94301,\n",
    "    'San Jose':95113\n",
    "}\n",
    "\n",
    "#Creo una nueva columna con zip_code de cada estacion\n",
    "estaciones['zip_code'] = estaciones.city.apply(lambda c: zip_codes[c])"
   ]
  },
  {
   "cell_type": "code",
   "execution_count": 29,
   "metadata": {
    "collapsed": true,
    "deletable": true,
    "editable": true
   },
   "outputs": [],
   "source": [
    "#Creamos un diccionario con las distancias euclidias entre las estaciones\n",
    "import math\n",
    "ids = estaciones.station_id\n",
    "stm = estaciones[[\"station_id\", \"lat\", \"long\"]]\n",
    "\n",
    "distancias = {}\n",
    "for id1 in ids:\n",
    "    x = stm.loc[estaciones.station_id == id1,[\"lat\",\"long\"]].values\n",
    "    x = (x[0][0],x[0][1])\n",
    "    for id2 in ids:\n",
    "        y = stm.loc[estaciones.station_id == id2,[\"lat\",\"long\"]].values\n",
    "        y = (y[0][0],y[0][1])\n",
    "        distancias[(id1,id2)] = math.sqrt((x[1]-x[0])**2 + (y[1] - y[0])**2)"
   ]
  },
  {
   "cell_type": "code",
   "execution_count": 30,
   "metadata": {
    "collapsed": true,
    "deletable": true,
    "editable": true
   },
   "outputs": [],
   "source": [
    "#Agregamos una columna con la distancia entre la estacion inicial y la final\n",
    "viajes[\"distancia\"] = viajes.apply(lambda x: distancias[(x.start_station_id,x.end_station_id)],axis=1)"
   ]
  },
  {
   "cell_type": "code",
   "execution_count": 31,
   "metadata": {
    "collapsed": true,
    "deletable": true,
    "editable": true
   },
   "outputs": [],
   "source": [
    "viajes_merged  = pd.merge(viajes,\\\n",
    "                          estaciones[['station_id', 'zip_code']],\\\n",
    "                          left_on='start_station_id',\\\n",
    "                          right_on='station_id').drop(['station_id'], axis=1)"
   ]
  },
  {
   "cell_type": "code",
   "execution_count": 32,
   "metadata": {
    "collapsed": true,
    "deletable": true,
    "editable": true
   },
   "outputs": [],
   "source": [
    "weather = pd.read_csv('../Data/weather.csv',\\\n",
    "                      parse_dates=[\"date\"] ,\\\n",
    "                      infer_datetime_format=True)"
   ]
  },
  {
   "cell_type": "code",
   "execution_count": 33,
   "metadata": {
    "collapsed": true,
    "deletable": true,
    "editable": true
   },
   "outputs": [],
   "source": [
    "weather.loc[weather.events.isin(['Rain','Rain-Thunderstorm']), 'events'] = 'rain'\n",
    "weather.loc[weather.events.isnull(), 'events'] = 'normal'"
   ]
  },
  {
   "cell_type": "code",
   "execution_count": 34,
   "metadata": {
    "collapsed": true,
    "deletable": true,
    "editable": true
   },
   "outputs": [],
   "source": [
    "weather.precipitation_inches = pd.to_numeric(weather.precipitation_inches, errors='coerse')\n",
    "weather.precipitation_inches.fillna(0,inplace=True)\n",
    "weather['date'] = weather['date'].apply(lambda x: x.date())\n",
    "weather['zip_code'] = weather['zip_code'].astype('int64')"
   ]
  },
  {
   "cell_type": "code",
   "execution_count": 35,
   "metadata": {
    "collapsed": true,
    "deletable": true,
    "editable": true
   },
   "outputs": [],
   "source": [
    "viajes_merged[\"date\"] = viajes_merged[\"start_date\"].apply(lambda x: x.date())"
   ]
  },
  {
   "cell_type": "code",
   "execution_count": 36,
   "metadata": {
    "collapsed": true,
    "deletable": true,
    "editable": true
   },
   "outputs": [],
   "source": [
    "data = weather.merge(viajes_merged, on=['date', 'zip_code'])"
   ]
  },
  {
   "cell_type": "code",
   "execution_count": 37,
   "metadata": {
    "collapsed": true,
    "deletable": true,
    "editable": true
   },
   "outputs": [],
   "source": [
    "data['year'] = data.start_date.dt.year\n",
    "data['month'] = data.start_date.dt.month\n",
    "data['day'] = data.start_date.dt.day\n",
    "data['week_end'] = data.start_date.dt.dayofweek > 5\n",
    "\n",
    "data['start_hour'] = data.start_date.dt.hour\n",
    "data['start_minutes']= data.start_date.dt.minute\n",
    "\n",
    "data['end_hour'] = data.end_date.dt.hour\n",
    "data['end_minutes'] = data.end_date.dt.minute"
   ]
  },
  {
   "cell_type": "code",
   "execution_count": 38,
   "metadata": {
    "collapsed": true,
    "deletable": true,
    "editable": true
   },
   "outputs": [],
   "source": [
    "data = data.drop([\"start_date\", \"end_date\", \"zip_code\"], axis=1)"
   ]
  },
  {
   "cell_type": "code",
   "execution_count": 39,
   "metadata": {
    "collapsed": true
   },
   "outputs": [],
   "source": [
    "for col in ['events', 'subscription_type','end_station_id', 'start_station_id']:\n",
    "    data[col] = data[col].astype('category')\n",
    "\n",
    "data = data.set_index('id')\n",
    "data = data.drop(['date'], axis=1)"
   ]
  },
  {
   "cell_type": "markdown",
   "metadata": {},
   "source": [
    "## One-hot Encoding\n",
    "Esto pasa de features categóricas a muchas binarias. No lo haremos para random forest."
   ]
  },
  {
   "cell_type": "code",
   "execution_count": 275,
   "metadata": {
    "collapsed": true,
    "deletable": true,
    "editable": true
   },
   "outputs": [],
   "source": [
    "for col in data.columns:\n",
    "    if 'category' == str(data[col].dtypes):\n",
    "        data = pd.concat([data, pd.get_dummies(data[col],\\\n",
    "                                                         prefix=col,\\\n",
    "                                                         drop_first=True)],\\\n",
    "                                                         axis=1)\n",
    "        data = data.drop(col, axis=1)"
   ]
  },
  {
   "cell_type": "code",
   "execution_count": 40,
   "metadata": {
    "collapsed": false
   },
   "outputs": [
    {
     "data": {
      "text/plain": [
       "max_temperature_f                  float64\n",
       "mean_temperature_f                 float64\n",
       "min_temperature_f                  float64\n",
       "max_dew_point_f                    float64\n",
       "mean_dew_point_f                   float64\n",
       "min_dew_point_f                    float64\n",
       "max_humidity                       float64\n",
       "mean_humidity                      float64\n",
       "min_humidity                       float64\n",
       "max_sea_level_pressure_inches      float64\n",
       "mean_sea_level_pressure_inches     float64\n",
       "min_sea_level_pressure_inches      float64\n",
       "max_visibility_miles               float64\n",
       "mean_visibility_miles              float64\n",
       "min_visibility_miles               float64\n",
       "max_wind_Speed_mph                 float64\n",
       "mean_wind_speed_mph                float64\n",
       "max_gust_speed_mph                 float64\n",
       "precipitation_inches               float64\n",
       "cloud_cover                        float64\n",
       "events                            category\n",
       "wind_dir_degrees                   float64\n",
       "start_station_id                  category\n",
       "end_station_id                    category\n",
       "subscription_type                 category\n",
       "distancia                          float64\n",
       "year                                 int64\n",
       "month                                int64\n",
       "day                                  int64\n",
       "week_end                              bool\n",
       "start_hour                           int64\n",
       "start_minutes                        int64\n",
       "end_hour                             int64\n",
       "end_minutes                          int64\n",
       "dtype: object"
      ]
     },
     "execution_count": 40,
     "metadata": {},
     "output_type": "execute_result"
    }
   ],
   "source": [
    "data.dtypes"
   ]
  },
  {
   "cell_type": "code",
   "execution_count": 23,
   "metadata": {
    "collapsed": false
   },
   "outputs": [
    {
     "data": {
      "text/plain": [
       "5.0    92150\n",
       "4.0    81598\n",
       "1.0    68901\n",
       "6.0    67516\n",
       "3.0    61704\n",
       "2.0    56084\n",
       "0.0    55806\n",
       "7.0    44340\n",
       "8.0    16351\n",
       "Name: cloud_cover, dtype: int64"
      ]
     },
     "execution_count": 23,
     "metadata": {},
     "output_type": "execute_result"
    }
   ],
   "source": [
    "data.cloud_cover.value_counts()"
   ]
  },
  {
   "cell_type": "code",
   "execution_count": 41,
   "metadata": {
    "collapsed": true,
    "deletable": true,
    "editable": true
   },
   "outputs": [],
   "source": [
    "data.to_csv(\"../Data/test_rf.csv\")"
   ]
  },
  {
   "cell_type": "markdown",
   "metadata": {},
   "source": [
    "## Random Forest\n",
    "Prueba de Random forest en el set de training con info categórica (sin one-hot y sin scaling!)."
   ]
  },
  {
   "cell_type": "code",
   "execution_count": null,
   "metadata": {
    "collapsed": true
   },
   "outputs": [],
   "source": []
  },
  {
   "cell_type": "code",
   "execution_count": null,
   "metadata": {
    "collapsed": true
   },
   "outputs": [],
   "source": []
  },
  {
   "cell_type": "code",
   "execution_count": null,
   "metadata": {
    "collapsed": true
   },
   "outputs": [],
   "source": []
  }
 ],
 "metadata": {
  "kernelspec": {
   "display_name": "Python 3",
   "language": "python",
   "name": "python3"
  },
  "language_info": {
   "codemirror_mode": {
    "name": "ipython",
    "version": 3
   },
   "file_extension": ".py",
   "mimetype": "text/x-python",
   "name": "python",
   "nbconvert_exporter": "python",
   "pygments_lexer": "ipython3",
   "version": "3.5.3"
  }
 },
 "nbformat": 4,
 "nbformat_minor": 2
}
