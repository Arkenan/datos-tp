{
 "cells": [
  {
   "cell_type": "code",
   "execution_count": 57,
   "metadata": {
    "collapsed": true,
    "deletable": true,
    "editable": true
   },
   "outputs": [],
   "source": [
    "import matplotlib.pyplot as plt\n",
    "import pandas as pd\n",
    "import numpy as np\n",
    "import math\n",
    "\n",
    "from sklearn import preprocessing\n",
    "from sklearn.decomposition import TruncatedSVD\n",
    "\n",
    "%matplotlib inline"
   ]
  },
  {
   "cell_type": "code",
   "execution_count": 58,
   "metadata": {
    "collapsed": false,
    "deletable": true,
    "editable": true
   },
   "outputs": [],
   "source": [
    "# Cargo el data frame de estaciones\n",
    "estaciones = pd.read_csv('../data/station.csv')\n",
    "estaciones = estaciones.rename(columns={'id':'station_id'})\n",
    "\n",
    "# Cada ciudad esta  vinculado a un zip code\n",
    "zip_codes = {\n",
    "    'Mountain View': 94041,\n",
    "    'Redwood City': 94063,\n",
    "    'San Francisco': 94107,\n",
    "    'Palo Alto': 94301,\n",
    "    'San Jose':95113\n",
    "}\n",
    "\n",
    "# Creo una nueva columna con zip_code de cada estacion\n",
    "estaciones['zip_code'] = estaciones.city.apply(lambda c: zip_codes[c])"
   ]
  },
  {
   "cell_type": "code",
   "execution_count": 59,
   "metadata": {
    "collapsed": true,
    "deletable": true,
    "editable": true
   },
   "outputs": [],
   "source": [
    "def outliers(viajes):\n",
    "    #Sacamos los outliers\n",
    "    if('duration' in viajes.columns):\n",
    "        return viajes.loc[viajes.duration < viajes.duration.quantile(0.99),:]\n",
    "    else:\n",
    "        return viajes"
   ]
  },
  {
   "cell_type": "code",
   "execution_count": 60,
   "metadata": {
    "collapsed": false,
    "deletable": true,
    "editable": true
   },
   "outputs": [],
   "source": [
    "def add_weather(viajes, soloLluvia = True):\n",
    "    # Merge provisorio con stations para obtener el zip_code\n",
    "    viajes_merged  = pd.merge(viajes,\\\n",
    "                              estaciones[['station_id', 'zip_code']],\\\n",
    "                              left_on='start_station_id',\\\n",
    "                              right_on='station_id').drop(['station_id'], axis=1)\n",
    "    weather = pd.read_csv('../data/weather.csv',\\\n",
    "                      parse_dates=[\"date\"] ,\\\n",
    "                      infer_datetime_format=True)\n",
    "    \n",
    "    # Events. Ver si da mejor resultado con o sin unir los dos tipos de lluvia.\n",
    "    if soloLluvia:\n",
    "        weather.loc[weather.events.isin(['Rain','Rain-Thunderstorm']), 'events'] = 'rain'\n",
    "        weather.loc[weather.events.isnull(), 'events'] = 'normal'\n",
    "    \n",
    "    weather.precipitation_inches = pd.to_numeric(weather.precipitation_inches, errors='coerse')\n",
    "    weather.precipitation_inches.fillna(0,inplace=True)\n",
    "    weather['date'] = weather['date'].apply(lambda x: x.date())\n",
    "    weather['zip_code'] = weather['zip_code'].astype('int64')\n",
    "    viajes_merged[\"date\"] = viajes_merged[\"start_date\"].apply(lambda x: x.date())\n",
    "    return weather.merge(viajes_merged, on=['date', 'zip_code']).drop(\"zip_code\",axis=1)"
   ]
  },
  {
   "cell_type": "code",
   "execution_count": 67,
   "metadata": {
    "collapsed": true,
    "deletable": true,
    "editable": true
   },
   "outputs": [],
   "source": [
    "def separarFecha(data):\n",
    "    data['year'] = data.start_date.dt.year\n",
    "    data['month'] = data.start_date.dt.month\n",
    "    data['day'] = data.start_date.dt.day\n",
    "    data['week_end'] = data.start_date.dt.dayofweek > 5\n",
    "    data['start_hour'] = data.start_date.dt.hour\n",
    "    data['start_minutes']= data.start_date.dt.minute\n",
    "    return data.drop(\"start_date\", axis=1)"
   ]
  },
  {
   "cell_type": "code",
   "execution_count": 62,
   "metadata": {
    "collapsed": true,
    "deletable": true,
    "editable": true
   },
   "outputs": [],
   "source": [
    "def categorias(data):\n",
    "    for col in ['events', 'subscription_type', 'start_station_id']:\n",
    "        data[col] = data[col].astype('category')\n",
    "\n",
    "    data = data.set_index('id')\n",
    "    data = data.drop(['date'], axis=1)\n",
    "    # One-hot-encoding: ver la alternativa de sklearn.\n",
    "    for col in data.columns:\n",
    "        if 'category' == str(data[col].dtypes):\n",
    "            data = pd.concat([data, pd.get_dummies(data[col],\\\n",
    "                                                             prefix=col,\\\n",
    "                                                             drop_first=True)],\\\n",
    "                                                             axis=1)\n",
    "            data = data.drop(col, axis=1)\n",
    "    return data"
   ]
  },
  {
   "cell_type": "code",
   "execution_count": 63,
   "metadata": {
    "collapsed": true,
    "deletable": true,
    "editable": true
   },
   "outputs": [],
   "source": [
    "def preproc(archViajes):\n",
    "    data = pd.read_csv(archViajes,\\\n",
    "                    parse_dates=[\"start_date\", \"end_date\"],\\\n",
    "                    infer_datetime_format=True)\n",
    "    data.drop(['end_station_name', 'end_station_id', 'end_date', 'start_station_name','bike_id', 'zip_code'], \\\n",
    "                axis=1, inplace=True)\n",
    "    data = outliers(data)\n",
    "    data = add_weather(data)\n",
    "    data = separarFecha(data)\n",
    "    data = categorias(data)\n",
    "    data.to_csv(archViajes.replace(\"trip\",\"data\"))"
   ]
  },
  {
   "cell_type": "code",
   "execution_count": 64,
   "metadata": {
    "collapsed": true
   },
   "outputs": [],
   "source": [
    "arch_train = \"../data/trip_train.csv\"\n",
    "arch_test = \"../data/trip_test.csv\""
   ]
  },
  {
   "cell_type": "code",
   "execution_count": 68,
   "metadata": {
    "collapsed": false,
    "deletable": true,
    "editable": true
   },
   "outputs": [],
   "source": [
    "preproc(arch_train)\n",
    "preproc(arch_test)"
   ]
  }
 ],
 "metadata": {
  "kernelspec": {
   "display_name": "Python 3",
   "language": "python",
   "name": "python3"
  },
  "language_info": {
   "codemirror_mode": {
    "name": "ipython",
    "version": 3
   },
   "file_extension": ".py",
   "mimetype": "text/x-python",
   "name": "python",
   "nbconvert_exporter": "python",
   "pygments_lexer": "ipython3",
   "version": "3.5.3"
  }
 },
 "nbformat": 4,
 "nbformat_minor": 2
}
