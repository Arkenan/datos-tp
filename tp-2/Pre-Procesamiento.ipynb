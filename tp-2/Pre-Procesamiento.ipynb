{
 "cells": [
  {
   "cell_type": "code",
   "execution_count": 62,
   "metadata": {
    "collapsed": true,
    "deletable": true,
    "editable": true
   },
   "outputs": [],
   "source": [
    "import matplotlib.pyplot as plt\n",
    "import pandas as pd\n",
    "import numpy as np\n",
    "import math\n",
    "\n",
    "%matplotlib inline"
   ]
  },
  {
   "cell_type": "code",
   "execution_count": 63,
   "metadata": {
    "collapsed": true,
    "deletable": true,
    "editable": true
   },
   "outputs": [],
   "source": [
    "pathTrips = \"../Data/trip_test.csv\"\n",
    "dates     = [\"start_date\"]\n",
    "cols = ['id','start_date','start_station_id','subscription_type']\n",
    "\n",
    "viajes = pd.read_csv(pathTrips,\\\n",
    "                     parse_dates=dates,\\\n",
    "                     usecols=cols,\n",
    "                     infer_datetime_format=True)"
   ]
  },
  {
   "cell_type": "code",
   "execution_count": 64,
   "metadata": {
    "collapsed": true,
    "deletable": true,
    "editable": true
   },
   "outputs": [],
   "source": [
    "#Sacamos los outliers\n",
    "if('duration' in viajes.columns):\n",
    "     viajes = viajes.loc[viajes.duration < viajes.duration.quantile(0.99),:]"
   ]
  },
  {
   "cell_type": "code",
   "execution_count": 65,
   "metadata": {
    "collapsed": true,
    "deletable": true,
    "editable": true
   },
   "outputs": [],
   "source": [
    "#Cargo el data frame de estaciones\n",
    "cols = ['id', 'city']\n",
    "estaciones = pd.read_csv('../Data/station.csv',\\\n",
    "                         usecols=cols).rename(columns={'id':'station_id'})\n",
    "\n",
    "#Cada ciudad esta  vinculado a un zip code\n",
    "zip_codes = {\n",
    "    'Mountain View': 94041,\n",
    "    'Redwood City': 94063,\n",
    "    'San Francisco': 94107,\n",
    "    'Palo Alto': 94301,\n",
    "    'San Jose':95113\n",
    "}\n",
    "\n",
    "#Creo una nueva columna con zip_code de cada estacion\n",
    "estaciones['zip_code'] = estaciones.city.apply(lambda c: zip_codes[c])"
   ]
  },
  {
   "cell_type": "code",
   "execution_count": 66,
   "metadata": {
    "collapsed": true,
    "deletable": true,
    "editable": true
   },
   "outputs": [],
   "source": [
    "viajes  = pd.merge(viajes,\\\n",
    "                   estaciones[['station_id', 'zip_code']],\\\n",
    "                   left_on='start_station_id',\\\n",
    "                   right_on='station_id').drop(['station_id'], axis=1)"
   ]
  },
  {
   "cell_type": "code",
   "execution_count": 67,
   "metadata": {
    "collapsed": true,
    "deletable": true,
    "editable": true
   },
   "outputs": [],
   "source": [
    "weather = pd.read_csv('../Data/weather.csv',\\\n",
    "                      parse_dates=[\"date\"] ,\\\n",
    "                      infer_datetime_format=True)"
   ]
  },
  {
   "cell_type": "code",
   "execution_count": 68,
   "metadata": {
    "collapsed": true,
    "deletable": true,
    "editable": true
   },
   "outputs": [],
   "source": [
    "weather.loc[weather.events.isin(['rain']), 'events'] = 'Rain'\n",
    "weather.loc[weather.events.isnull(), 'events'] = 'normal'"
   ]
  },
  {
   "cell_type": "code",
   "execution_count": 69,
   "metadata": {
    "collapsed": true,
    "deletable": true,
    "editable": true
   },
   "outputs": [],
   "source": [
    "weather.precipitation_inches = pd.to_numeric(weather.precipitation_inches, errors='coerse')\n",
    "weather.precipitation_inches.fillna(0,inplace=True)\n",
    "weather['date'] = weather['date'].apply(lambda x: x.date())\n",
    "weather['zip_code'] = weather['zip_code'].astype('int64')"
   ]
  },
  {
   "cell_type": "code",
   "execution_count": 70,
   "metadata": {
    "collapsed": true,
    "deletable": true,
    "editable": true
   },
   "outputs": [],
   "source": [
    "viajes[\"date\"] = viajes[\"start_date\"].apply(lambda x: x.date())"
   ]
  },
  {
   "cell_type": "code",
   "execution_count": 71,
   "metadata": {
    "collapsed": true,
    "deletable": true,
    "editable": true
   },
   "outputs": [],
   "source": [
    "data = weather.merge(viajes, on=['date', 'zip_code'])"
   ]
  },
  {
   "cell_type": "code",
   "execution_count": 72,
   "metadata": {
    "collapsed": true,
    "deletable": true,
    "editable": true
   },
   "outputs": [],
   "source": [
    "#Agrego una dimension con la estacion del año\n",
    "data['season'] = data.start_date.apply(lambda dt: (dt.month%12 + 3)//3)\n",
    "\n",
    "#Agrego una dimension con la hora que se aquilo la bicicleta\n",
    "data['hour'] = data.start_date.dt.hour\n",
    "\n",
    "#Agrego una dimension que diferencia los alquileres en base a si es o no fin de semana\n",
    "data['week_end'] = data.start_date.dt.day > 5"
   ]
  },
  {
   "cell_type": "code",
   "execution_count": 73,
   "metadata": {
    "collapsed": true,
    "deletable": true,
    "editable": true
   },
   "outputs": [],
   "source": [
    "data = data.drop([\"start_date\", \"date\"], axis=1)"
   ]
  },
  {
   "cell_type": "code",
   "execution_count": 74,
   "metadata": {
    "collapsed": true,
    "deletable": true,
    "editable": true
   },
   "outputs": [],
   "source": [
    "for col in ['events', 'subscription_type', \"zip_code\", \"season\", 'start_station_id']:\n",
    "    data[col] = data[col].astype('category')"
   ]
  },
  {
   "cell_type": "code",
   "execution_count": 75,
   "metadata": {
    "collapsed": true,
    "deletable": true,
    "editable": true
   },
   "outputs": [],
   "source": [
    "data = data.set_index('id')"
   ]
  },
  {
   "cell_type": "code",
   "execution_count": 76,
   "metadata": {
    "collapsed": true,
    "deletable": true,
    "editable": true
   },
   "outputs": [],
   "source": [
    "for col in data.columns:\n",
    "    if 'category' == str(data[col].dtypes):\n",
    "        data = pd.concat([data, pd.get_dummies(data[col],prefix=col)],axis=1).drop(col, axis=1)"
   ]
  },
  {
   "cell_type": "code",
   "execution_count": 77,
   "metadata": {
    "collapsed": true,
    "deletable": true,
    "editable": true
   },
   "outputs": [],
   "source": [
    "data.to_csv(\"../Data/test.csv\")"
   ]
  }
 ],
 "metadata": {
  "kernelspec": {
   "display_name": "Python 2",
   "language": "python",
   "name": "python2"
  },
  "language_info": {
   "codemirror_mode": {
    "name": "ipython",
    "version": 2
   },
   "file_extension": ".py",
   "mimetype": "text/x-python",
   "name": "python",
   "nbconvert_exporter": "python",
   "pygments_lexer": "ipython2",
   "version": "2.7.12"
  }
 },
 "nbformat": 4,
 "nbformat_minor": 2
}
