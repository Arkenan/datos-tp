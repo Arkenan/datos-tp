{
 "cells": [
  {
   "cell_type": "code",
   "execution_count": 1,
   "metadata": {
    "collapsed": true
   },
   "outputs": [],
   "source": [
    "import pandas as pd\n",
    "import numpy as np\n",
    "from sklearn import preprocessing\n",
    "from sklearn.model_selection import train_test_split,cross_val_score\n",
    "from sklearn.metrics import mean_squared_error, mean_absolute_error, median_absolute_error\n",
    "from sklearn.ensemble import RandomForestRegressor,AdaBoostRegressor,GradientBoostingRegressor\n",
    "from sklearn.model_selection import GridSearchCV\n",
    "from sklearn.tree import DecisionTreeRegressor"
   ]
  },
  {
   "cell_type": "code",
   "execution_count": 8,
   "metadata": {
    "collapsed": true
   },
   "outputs": [],
   "source": [
    "test = pd.read_csv(\"../Data/test.csv\").set_index('id')\n",
    "train = pd.read_csv(\"../Data/train.csv\").set_index('id')"
   ]
  },
  {
   "cell_type": "code",
   "execution_count": 9,
   "metadata": {
    "collapsed": true
   },
   "outputs": [],
   "source": [
    "trips = pd.read_csv('../Data/trip.csv')"
   ]
  },
  {
   "cell_type": "code",
   "execution_count": 10,
   "metadata": {
    "collapsed": true
   },
   "outputs": [],
   "source": [
    "valoresReales = trips.loc[trips.id.isin(test.index), ['id','duration']]\n",
    "valoresReales = valoresReales.set_index('id')"
   ]
  },
  {
   "cell_type": "code",
   "execution_count": 11,
   "metadata": {
    "collapsed": true
   },
   "outputs": [],
   "source": [
    "def Score(pred):\n",
    "    return mean_squared_error(valoresReales.duration.values, pred)"
   ]
  },
  {
   "cell_type": "code",
   "execution_count": 12,
   "metadata": {
    "collapsed": true
   },
   "outputs": [],
   "source": [
    "y_train = train.duration.values\n",
    "X_train = train.drop('duration',axis=1)"
   ]
  },
  {
   "cell_type": "code",
   "execution_count": 13,
   "metadata": {
    "collapsed": true
   },
   "outputs": [],
   "source": [
    "x_test = test.copy()"
   ]
  },
  {
   "cell_type": "code",
   "execution_count": 14,
   "metadata": {
    "collapsed": true
   },
   "outputs": [],
   "source": [
    "imputer = preprocessing.Imputer(missing_values='NaN', strategy='mean', axis=0)\n",
    "X_train = imputer.fit_transform(X_train)"
   ]
  },
  {
   "cell_type": "code",
   "execution_count": 15,
   "metadata": {
    "collapsed": true
   },
   "outputs": [],
   "source": [
    "imputer = preprocessing.Imputer(missing_values='NaN', strategy='mean', axis=0)\n",
    "x_test = imputer.fit_transform(x_test)"
   ]
  },
  {
   "cell_type": "code",
   "execution_count": 16,
   "metadata": {
    "collapsed": true
   },
   "outputs": [],
   "source": [
    "scaler = preprocessing.StandardScaler().fit(X_train)\n",
    "X_train = scaler.transform(X_train) # devuelve una matriz\n",
    "x_test = scaler.transform(x_test)"
   ]
  },
  {
   "cell_type": "code",
   "execution_count": 17,
   "metadata": {
    "collapsed": true
   },
   "outputs": [],
   "source": [
    "X_train = preprocessing.normalize(X_train,norm='l1')\n",
    "x_test = preprocessing.normalize(x_test,norm='l1')"
   ]
  },
  {
   "cell_type": "code",
   "execution_count": null,
   "metadata": {
    "collapsed": true
   },
   "outputs": [],
   "source": [
    "U,E,V = np.linalg.svd(X_train,full_matrices=0)"
   ]
  },
  {
   "cell_type": "code",
   "execution_count": null,
   "metadata": {
    "collapsed": true
   },
   "outputs": [],
   "source": [
    "plt.figure(figsize=(8,8))\n",
    "plt.xlabel(\"# valor singular\")\n",
    "plt.ylabel('Valor singular')\n",
    "plt.title(\"Energia de la matriz\")\n",
    "plt.plot(s[1:10])\n",
    "plt.show()"
   ]
  },
  {
   "cell_type": "code",
   "execution_count": null,
   "metadata": {
    "collapsed": true
   },
   "outputs": [],
   "source": [
    "svd = TruncatedSVD(n_components=5,n_iter=7, random_state=42)\n",
    "truncated_svd_aprox = svd.fit_transform(X_train)"
   ]
  },
  {
   "cell_type": "code",
   "execution_count": null,
   "metadata": {
    "collapsed": true
   },
   "outputs": [],
   "source": [
    "svd = TruncatedSVD(n_components=5, n_iter=7, random_state=42)\n",
    "x_test = svd.fit_transform(x_test)"
   ]
  },
  {
   "cell_type": "markdown",
   "metadata": {},
   "source": [
    "### Random Forest"
   ]
  },
  {
   "cell_type": "code",
   "execution_count": 12,
   "metadata": {
    "collapsed": true
   },
   "outputs": [],
   "source": [
    "randomForest = RandomForestRegressor(bootstrap=True)\n",
    "randomForest = randomForest.fit(X_train, y_train)\n",
    "y_pred = randomForest.predict(x_test)"
   ]
  },
  {
   "cell_type": "code",
   "execution_count": 19,
   "metadata": {
    "collapsed": true
   },
   "outputs": [],
   "source": [
    "df = pd.DataFrame({\"id\": list(test.index.values), 'duration':y_pred})\n",
    "df = df.set_index('id')"
   ]
  },
  {
   "cell_type": "code",
   "execution_count": 68,
   "metadata": {},
   "outputs": [
    {
     "name": "stdout",
     "output_type": "stream",
     "text": [
      "44697751.227\n"
     ]
    }
   ],
   "source": [
    "print(Score(y_pred))"
   ]
  },
  {
   "cell_type": "markdown",
   "metadata": {},
   "source": [
    "### Ada Boost Regressor"
   ]
  },
  {
   "cell_type": "code",
   "execution_count": 66,
   "metadata": {
    "collapsed": true
   },
   "outputs": [],
   "source": [
    "tree = DecisionTreeRegressor(max_depth=4)\n",
    "tree = tree.fit(X_train, y_train)\n",
    "y_pred_one_tree = tree.predict(x_test)"
   ]
  },
  {
   "cell_type": "code",
   "execution_count": 69,
   "metadata": {},
   "outputs": [
    {
     "name": "stdout",
     "output_type": "stream",
     "text": [
      "43450282.4225\n"
     ]
    }
   ],
   "source": [
    "print(Score(y_pred_one_tree))"
   ]
  },
  {
   "cell_type": "code",
   "execution_count": 72,
   "metadata": {
    "collapsed": true
   },
   "outputs": [],
   "source": [
    "adaBoost = AdaBoostRegressor(DecisionTreeRegressor(max_depth=4),\n",
    "                          n_estimators=10)\n",
    "\n",
    "adaBoost = adaBoost.fit(X_train, y_train)\n",
    "y_pred_ada_Boost = adaBoost.predict(x_test)"
   ]
  },
  {
   "cell_type": "code",
   "execution_count": 73,
   "metadata": {},
   "outputs": [
    {
     "name": "stdout",
     "output_type": "stream",
     "text": [
      "44001339.1643\n"
     ]
    }
   ],
   "source": [
    "print(Score(y_pred_ada_Boost))"
   ]
  },
  {
   "cell_type": "markdown",
   "metadata": {},
   "source": [
    "### Gradient Boosting Regressor"
   ]
  },
  {
   "cell_type": "code",
   "execution_count": 76,
   "metadata": {
    "collapsed": true
   },
   "outputs": [],
   "source": [
    "gradBoost = GradientBoostingRegressor()\n",
    "gradBoost = gradBoost.fit(X_train, y_train)\n",
    "y_pred_gradBoost = gradBoost.predict(x_test)"
   ]
  },
  {
   "cell_type": "code",
   "execution_count": 77,
   "metadata": {},
   "outputs": [
    {
     "name": "stdout",
     "output_type": "stream",
     "text": [
      "44677995.9943\n"
     ]
    }
   ],
   "source": [
    "print(Score(y_pred_gradBoost))"
   ]
  },
  {
   "cell_type": "markdown",
   "metadata": {},
   "source": [
    "#### Vamos a buscar los mejores Hiper Parametros de Gradient Boosting"
   ]
  },
  {
   "cell_type": "code",
   "execution_count": 83,
   "metadata": {},
   "outputs": [
    {
     "name": "stdout",
     "output_type": "stream",
     "text": [
      "Fitting 3 folds for each of 7 candidates, totalling 21 fits\n",
      "[CV] n_estimators=20 .................................................\n",
      "[CV] .................. n_estimators=20, score=0.245351, total= 2.7min\n",
      "[CV] n_estimators=20 .................................................\n"
     ]
    },
    {
     "name": "stderr",
     "output_type": "stream",
     "text": [
      "[Parallel(n_jobs=1)]: Done   1 out of   1 | elapsed:  2.7min remaining:    0.0s\n"
     ]
    },
    {
     "name": "stdout",
     "output_type": "stream",
     "text": [
      "[CV] .................. n_estimators=20, score=0.263975, total=  49.1s\n",
      "[CV] n_estimators=20 .................................................\n"
     ]
    },
    {
     "name": "stderr",
     "output_type": "stream",
     "text": [
      "[Parallel(n_jobs=1)]: Done   2 out of   2 | elapsed:  3.5min remaining:    0.0s\n"
     ]
    },
    {
     "name": "stdout",
     "output_type": "stream",
     "text": [
      "[CV] .................. n_estimators=20, score=0.271373, total=  50.1s\n",
      "[CV] n_estimators=30 .................................................\n"
     ]
    },
    {
     "name": "stderr",
     "output_type": "stream",
     "text": [
      "[Parallel(n_jobs=1)]: Done   3 out of   3 | elapsed:  4.3min remaining:    0.0s\n"
     ]
    },
    {
     "name": "stdout",
     "output_type": "stream",
     "text": [
      "[CV] .................. n_estimators=30, score=0.308113, total= 1.1min\n",
      "[CV] n_estimators=30 .................................................\n"
     ]
    },
    {
     "name": "stderr",
     "output_type": "stream",
     "text": [
      "[Parallel(n_jobs=1)]: Done   4 out of   4 | elapsed:  5.5min remaining:    0.0s\n"
     ]
    },
    {
     "name": "stdout",
     "output_type": "stream",
     "text": [
      "[CV] .................. n_estimators=30, score=0.335873, total= 1.3min\n",
      "[CV] n_estimators=30 .................................................\n",
      "[CV] .................. n_estimators=30, score=0.316534, total= 1.3min\n",
      "[CV] n_estimators=40 .................................................\n",
      "[CV] .................. n_estimators=40, score=0.343733, total= 1.4min\n",
      "[CV] n_estimators=40 .................................................\n",
      "[CV] .................. n_estimators=40, score=0.381781, total= 1.6min\n",
      "[CV] n_estimators=40 .................................................\n",
      "[CV] .................. n_estimators=40, score=0.364624, total= 2.0min\n",
      "[CV] n_estimators=50 .................................................\n",
      "[CV] .................. n_estimators=50, score=0.375830, total= 1.9min\n",
      "[CV] n_estimators=50 .................................................\n",
      "[CV] .................. n_estimators=50, score=0.413351, total= 1.9min\n",
      "[CV] n_estimators=50 .................................................\n",
      "[CV] .................. n_estimators=50, score=0.391150, total= 1.8min\n",
      "[CV] n_estimators=60 .................................................\n",
      "[CV] .................. n_estimators=60, score=0.389878, total= 2.0min\n",
      "[CV] n_estimators=60 .................................................\n",
      "[CV] .................. n_estimators=60, score=0.433891, total= 2.2min\n",
      "[CV] n_estimators=60 .................................................\n",
      "[CV] .................. n_estimators=60, score=0.414304, total= 2.2min\n",
      "[CV] n_estimators=70 .................................................\n",
      "[CV] .................. n_estimators=70, score=0.413882, total= 2.4min\n",
      "[CV] n_estimators=70 .................................................\n",
      "[CV] .................. n_estimators=70, score=0.444897, total= 2.3min\n",
      "[CV] n_estimators=70 .................................................\n",
      "[CV] .................. n_estimators=70, score=0.426284, total= 2.4min\n",
      "[CV] n_estimators=80 .................................................\n",
      "[CV] .................. n_estimators=80, score=0.443878, total= 2.7min\n",
      "[CV] n_estimators=80 .................................................\n",
      "[CV] .................. n_estimators=80, score=0.465223, total= 2.7min\n",
      "[CV] n_estimators=80 .................................................\n",
      "[CV] .................. n_estimators=80, score=0.442985, total= 2.7min\n"
     ]
    },
    {
     "name": "stderr",
     "output_type": "stream",
     "text": [
      "[Parallel(n_jobs=1)]: Done  21 out of  21 | elapsed: 40.7min finished\n"
     ]
    },
    {
     "ename": "KeyboardInterrupt",
     "evalue": "",
     "output_type": "error",
     "traceback": [
      "\u001b[0;31m---------------------------------------------------------------------------\u001b[0m",
      "\u001b[0;31mKeyboardInterrupt\u001b[0m                         Traceback (most recent call last)",
      "\u001b[0;32m<ipython-input-83-352224e4010a>\u001b[0m in \u001b[0;36m<module>\u001b[0;34m()\u001b[0m\n\u001b[1;32m      5\u001b[0m \u001b[0mgsearch1\u001b[0m \u001b[0;34m=\u001b[0m \u001b[0mGridSearchCV\u001b[0m\u001b[0;34m(\u001b[0m\u001b[0mestimator\u001b[0m \u001b[0;34m=\u001b[0m \u001b[0mreg\u001b[0m\u001b[0;34m,\u001b[0m                        \u001b[0mparam_grid\u001b[0m \u001b[0;34m=\u001b[0m \u001b[0mparam_grid\u001b[0m\u001b[0;34m,\u001b[0m                        \u001b[0miid\u001b[0m\u001b[0;34m=\u001b[0m\u001b[0mFalse\u001b[0m\u001b[0;34m,\u001b[0m                        \u001b[0mcv\u001b[0m\u001b[0;34m=\u001b[0m\u001b[0;36m3\u001b[0m\u001b[0;34m,\u001b[0m                        \u001b[0mverbose\u001b[0m\u001b[0;34m=\u001b[0m\u001b[0;36m5\u001b[0m\u001b[0;34m,\u001b[0m                       \u001b[0;34m)\u001b[0m\u001b[0;34m\u001b[0m\u001b[0m\n\u001b[1;32m      6\u001b[0m \u001b[0;34m\u001b[0m\u001b[0m\n\u001b[0;32m----> 7\u001b[0;31m \u001b[0mgsearch1\u001b[0m\u001b[0;34m.\u001b[0m\u001b[0mfit\u001b[0m\u001b[0;34m(\u001b[0m\u001b[0mX_train\u001b[0m\u001b[0;34m,\u001b[0m\u001b[0my_train\u001b[0m\u001b[0;34m)\u001b[0m\u001b[0;34m\u001b[0m\u001b[0m\n\u001b[0m",
      "\u001b[0;32m/home/francisco/venv/data-science/local/lib/python2.7/site-packages/sklearn/model_selection/_search.pyc\u001b[0m in \u001b[0;36mfit\u001b[0;34m(self, X, y, groups)\u001b[0m\n\u001b[1;32m    943\u001b[0m             \u001b[0mtrain\u001b[0m\u001b[0;34m/\u001b[0m\u001b[0mtest\u001b[0m \u001b[0mset\u001b[0m\u001b[0;34m.\u001b[0m\u001b[0;34m\u001b[0m\u001b[0m\n\u001b[1;32m    944\u001b[0m         \"\"\"\n\u001b[0;32m--> 945\u001b[0;31m         \u001b[0;32mreturn\u001b[0m \u001b[0mself\u001b[0m\u001b[0;34m.\u001b[0m\u001b[0m_fit\u001b[0m\u001b[0;34m(\u001b[0m\u001b[0mX\u001b[0m\u001b[0;34m,\u001b[0m \u001b[0my\u001b[0m\u001b[0;34m,\u001b[0m \u001b[0mgroups\u001b[0m\u001b[0;34m,\u001b[0m \u001b[0mParameterGrid\u001b[0m\u001b[0;34m(\u001b[0m\u001b[0mself\u001b[0m\u001b[0;34m.\u001b[0m\u001b[0mparam_grid\u001b[0m\u001b[0;34m)\u001b[0m\u001b[0;34m)\u001b[0m\u001b[0;34m\u001b[0m\u001b[0m\n\u001b[0m\u001b[1;32m    946\u001b[0m \u001b[0;34m\u001b[0m\u001b[0m\n\u001b[1;32m    947\u001b[0m \u001b[0;34m\u001b[0m\u001b[0m\n",
      "\u001b[0;32m/home/francisco/venv/data-science/local/lib/python2.7/site-packages/sklearn/model_selection/_search.pyc\u001b[0m in \u001b[0;36m_fit\u001b[0;34m(self, X, y, groups, parameter_iterable)\u001b[0m\n\u001b[1;32m    643\u001b[0m                 **best_parameters)\n\u001b[1;32m    644\u001b[0m             \u001b[0;32mif\u001b[0m \u001b[0my\u001b[0m \u001b[0;32mis\u001b[0m \u001b[0;32mnot\u001b[0m \u001b[0mNone\u001b[0m\u001b[0;34m:\u001b[0m\u001b[0;34m\u001b[0m\u001b[0m\n\u001b[0;32m--> 645\u001b[0;31m                 \u001b[0mbest_estimator\u001b[0m\u001b[0;34m.\u001b[0m\u001b[0mfit\u001b[0m\u001b[0;34m(\u001b[0m\u001b[0mX\u001b[0m\u001b[0;34m,\u001b[0m \u001b[0my\u001b[0m\u001b[0;34m,\u001b[0m \u001b[0;34m**\u001b[0m\u001b[0mself\u001b[0m\u001b[0;34m.\u001b[0m\u001b[0mfit_params\u001b[0m\u001b[0;34m)\u001b[0m\u001b[0;34m\u001b[0m\u001b[0m\n\u001b[0m\u001b[1;32m    646\u001b[0m             \u001b[0;32melse\u001b[0m\u001b[0;34m:\u001b[0m\u001b[0;34m\u001b[0m\u001b[0m\n\u001b[1;32m    647\u001b[0m                 \u001b[0mbest_estimator\u001b[0m\u001b[0;34m.\u001b[0m\u001b[0mfit\u001b[0m\u001b[0;34m(\u001b[0m\u001b[0mX\u001b[0m\u001b[0;34m,\u001b[0m \u001b[0;34m**\u001b[0m\u001b[0mself\u001b[0m\u001b[0;34m.\u001b[0m\u001b[0mfit_params\u001b[0m\u001b[0;34m)\u001b[0m\u001b[0;34m\u001b[0m\u001b[0m\n",
      "\u001b[0;32m/home/francisco/venv/data-science/local/lib/python2.7/site-packages/sklearn/ensemble/gradient_boosting.pyc\u001b[0m in \u001b[0;36mfit\u001b[0;34m(self, X, y, sample_weight, monitor)\u001b[0m\n\u001b[1;32m   1026\u001b[0m         \u001b[0;31m# fit the boosting stages\u001b[0m\u001b[0;34m\u001b[0m\u001b[0;34m\u001b[0m\u001b[0m\n\u001b[1;32m   1027\u001b[0m         n_stages = self._fit_stages(X, y, y_pred, sample_weight, random_state,\n\u001b[0;32m-> 1028\u001b[0;31m                                     begin_at_stage, monitor, X_idx_sorted)\n\u001b[0m\u001b[1;32m   1029\u001b[0m         \u001b[0;31m# change shape of arrays after fit (early-stopping or additional ests)\u001b[0m\u001b[0;34m\u001b[0m\u001b[0;34m\u001b[0m\u001b[0m\n\u001b[1;32m   1030\u001b[0m         \u001b[0;32mif\u001b[0m \u001b[0mn_stages\u001b[0m \u001b[0;34m!=\u001b[0m \u001b[0mself\u001b[0m\u001b[0;34m.\u001b[0m\u001b[0mestimators_\u001b[0m\u001b[0;34m.\u001b[0m\u001b[0mshape\u001b[0m\u001b[0;34m[\u001b[0m\u001b[0;36m0\u001b[0m\u001b[0;34m]\u001b[0m\u001b[0;34m:\u001b[0m\u001b[0;34m\u001b[0m\u001b[0m\n",
      "\u001b[0;32m/home/francisco/venv/data-science/local/lib/python2.7/site-packages/sklearn/ensemble/gradient_boosting.pyc\u001b[0m in \u001b[0;36m_fit_stages\u001b[0;34m(self, X, y, y_pred, sample_weight, random_state, begin_at_stage, monitor, X_idx_sorted)\u001b[0m\n\u001b[1;32m   1081\u001b[0m             y_pred = self._fit_stage(i, X, y, y_pred, sample_weight,\n\u001b[1;32m   1082\u001b[0m                                      \u001b[0msample_mask\u001b[0m\u001b[0;34m,\u001b[0m \u001b[0mrandom_state\u001b[0m\u001b[0;34m,\u001b[0m \u001b[0mX_idx_sorted\u001b[0m\u001b[0;34m,\u001b[0m\u001b[0;34m\u001b[0m\u001b[0m\n\u001b[0;32m-> 1083\u001b[0;31m                                      X_csc, X_csr)\n\u001b[0m\u001b[1;32m   1084\u001b[0m \u001b[0;34m\u001b[0m\u001b[0m\n\u001b[1;32m   1085\u001b[0m             \u001b[0;31m# track deviance (= loss)\u001b[0m\u001b[0;34m\u001b[0m\u001b[0;34m\u001b[0m\u001b[0m\n",
      "\u001b[0;32m/home/francisco/venv/data-science/local/lib/python2.7/site-packages/sklearn/ensemble/gradient_boosting.pyc\u001b[0m in \u001b[0;36m_fit_stage\u001b[0;34m(self, i, X, y, y_pred, sample_weight, sample_mask, random_state, X_idx_sorted, X_csc, X_csr)\u001b[0m\n\u001b[1;32m    785\u001b[0m             \u001b[0;32melse\u001b[0m\u001b[0;34m:\u001b[0m\u001b[0;34m\u001b[0m\u001b[0m\n\u001b[1;32m    786\u001b[0m                 tree.fit(X, residual, sample_weight=sample_weight,\n\u001b[0;32m--> 787\u001b[0;31m                          check_input=False, X_idx_sorted=X_idx_sorted)\n\u001b[0m\u001b[1;32m    788\u001b[0m \u001b[0;34m\u001b[0m\u001b[0m\n\u001b[1;32m    789\u001b[0m             \u001b[0;31m# update tree leaves\u001b[0m\u001b[0;34m\u001b[0m\u001b[0;34m\u001b[0m\u001b[0m\n",
      "\u001b[0;32m/home/francisco/venv/data-science/local/lib/python2.7/site-packages/sklearn/tree/tree.pyc\u001b[0m in \u001b[0;36mfit\u001b[0;34m(self, X, y, sample_weight, check_input, X_idx_sorted)\u001b[0m\n\u001b[1;32m   1027\u001b[0m             \u001b[0msample_weight\u001b[0m\u001b[0;34m=\u001b[0m\u001b[0msample_weight\u001b[0m\u001b[0;34m,\u001b[0m\u001b[0;34m\u001b[0m\u001b[0m\n\u001b[1;32m   1028\u001b[0m             \u001b[0mcheck_input\u001b[0m\u001b[0;34m=\u001b[0m\u001b[0mcheck_input\u001b[0m\u001b[0;34m,\u001b[0m\u001b[0;34m\u001b[0m\u001b[0m\n\u001b[0;32m-> 1029\u001b[0;31m             X_idx_sorted=X_idx_sorted)\n\u001b[0m\u001b[1;32m   1030\u001b[0m         \u001b[0;32mreturn\u001b[0m \u001b[0mself\u001b[0m\u001b[0;34m\u001b[0m\u001b[0m\n\u001b[1;32m   1031\u001b[0m \u001b[0;34m\u001b[0m\u001b[0m\n",
      "\u001b[0;32m/home/francisco/venv/data-science/local/lib/python2.7/site-packages/sklearn/tree/tree.pyc\u001b[0m in \u001b[0;36mfit\u001b[0;34m(self, X, y, sample_weight, check_input, X_idx_sorted)\u001b[0m\n\u001b[1;32m    348\u001b[0m                                            self.min_impurity_split)\n\u001b[1;32m    349\u001b[0m \u001b[0;34m\u001b[0m\u001b[0m\n\u001b[0;32m--> 350\u001b[0;31m         \u001b[0mbuilder\u001b[0m\u001b[0;34m.\u001b[0m\u001b[0mbuild\u001b[0m\u001b[0;34m(\u001b[0m\u001b[0mself\u001b[0m\u001b[0;34m.\u001b[0m\u001b[0mtree_\u001b[0m\u001b[0;34m,\u001b[0m \u001b[0mX\u001b[0m\u001b[0;34m,\u001b[0m \u001b[0my\u001b[0m\u001b[0;34m,\u001b[0m \u001b[0msample_weight\u001b[0m\u001b[0;34m,\u001b[0m \u001b[0mX_idx_sorted\u001b[0m\u001b[0;34m)\u001b[0m\u001b[0;34m\u001b[0m\u001b[0m\n\u001b[0m\u001b[1;32m    351\u001b[0m \u001b[0;34m\u001b[0m\u001b[0m\n\u001b[1;32m    352\u001b[0m         \u001b[0;32mif\u001b[0m \u001b[0mself\u001b[0m\u001b[0;34m.\u001b[0m\u001b[0mn_outputs_\u001b[0m \u001b[0;34m==\u001b[0m \u001b[0;36m1\u001b[0m\u001b[0;34m:\u001b[0m\u001b[0;34m\u001b[0m\u001b[0m\n",
      "\u001b[0;31mKeyboardInterrupt\u001b[0m: "
     ]
    }
   ],
   "source": [
    "param_grid = {'n_estimators':range(20,81,10)}\n",
    "\n",
    "reg = GradientBoostingRegressor(learning_rate=0.1,\\\n",
    "                                 min_samples_split=500,\\\n",
    "                                 min_samples_leaf=50,\\\n",
    "                                 max_depth=8,\\\n",
    "                                 max_features='sqrt',\\\n",
    "                                 subsample=0.8,\\\n",
    "                                 random_state=10)\n",
    "\n",
    "gsearch1 = GridSearchCV(estimator = reg,\\\n",
    "                        param_grid = param_grid,\\\n",
    "                        iid=False,\\\n",
    "                        cv=3,\\\n",
    "                        verbose=5,\\\n",
    "                       )\n",
    "\n",
    "gsearch1.fit(X_train,y_train)"
   ]
  },
  {
   "cell_type": "code",
   "execution_count": null,
   "metadata": {
    "collapsed": true
   },
   "outputs": [],
   "source": []
  },
  {
   "cell_type": "markdown",
   "metadata": {},
   "source": [
    "### XGBoost"
   ]
  },
  {
   "cell_type": "code",
   "execution_count": 18,
   "metadata": {
    "collapsed": true
   },
   "outputs": [],
   "source": [
    "from xgboost import XGBRegressor"
   ]
  },
  {
   "cell_type": "code",
   "execution_count": 23,
   "metadata": {
    "collapsed": true
   },
   "outputs": [],
   "source": [
    "Xtrain, Xval, ytrain, yval = train_test_split(X_train, y_train, test_size=0.1, random_state=42)"
   ]
  },
  {
   "cell_type": "code",
   "execution_count": 30,
   "metadata": {
    "collapsed": true
   },
   "outputs": [],
   "source": [
    "reg = XGBRegressor(max_depth=8,n_estimators=400,min_child_weight=24,gamma=0,colsample_bytree = 1.0,subsample= 0.2,learning_rate=0.01)"
   ]
  },
  {
   "cell_type": "code",
   "execution_count": 31,
   "metadata": {},
   "outputs": [
    {
     "name": "stdout",
     "output_type": "stream",
     "text": [
      "[0]\tvalidation_0-rmse:1305.14\n",
      "Will train until validation_0-rmse hasn't improved in 30 rounds.\n",
      "[5]\tvalidation_0-rmse:1259.78\n",
      "[10]\tvalidation_0-rmse:1217.26\n",
      "[15]\tvalidation_0-rmse:1176.98\n",
      "[20]\tvalidation_0-rmse:1140.69\n",
      "[25]\tvalidation_0-rmse:1104.29\n",
      "[30]\tvalidation_0-rmse:1070.85\n",
      "[35]\tvalidation_0-rmse:1038.19\n",
      "[40]\tvalidation_0-rmse:1006.57\n",
      "[45]\tvalidation_0-rmse:978.659\n",
      "[50]\tvalidation_0-rmse:952.117\n",
      "[55]\tvalidation_0-rmse:927.279\n",
      "[60]\tvalidation_0-rmse:902.134\n",
      "[65]\tvalidation_0-rmse:880.167\n",
      "[70]\tvalidation_0-rmse:860.758\n",
      "[75]\tvalidation_0-rmse:841.766\n",
      "[80]\tvalidation_0-rmse:823.122\n",
      "[85]\tvalidation_0-rmse:806.262\n",
      "[90]\tvalidation_0-rmse:790.355\n",
      "[95]\tvalidation_0-rmse:774.343\n",
      "[100]\tvalidation_0-rmse:759.716\n",
      "[105]\tvalidation_0-rmse:746.552\n",
      "[110]\tvalidation_0-rmse:735.256\n",
      "[115]\tvalidation_0-rmse:723.181\n",
      "[120]\tvalidation_0-rmse:712.126\n",
      "[125]\tvalidation_0-rmse:703.538\n",
      "[130]\tvalidation_0-rmse:694.213\n",
      "[135]\tvalidation_0-rmse:685.64\n",
      "[140]\tvalidation_0-rmse:676.777\n",
      "[145]\tvalidation_0-rmse:668.643\n",
      "[150]\tvalidation_0-rmse:661.258\n",
      "[155]\tvalidation_0-rmse:653.876\n",
      "[160]\tvalidation_0-rmse:647.178\n",
      "[165]\tvalidation_0-rmse:640.779\n",
      "[170]\tvalidation_0-rmse:634.57\n",
      "[175]\tvalidation_0-rmse:629.344\n",
      "[180]\tvalidation_0-rmse:624.129\n",
      "[185]\tvalidation_0-rmse:618.601\n",
      "[190]\tvalidation_0-rmse:614.061\n",
      "[195]\tvalidation_0-rmse:609.548\n",
      "[200]\tvalidation_0-rmse:604.787\n",
      "[205]\tvalidation_0-rmse:601.375\n",
      "[210]\tvalidation_0-rmse:597.903\n",
      "[215]\tvalidation_0-rmse:594.175\n",
      "[220]\tvalidation_0-rmse:590.827\n",
      "[225]\tvalidation_0-rmse:587.481\n",
      "[230]\tvalidation_0-rmse:584.506\n",
      "[235]\tvalidation_0-rmse:581.721\n",
      "[240]\tvalidation_0-rmse:578.167\n",
      "[245]\tvalidation_0-rmse:575.233\n",
      "[250]\tvalidation_0-rmse:572.794\n",
      "[255]\tvalidation_0-rmse:570.383\n",
      "[260]\tvalidation_0-rmse:567.826\n",
      "[265]\tvalidation_0-rmse:565.518\n",
      "[270]\tvalidation_0-rmse:563.348\n",
      "[275]\tvalidation_0-rmse:561.616\n",
      "[280]\tvalidation_0-rmse:559.584\n",
      "[285]\tvalidation_0-rmse:557.779\n",
      "[290]\tvalidation_0-rmse:556.097\n",
      "[295]\tvalidation_0-rmse:554.888\n",
      "[300]\tvalidation_0-rmse:553.184\n",
      "[305]\tvalidation_0-rmse:551.622\n",
      "[310]\tvalidation_0-rmse:549.81\n",
      "[315]\tvalidation_0-rmse:548.436\n",
      "[320]\tvalidation_0-rmse:547.34\n",
      "[325]\tvalidation_0-rmse:546.51\n",
      "[330]\tvalidation_0-rmse:545.55\n",
      "[335]\tvalidation_0-rmse:544.085\n",
      "[340]\tvalidation_0-rmse:542.876\n",
      "[345]\tvalidation_0-rmse:542.246\n",
      "[350]\tvalidation_0-rmse:541.653\n",
      "[355]\tvalidation_0-rmse:540.627\n",
      "[360]\tvalidation_0-rmse:539.849\n",
      "[365]\tvalidation_0-rmse:539.302\n",
      "[370]\tvalidation_0-rmse:538.469\n",
      "[375]\tvalidation_0-rmse:537.275\n",
      "[380]\tvalidation_0-rmse:536.574\n",
      "[385]\tvalidation_0-rmse:535.181\n",
      "[390]\tvalidation_0-rmse:534.359\n",
      "[395]\tvalidation_0-rmse:533.899\n"
     ]
    },
    {
     "data": {
      "text/plain": [
       "XGBRegressor(base_score=0.5, colsample_bylevel=1, colsample_bytree=1.0,\n",
       "       gamma=0, learning_rate=0.01, max_delta_step=0, max_depth=8,\n",
       "       min_child_weight=24, missing=None, n_estimators=400, nthread=-1,\n",
       "       objective='reg:linear', reg_alpha=0, reg_lambda=1,\n",
       "       scale_pos_weight=1, seed=0, silent=True, subsample=0.2)"
      ]
     },
     "execution_count": 31,
     "metadata": {},
     "output_type": "execute_result"
    }
   ],
   "source": [
    "reg.fit(Xtrain,ytrain, eval_set=[(Xval, yval)], early_stopping_rounds=30, verbose=5)"
   ]
  },
  {
   "cell_type": "code",
   "execution_count": 35,
   "metadata": {
    "collapsed": true
   },
   "outputs": [],
   "source": [
    "y_pred_xgboost = reg.predict(x_test)"
   ]
  },
  {
   "cell_type": "code",
   "execution_count": 36,
   "metadata": {},
   "outputs": [
    {
     "name": "stdout",
     "output_type": "stream",
     "text": [
      "44276959.1705\n"
     ]
    }
   ],
   "source": [
    "print(Score(y_pred_xgboost))"
   ]
  },
  {
   "cell_type": "markdown",
   "metadata": {},
   "source": [
    "Parametros a seleccionar\n",
    "\n",
    "1. 'subsample':[i/10.0 for i in range(1,5)]\n",
    "2. 'max_depth': [3,4,5,6,7,8,9,10]->8\n",
    "3. 'min_child_weight':[18,19,20,21,22,23,24,25] -> 25 / 10\n",
    "4. 'gamma':[i/10.0 for i in range(0,2)] -> 0\n",
    "5. 'subsample':[i/10.0 for i in range(1,11)] -> 0\n",
    "6. 'colsample_bytree':[i/10.0 for i in range(6,11)] 10"
   ]
  },
  {
   "cell_type": "code",
   "execution_count": null,
   "metadata": {
    "collapsed": true
   },
   "outputs": [],
   "source": [
    "Xtrain, Xval, ytrain, yval = train_test_split(X_train, y_train, test_size=0.1, random_state=42)"
   ]
  },
  {
   "cell_type": "code",
   "execution_count": null,
   "metadata": {
    "collapsed": true
   },
   "outputs": [],
   "source": [
    "fit_dict = {\n",
    "          \"eval_set\":[(Xval, yval)],\n",
    "          \"early_stopping_rounds\":30,\n",
    "          \"verbose\":5\n",
    "          }"
   ]
  },
  {
   "cell_type": "code",
   "execution_count": null,
   "metadata": {
    "collapsed": true
   },
   "outputs": [],
   "source": [
    "alg = XGBRegressor(max_depth=8,\n",
    "                   min_child_weight=24,\n",
    "                   n_estimators=400,\n",
    "                   gamma=0,\n",
    "                   colsample_bytree = 1.0,\n",
    "                   subsample= 0.2,\n",
    "                   learning_rate=0.01)"
   ]
  },
  {
   "cell_type": "code",
   "execution_count": null,
   "metadata": {
    "collapsed": true
   },
   "outputs": [],
   "source": [
    "params = {'subsample':[i/10.0 for i in range(1,5)]}"
   ]
  },
  {
   "cell_type": "code",
   "execution_count": null,
   "metadata": {
    "collapsed": true
   },
   "outputs": [],
   "source": [
    "reg = GridSearchCV(estimator = alg,\n",
    "                   param_grid = params,\n",
    "                   verbose = True,\n",
    "                   fit_params = fit_dict,\n",
    "                   cv=3)"
   ]
  },
  {
   "cell_type": "code",
   "execution_count": null,
   "metadata": {
    "collapsed": true
   },
   "outputs": [],
   "source": [
    "reg.fit(Xtrain,ytest)"
   ]
  },
  {
   "cell_type": "code",
   "execution_count": null,
   "metadata": {
    "collapsed": true
   },
   "outputs": [],
   "source": [
    "print(Score(reg.best_estimator_.predict(X_train)))\n",
    "print(reg.best_estimator_)\n",
    "print(reg.best_params_)"
   ]
  },
  {
   "cell_type": "code",
   "execution_count": 37,
   "metadata": {
    "collapsed": true
   },
   "outputs": [],
   "source": [
    "df = pd.DataFrame({\"id\": list(test.index.values), 'duration':y_pred_xgboost})\n",
    "df = df.set_index('id')\n",
    "df.to_csv(\"~/sampleSubmission.csv\")"
   ]
  }
 ],
 "metadata": {
  "kernelspec": {
   "display_name": "Python 2",
   "language": "python",
   "name": "python2"
  },
  "language_info": {
   "codemirror_mode": {
    "name": "ipython",
    "version": 2
   },
   "file_extension": ".py",
   "mimetype": "text/x-python",
   "name": "python",
   "nbconvert_exporter": "python",
   "pygments_lexer": "ipython2",
   "version": "2.7.12"
  }
 },
 "nbformat": 4,
 "nbformat_minor": 2
}
