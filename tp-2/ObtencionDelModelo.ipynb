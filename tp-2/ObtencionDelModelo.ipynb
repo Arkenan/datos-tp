{
 "cells": [
  {
   "cell_type": "code",
   "execution_count": 1,
   "metadata": {},
   "outputs": [
    {
     "name": "stderr",
     "output_type": "stream",
     "text": [
      "/usr/lib/python2.7/dist-packages/matplotlib/font_manager.py:273: UserWarning: Matplotlib is building the font cache using fc-list. This may take a moment.\n",
      "  warnings.warn('Matplotlib is building the font cache using fc-list. This may take a moment.')\n",
      "/usr/local/lib/python2.7/dist-packages/sklearn/cross_validation.py:44: DeprecationWarning: This module was deprecated in version 0.18 in favor of the model_selection module into which all the refactored classes and functions are moved. Also note that the interface of the new CV iterators are different from that of this module. This module will be removed in 0.20.\n",
      "  \"This module will be removed in 0.20.\", DeprecationWarning)\n"
     ]
    }
   ],
   "source": [
    "import pandas as pd\n",
    "import numpy as np\n",
    "import matplotlib.pyplot as plt\n",
    "from sklearn import preprocessing\n",
    "from sklearn.model_selection import train_test_split\n",
    "from sklearn.metrics import mean_squared_error\n",
    "from xgboost import XGBRegressor\n",
    "from sklearn.ensemble import RandomForestRegressor\n",
    "from sklearn.model_selection import RandomizedSearchCV, GridSearchCV\n",
    "from sklearn.decomposition import TruncatedSVD\n",
    "from scipy.stats import randint as sp_randint"
   ]
  },
  {
   "cell_type": "code",
   "execution_count": 15,
   "metadata": {
    "collapsed": true
   },
   "outputs": [],
   "source": [
    "test = pd.read_csv(\"../Data/test.csv\").set_index('id')\n",
    "train = pd.read_csv(\"../Data/train.csv\").set_index('id')"
   ]
  },
  {
   "cell_type": "code",
   "execution_count": 16,
   "metadata": {
    "collapsed": true
   },
   "outputs": [],
   "source": [
    "y_train = train.duration.values\n",
    "X_train = train.drop('duration',axis=1)"
   ]
  },
  {
   "cell_type": "code",
   "execution_count": 17,
   "metadata": {
    "collapsed": true
   },
   "outputs": [],
   "source": [
    "x_test = test.copy()"
   ]
  },
  {
   "cell_type": "code",
   "execution_count": 18,
   "metadata": {
    "collapsed": true
   },
   "outputs": [],
   "source": [
    "imputer = preprocessing.Imputer(missing_values='NaN', strategy='mean', axis=0)\n",
    "X_train = imputer.fit_transform(X_train)"
   ]
  },
  {
   "cell_type": "code",
   "execution_count": 19,
   "metadata": {
    "collapsed": true
   },
   "outputs": [],
   "source": [
    "imputer = preprocessing.Imputer(missing_values='NaN', strategy='mean', axis=0)\n",
    "x_test = imputer.fit_transform(x_test)"
   ]
  },
  {
   "cell_type": "code",
   "execution_count": 20,
   "metadata": {
    "collapsed": true
   },
   "outputs": [],
   "source": [
    "scaler = preprocessing.StandardScaler().fit(X_train)\n",
    "X_train = scaler.transform(X_train) # devuelve una matriz\n",
    "x_test = scaler.transform(x_test)"
   ]
  },
  {
   "cell_type": "code",
   "execution_count": 21,
   "metadata": {
    "collapsed": true
   },
   "outputs": [],
   "source": [
    "X_train = preprocessing.normalize(X_train,norm='l1')\n",
    "x_test = preprocessing.normalize(x_test,norm='l1')"
   ]
  },
  {
   "cell_type": "code",
   "execution_count": null,
   "metadata": {
    "collapsed": true
   },
   "outputs": [],
   "source": [
    "U,E,V = np.linalg.svd(X_train,full_matrices=0)"
   ]
  },
  {
   "cell_type": "code",
   "execution_count": 38,
   "metadata": {},
   "outputs": [
    {
     "data": {
      "image/png": "[encoded data removed]",
      "text/plain": [
       "<matplotlib.figure.Figure at 0x7f6c95cc0090>"
      ]
     },
     "metadata": {},
     "output_type": "display_data"
    }
   ],
   "source": [
    "plt.figure(figsize=(8,8))\n",
    "plt.xlabel(\"Valores Singulares\")\n",
    "plt.ylabel('Valor singular')\n",
    "plt.title(\"Energia de la matriz\")\n",
    "plt.plot(E, \"o\")\n",
    "plt.show()"
   ]
  },
  {
   "cell_type": "code",
   "execution_count": 22,
   "metadata": {
    "collapsed": true
   },
   "outputs": [],
   "source": [
    "def Energia(E):\n",
    "    return sum([e ** 2 for e in E])\n",
    "\n",
    "def ParticipacionEnLaEnergia(cant_val, E):\n",
    "    return Energia(E[0:cant_val]) / Energia(E)"
   ]
  },
  {
   "cell_type": "code",
   "execution_count": 35,
   "metadata": {},
   "outputs": [
    {
     "data": {
      "text/plain": [
       "0.93070384074982149"
      ]
     },
     "execution_count": 35,
     "metadata": {},
     "output_type": "execute_result"
    }
   ],
   "source": [
    "ParticipacionEnLaEnergia(120, E)"
   ]
  },
  {
   "cell_type": "code",
   "execution_count": 9,
   "metadata": {
    "collapsed": true
   },
   "outputs": [],
   "source": [
    "svd = TruncatedSVD(n_components=120,n_iter=7, random_state=42)\n",
    "x_train_k = svd.fit_transform(X_train)"
   ]
  },
  {
   "cell_type": "code",
   "execution_count": 10,
   "metadata": {
    "collapsed": true
   },
   "outputs": [],
   "source": [
    "svd = TruncatedSVD(n_components=120, n_iter=7, random_state=42)\n",
    "x_test_k = svd.fit_transform(x_test)"
   ]
  },
  {
   "cell_type": "markdown",
   "metadata": {},
   "source": [
    "### Random Forest"
   ]
  },
  {
   "cell_type": "code",
   "execution_count": 43,
   "metadata": {
    "collapsed": true
   },
   "outputs": [],
   "source": [
    "Xtrain, Xval,ytrain, yval = train_test_split(X_train, y_train, test_size=0.2, random_state=42)"
   ]
  },
  {
   "cell_type": "code",
   "execution_count": 10,
   "metadata": {},
   "outputs": [
    {
     "data": {
      "text/plain": [
       "0.90519012141309374"
      ]
     },
     "execution_count": 10,
     "metadata": {},
     "output_type": "execute_result"
    }
   ],
   "source": [
    "randomForest = RandomForestRegressor()\n",
    "randomForest = randomForest.fit(Xtrain, ytrain)\n",
    "randomForest.score(Xval, yval)"
   ]
  },
  {
   "cell_type": "code",
   "execution_count": 48,
   "metadata": {},
   "outputs": [
    {
     "data": {
      "text/plain": [
       "RandomForestRegressor(bootstrap=False, criterion='mse', max_depth=None,\n",
       "           max_features=10, max_leaf_nodes=None, min_impurity_split=1e-07,\n",
       "           min_samples_leaf=9, min_samples_split=9,\n",
       "           min_weight_fraction_leaf=0.0, n_estimators=20, n_jobs=1,\n",
       "           oob_score=False, random_state=None, verbose=0, warm_start=False)"
      ]
     },
     "execution_count": 48,
     "metadata": {},
     "output_type": "execute_result"
    }
   ],
   "source": [
    "random_search.best_estimator_"
   ]
  },
  {
   "cell_type": "code",
   "execution_count": 45,
   "metadata": {
    "collapsed": true
   },
   "outputs": [],
   "source": [
    "# max_depth -> None\n",
    "# max_features -> 10\n",
    "# min_samples_leaf=9\n",
    "# min_samples_split=9,\n",
    "param_grid = {\"max_features\": ['auto','sqrt','log2'],\n",
    "              \"bootstrap\": [True, False]}\n",
    "\n",
    "reg = RandomForestRegressor(max_depth=None,min_samples_leaf=9, min_samples_split=9)\n",
    "\n",
    "grid_search = GridSearchCV(reg, param_grid=param_grid, verbose=5, cv = 2)"
   ]
  },
  {
   "cell_type": "code",
   "execution_count": 47,
   "metadata": {},
   "outputs": [
    {
     "name": "stdout",
     "output_type": "stream",
     "text": [
      "{'max_features': 'auto', 'bootstrap': True}\n"
     ]
    }
   ],
   "source": [
    "print(grid_search.best_params_)"
   ]
  },
  {
   "cell_type": "code",
   "execution_count": 11,
   "metadata": {
    "collapsed": true
   },
   "outputs": [],
   "source": [
    "#Hay una clara diferencia entre el score inicial de 0.52 y los subiguietnes por lo que estimo que\n",
    "#hay un error en el primer random search, vamos a probar un grid search sobre \"min_samples_split\" \n",
    "#y \"min_samples_leaf\"\n",
    "\n",
    "# Busqueda de Hiper Parametros\n",
    "param_grid = {\"min_samples_split\": [2, 6],\"min_samples_leaf\": [1,3]}\n",
    "\n",
    "clf = RandomForestRegressor()\n",
    "\n",
    "random_search = GridSearchCV(clf, param_grid=param_grid,verbose=5, cv=2)"
   ]
  },
  {
   "cell_type": "code",
   "execution_count": 12,
   "metadata": {},
   "outputs": [
    {
     "name": "stdout",
     "output_type": "stream",
     "text": [
      "Fitting 2 folds for each of 4 candidates, totalling 8 fits\n",
      "[CV] min_samples_split=2, min_samples_leaf=1 .........................\n",
      "[CV]  min_samples_split=2, min_samples_leaf=1, score=0.862494, total=21.7min\n",
      "[CV] min_samples_split=2, min_samples_leaf=1 .........................\n"
     ]
    },
    {
     "name": "stderr",
     "output_type": "stream",
     "text": [
      "[Parallel(n_jobs=1)]: Done   1 out of   1 | elapsed: 21.7min remaining:    0.0s\n"
     ]
    },
    {
     "name": "stdout",
     "output_type": "stream",
     "text": [
      "[CV]  min_samples_split=2, min_samples_leaf=1, score=0.882834, total=22.1min\n",
      "[CV] min_samples_split=6, min_samples_leaf=1 .........................\n"
     ]
    },
    {
     "name": "stderr",
     "output_type": "stream",
     "text": [
      "[Parallel(n_jobs=1)]: Done   2 out of   2 | elapsed: 43.8min remaining:    0.0s\n"
     ]
    },
    {
     "name": "stdout",
     "output_type": "stream",
     "text": [
      "[CV]  min_samples_split=6, min_samples_leaf=1, score=0.864474, total=21.1min\n",
      "[CV] min_samples_split=6, min_samples_leaf=1 .........................\n"
     ]
    },
    {
     "name": "stderr",
     "output_type": "stream",
     "text": [
      "[Parallel(n_jobs=1)]: Done   3 out of   3 | elapsed: 65.0min remaining:    0.0s\n"
     ]
    },
    {
     "name": "stdout",
     "output_type": "stream",
     "text": [
      "[CV]  min_samples_split=6, min_samples_leaf=1, score=0.882901, total=20.7min\n",
      "[CV] min_samples_split=2, min_samples_leaf=3 .........................\n"
     ]
    },
    {
     "name": "stderr",
     "output_type": "stream",
     "text": [
      "[Parallel(n_jobs=1)]: Done   4 out of   4 | elapsed: 85.7min remaining:    0.0s\n"
     ]
    },
    {
     "name": "stdout",
     "output_type": "stream",
     "text": [
      "[CV]  min_samples_split=2, min_samples_leaf=3, score=0.870810, total=19.5min\n",
      "[CV] min_samples_split=2, min_samples_leaf=3 .........................\n",
      "[CV]  min_samples_split=2, min_samples_leaf=3, score=0.891074, total=20.3min\n",
      "[CV] min_samples_split=6, min_samples_leaf=3 .........................\n",
      "[CV]  min_samples_split=6, min_samples_leaf=3, score=0.871089, total=19.4min\n",
      "[CV] min_samples_split=6, min_samples_leaf=3 .........................\n",
      "[CV]  min_samples_split=6, min_samples_leaf=3, score=0.890703, total=20.1min\n"
     ]
    },
    {
     "name": "stderr",
     "output_type": "stream",
     "text": [
      "[Parallel(n_jobs=1)]: Done   8 out of   8 | elapsed: 165.0min finished\n"
     ]
    },
    {
     "data": {
      "text/plain": [
       "GridSearchCV(cv=2, error_score='raise',\n",
       "       estimator=RandomForestRegressor(bootstrap=True, criterion='mse', max_depth=None,\n",
       "           max_features='auto', max_leaf_nodes=None,\n",
       "           min_impurity_split=1e-07, min_samples_leaf=1,\n",
       "           min_samples_split=2, min_weight_fraction_leaf=0.0,\n",
       "           n_estimators=10, n_jobs=1, oob_score=False, random_state=None,\n",
       "           verbose=0, warm_start=False),\n",
       "       fit_params={}, iid=True, n_jobs=1,\n",
       "       param_grid={'min_samples_split': [2, 6], 'min_samples_leaf': [1, 3]},\n",
       "       pre_dispatch='2*n_jobs', refit=True, return_train_score=True,\n",
       "       scoring=None, verbose=5)"
      ]
     },
     "execution_count": 12,
     "metadata": {},
     "output_type": "execute_result"
    }
   ],
   "source": [
    "random_search.fit(Xtrain, ytrain)"
   ]
  },
  {
   "cell_type": "code",
   "execution_count": 15,
   "metadata": {
    "collapsed": true
   },
   "outputs": [],
   "source": [
    "best_random_forest = RandomForestRegressor(bootstrap=True, criterion='mse', max_depth=None,\n",
    "           max_features='auto', max_leaf_nodes=None,\n",
    "           min_impurity_split=1e-07, min_samples_leaf=3,\n",
    "           min_samples_split=2, min_weight_fraction_leaf=0.0,\n",
    "           n_estimators=10, n_jobs=1, oob_score=False, random_state=None,\n",
    "           verbose=0, warm_start=False)"
   ]
  },
  {
   "cell_type": "code",
   "execution_count": 16,
   "metadata": {},
   "outputs": [
    {
     "data": {
      "text/plain": [
       "RandomForestRegressor(bootstrap=True, criterion='mse', max_depth=None,\n",
       "           max_features='auto', max_leaf_nodes=None,\n",
       "           min_impurity_split=1e-07, min_samples_leaf=3,\n",
       "           min_samples_split=2, min_weight_fraction_leaf=0.0,\n",
       "           n_estimators=10, n_jobs=1, oob_score=False, random_state=None,\n",
       "           verbose=0, warm_start=False)"
      ]
     },
     "execution_count": 16,
     "metadata": {},
     "output_type": "execute_result"
    }
   ],
   "source": [
    "best_random_forest.fit(X_train,y_train)"
   ]
  },
  {
   "cell_type": "code",
   "execution_count": 20,
   "metadata": {
    "collapsed": true
   },
   "outputs": [],
   "source": [
    "y_pred = best_random_forest.predict(x_test)"
   ]
  },
  {
   "cell_type": "code",
   "execution_count": 69,
   "metadata": {
    "collapsed": true
   },
   "outputs": [],
   "source": [
    "y_pred_random_forest = best_random_forest.predict(x_test_k)"
   ]
  },
  {
   "cell_type": "markdown",
   "metadata": {},
   "source": [
    "### XGBoost"
   ]
  },
  {
   "cell_type": "code",
   "execution_count": 11,
   "metadata": {
    "collapsed": true
   },
   "outputs": [],
   "source": [
    "Xtrain, Xval, ytrain, yval = train_test_split(X_train, y_train, test_size=0.2, random_state=42)"
   ]
  },
  {
   "cell_type": "code",
   "execution_count": 21,
   "metadata": {},
   "outputs": [
    {
     "data": {
      "text/plain": [
       "0.42892569407796233"
      ]
     },
     "execution_count": 21,
     "metadata": {},
     "output_type": "execute_result"
    }
   ],
   "source": [
    "xboost_reg = XGBRegressor(n_estimators=30, seed=25)\n",
    "xboost_reg = xboost_reg.fit(Xtrain, ytrain)\n",
    "xboost_reg.score(Xval, yval)"
   ]
  },
  {
   "cell_type": "code",
   "execution_count": 12,
   "metadata": {},
   "outputs": [
    {
     "name": "stdout",
     "output_type": "stream",
     "text": [
      "Fitting 2 folds for each of 3 candidates, totalling 6 fits\n",
      "[CV] max_depth=3 .....................................................\n",
      "[CV] ...................... max_depth=3, score=0.427239, total=  44.6s\n",
      "[CV] max_depth=3 .....................................................\n"
     ]
    },
    {
     "name": "stderr",
     "output_type": "stream",
     "text": [
      "[Parallel(n_jobs=1)]: Done   1 out of   1 | elapsed:   45.0s remaining:    0.0s\n"
     ]
    },
    {
     "name": "stdout",
     "output_type": "stream",
     "text": [
      "[CV] ...................... max_depth=3, score=0.442231, total=  46.0s\n",
      "[CV] max_depth=5 .....................................................\n"
     ]
    },
    {
     "name": "stderr",
     "output_type": "stream",
     "text": [
      "[Parallel(n_jobs=1)]: Done   2 out of   2 | elapsed:  1.5min remaining:    0.0s\n"
     ]
    },
    {
     "name": "stdout",
     "output_type": "stream",
     "text": [
      "[CV] ...................... max_depth=5, score=0.627600, total= 1.2min\n",
      "[CV] max_depth=5 .....................................................\n"
     ]
    },
    {
     "name": "stderr",
     "output_type": "stream",
     "text": [
      "[Parallel(n_jobs=1)]: Done   3 out of   3 | elapsed:  2.8min remaining:    0.0s\n"
     ]
    },
    {
     "name": "stdout",
     "output_type": "stream",
     "text": [
      "[CV] ...................... max_depth=5, score=0.636061, total= 1.2min\n",
      "[CV] max_depth=10 ....................................................\n"
     ]
    },
    {
     "name": "stderr",
     "output_type": "stream",
     "text": [
      "[Parallel(n_jobs=1)]: Done   4 out of   4 | elapsed:  4.0min remaining:    0.0s\n"
     ]
    },
    {
     "name": "stdout",
     "output_type": "stream",
     "text": [
      "[CV] ..................... max_depth=10, score=0.825808, total= 2.5min\n",
      "[CV] max_depth=10 ....................................................\n",
      "[CV] ..................... max_depth=10, score=0.836070, total= 2.6min\n"
     ]
    },
    {
     "name": "stderr",
     "output_type": "stream",
     "text": [
      "[Parallel(n_jobs=1)]: Done   6 out of   6 | elapsed:  9.1min finished\n"
     ]
    }
   ],
   "source": [
    "xboost_reg = XGBRegressor(n_estimators=30, seed=25)\n",
    "gsearch_max_depth = GridSearchCV(xboost_reg,param_grid = {'max_depth':[3,5,10]}, cv=2, verbose=5)\n",
    "gsearch_max_depth = gsearch_max_depth.fit(Xtrain, ytrain)"
   ]
  },
  {
   "cell_type": "code",
   "execution_count": 13,
   "metadata": {},
   "outputs": [
    {
     "name": "stdout",
     "output_type": "stream",
     "text": [
      "Fitting 2 folds for each of 3 candidates, totalling 6 fits\n",
      "[CV] max_depth=8 .....................................................\n",
      "[CV] ...................... max_depth=8, score=0.781394, total= 1.9min\n",
      "[CV] max_depth=8 .....................................................\n"
     ]
    },
    {
     "name": "stderr",
     "output_type": "stream",
     "text": [
      "[Parallel(n_jobs=1)]: Done   1 out of   1 | elapsed:  2.0min remaining:    0.0s\n"
     ]
    },
    {
     "name": "stdout",
     "output_type": "stream",
     "text": [
      "[CV] ...................... max_depth=8, score=0.798269, total= 1.9min\n",
      "[CV] max_depth=10 ....................................................\n"
     ]
    },
    {
     "name": "stderr",
     "output_type": "stream",
     "text": [
      "[Parallel(n_jobs=1)]: Done   2 out of   2 | elapsed:  3.9min remaining:    0.0s\n"
     ]
    },
    {
     "name": "stdout",
     "output_type": "stream",
     "text": [
      "[CV] ..................... max_depth=10, score=0.825808, total= 2.5min\n",
      "[CV] max_depth=10 ....................................................\n"
     ]
    },
    {
     "name": "stderr",
     "output_type": "stream",
     "text": [
      "[Parallel(n_jobs=1)]: Done   3 out of   3 | elapsed:  6.4min remaining:    0.0s\n"
     ]
    },
    {
     "name": "stdout",
     "output_type": "stream",
     "text": [
      "[CV] ..................... max_depth=10, score=0.836070, total= 2.3min\n",
      "[CV] max_depth=12 ....................................................\n"
     ]
    },
    {
     "name": "stderr",
     "output_type": "stream",
     "text": [
      "[Parallel(n_jobs=1)]: Done   4 out of   4 | elapsed:  8.7min remaining:    0.0s\n"
     ]
    },
    {
     "name": "stdout",
     "output_type": "stream",
     "text": [
      "[CV] ..................... max_depth=12, score=0.846738, total= 2.7min\n",
      "[CV] max_depth=12 ....................................................\n",
      "[CV] ..................... max_depth=12, score=0.865626, total= 2.8min\n"
     ]
    },
    {
     "name": "stderr",
     "output_type": "stream",
     "text": [
      "[Parallel(n_jobs=1)]: Done   6 out of   6 | elapsed: 14.3min finished\n"
     ]
    }
   ],
   "source": [
    "xboost_reg = XGBRegressor(n_estimators=30, seed=25)\n",
    "gsearch_max_depth_2 = GridSearchCV(xboost_reg,param_grid = {'max_depth':[8,10,12]}, cv=2, verbose=5)\n",
    "gsearch_max_depth_2 = gsearch_max_depth_2.fit(Xtrain, ytrain)"
   ]
  },
  {
   "cell_type": "code",
   "execution_count": 16,
   "metadata": {},
   "outputs": [
    {
     "name": "stdout",
     "output_type": "stream",
     "text": [
      "Fitting 2 folds for each of 3 candidates, totalling 6 fits\n",
      "[CV] max_depth=12 ....................................................\n",
      "[CV] ..................... max_depth=12, score=0.846738, total= 2.6min\n",
      "[CV] max_depth=12 ....................................................\n"
     ]
    },
    {
     "name": "stderr",
     "output_type": "stream",
     "text": [
      "[Parallel(n_jobs=1)]: Done   1 out of   1 | elapsed:  2.6min remaining:    0.0s\n"
     ]
    },
    {
     "name": "stdout",
     "output_type": "stream",
     "text": [
      "[CV] ..................... max_depth=12, score=0.865626, total= 2.6min\n",
      "[CV] max_depth=14 ....................................................\n"
     ]
    },
    {
     "name": "stderr",
     "output_type": "stream",
     "text": [
      "[Parallel(n_jobs=1)]: Done   2 out of   2 | elapsed:  5.2min remaining:    0.0s\n"
     ]
    },
    {
     "name": "stdout",
     "output_type": "stream",
     "text": [
      "[CV] ..................... max_depth=14, score=0.862965, total= 3.0min\n",
      "[CV] max_depth=14 ....................................................\n"
     ]
    },
    {
     "name": "stderr",
     "output_type": "stream",
     "text": [
      "[Parallel(n_jobs=1)]: Done   3 out of   3 | elapsed:  8.2min remaining:    0.0s\n"
     ]
    },
    {
     "name": "stdout",
     "output_type": "stream",
     "text": [
      "[CV] ..................... max_depth=14, score=0.875889, total= 3.0min\n",
      "[CV] max_depth=16 ....................................................\n"
     ]
    },
    {
     "name": "stderr",
     "output_type": "stream",
     "text": [
      "[Parallel(n_jobs=1)]: Done   4 out of   4 | elapsed: 11.3min remaining:    0.0s\n"
     ]
    },
    {
     "name": "stdout",
     "output_type": "stream",
     "text": [
      "[CV] ..................... max_depth=16, score=0.869063, total= 3.5min\n",
      "[CV] max_depth=16 ....................................................\n",
      "[CV] ..................... max_depth=16, score=0.885986, total= 3.5min\n"
     ]
    },
    {
     "name": "stderr",
     "output_type": "stream",
     "text": [
      "[Parallel(n_jobs=1)]: Done   6 out of   6 | elapsed: 18.3min finished\n"
     ]
    }
   ],
   "source": [
    "xboost_reg = XGBRegressor(n_estimators=30, seed=25)\n",
    "gsearch_max_depth_3 = GridSearchCV(xboost_reg,param_grid = {'max_depth':[12, 14, 16]}, cv=2, verbose=5)\n",
    "gsearch_max_depth_3 = gsearch_max_depth_3.fit(Xtrain, ytrain)"
   ]
  },
  {
   "cell_type": "code",
   "execution_count": 14,
   "metadata": {},
   "outputs": [
    {
     "name": "stdout",
     "output_type": "stream",
     "text": [
      "Fitting 3 folds for each of 3 candidates, totalling 9 fits\n",
      "[CV] min_child_weight=1 ..............................................\n",
      "[CV] ............... min_child_weight=1, score=0.440381, total=  57.7s\n",
      "[CV] min_child_weight=1 ..............................................\n"
     ]
    },
    {
     "name": "stderr",
     "output_type": "stream",
     "text": [
      "[Parallel(n_jobs=1)]: Done   1 out of   1 | elapsed:   58.3s remaining:    0.0s\n"
     ]
    },
    {
     "name": "stdout",
     "output_type": "stream",
     "text": [
      "[CV] ............... min_child_weight=1, score=0.423370, total=  57.1s\n",
      "[CV] min_child_weight=1 ..............................................\n"
     ]
    },
    {
     "name": "stderr",
     "output_type": "stream",
     "text": [
      "[Parallel(n_jobs=1)]: Done   2 out of   2 | elapsed:  1.9min remaining:    0.0s\n"
     ]
    },
    {
     "name": "stdout",
     "output_type": "stream",
     "text": [
      "[CV] ............... min_child_weight=1, score=0.433511, total= 1.0min\n",
      "[CV] min_child_weight=3 ..............................................\n"
     ]
    },
    {
     "name": "stderr",
     "output_type": "stream",
     "text": [
      "[Parallel(n_jobs=1)]: Done   3 out of   3 | elapsed:  3.0min remaining:    0.0s\n"
     ]
    },
    {
     "name": "stdout",
     "output_type": "stream",
     "text": [
      "[CV] ............... min_child_weight=3, score=0.431600, total= 1.0min\n",
      "[CV] min_child_weight=3 ..............................................\n"
     ]
    },
    {
     "name": "stderr",
     "output_type": "stream",
     "text": [
      "[Parallel(n_jobs=1)]: Done   4 out of   4 | elapsed:  4.0min remaining:    0.0s\n"
     ]
    },
    {
     "name": "stdout",
     "output_type": "stream",
     "text": [
      "[CV] ............... min_child_weight=3, score=0.423715, total= 1.1min\n",
      "[CV] min_child_weight=3 ..............................................\n",
      "[CV] ............... min_child_weight=3, score=0.433526, total=  59.8s\n",
      "[CV] min_child_weight=6 ..............................................\n",
      "[CV] ............... min_child_weight=6, score=0.431603, total=  57.5s\n",
      "[CV] min_child_weight=6 ..............................................\n",
      "[CV] ............... min_child_weight=6, score=0.423358, total= 1.0min\n",
      "[CV] min_child_weight=6 ..............................................\n",
      "[CV] ............... min_child_weight=6, score=0.433526, total= 1.0min\n"
     ]
    },
    {
     "name": "stderr",
     "output_type": "stream",
     "text": [
      "[Parallel(n_jobs=1)]: Done   9 out of   9 | elapsed:  9.2min finished\n"
     ]
    }
   ],
   "source": [
    "xboost_reg = XGBRegressor(n_estimators=30, seed=25)\n",
    "gsearch = GridSearchCV(xboost_reg,param_grid = {'min_child_weight':[1,3,6]}, cv=3, verbose=5)\n",
    "gsearch = gsearch.fit(Xtrain, ytrain)"
   ]
  },
  {
   "cell_type": "code",
   "execution_count": 56,
   "metadata": {},
   "outputs": [
    {
     "name": "stdout",
     "output_type": "stream",
     "text": [
      "Fitting 3 folds for each of 5 candidates, totalling 15 fits\n"
     ]
    },
    {
     "name": "stderr",
     "output_type": "stream",
     "text": [
      "[Parallel(n_jobs=1)]: Done  15 out of  15 | elapsed: 94.7min finished\n"
     ]
    }
   ],
   "source": [
    "xboost_reg = XGBRegressor(n_estimators=30, seed=25,max_depth=16, min_child_weight=1)\n",
    "gsearch_gamma = GridSearchCV(xboost_reg,param_grid = {'gamma':[i/10.0 for i in range(0,5)]}, cv=3, verbose=1)\n",
    "gsearch_gamma = gsearch_gamma.fit(Xtrain, ytrain)"
   ]
  },
  {
   "cell_type": "code",
   "execution_count": 57,
   "metadata": {},
   "outputs": [
    {
     "data": {
      "text/plain": [
       "{'gamma': 0.4}"
      ]
     },
     "execution_count": 57,
     "metadata": {},
     "output_type": "execute_result"
    }
   ],
   "source": [
    "gsearch_gamma.best_params_"
   ]
  },
  {
   "cell_type": "code",
   "execution_count": 61,
   "metadata": {},
   "outputs": [
    {
     "name": "stdout",
     "output_type": "stream",
     "text": [
      "Fitting 3 folds for each of 4 candidates, totalling 12 fits\n",
      "[CV] subsample=0.6 ...................................................\n",
      "[CV] .................... subsample=0.6, score=0.869055, total= 5.3min\n",
      "[CV] subsample=0.6 ...................................................\n"
     ]
    },
    {
     "name": "stderr",
     "output_type": "stream",
     "text": [
      "[Parallel(n_jobs=1)]: Done   1 out of   1 | elapsed:  5.3min remaining:    0.0s\n"
     ]
    },
    {
     "name": "stdout",
     "output_type": "stream",
     "text": [
      "[CV] .................... subsample=0.6, score=0.884310, total= 5.2min\n",
      "[CV] subsample=0.6 ...................................................\n"
     ]
    },
    {
     "name": "stderr",
     "output_type": "stream",
     "text": [
      "[Parallel(n_jobs=1)]: Done   2 out of   2 | elapsed: 10.6min remaining:    0.0s\n"
     ]
    },
    {
     "name": "stdout",
     "output_type": "stream",
     "text": [
      "[CV] .................... subsample=0.6, score=0.890332, total= 4.9min\n",
      "[CV] subsample=0.7 ...................................................\n"
     ]
    },
    {
     "name": "stderr",
     "output_type": "stream",
     "text": [
      "[Parallel(n_jobs=1)]: Done   3 out of   3 | elapsed: 15.5min remaining:    0.0s\n"
     ]
    },
    {
     "name": "stdout",
     "output_type": "stream",
     "text": [
      "[CV] .................... subsample=0.7, score=0.875779, total= 5.2min\n",
      "[CV] subsample=0.7 ...................................................\n",
      "[CV] .................... subsample=0.7, score=0.882491, total= 4.8min\n",
      "[CV] subsample=0.7 ...................................................\n",
      "[CV] .................... subsample=0.7, score=0.889940, total= 4.4min\n",
      "[CV] subsample=0.8 ...................................................\n",
      "[CV] .................... subsample=0.8, score=0.877135, total= 4.9min\n",
      "[CV] subsample=0.8 ...................................................\n",
      "[CV] .................... subsample=0.8, score=0.888374, total= 5.3min\n",
      "[CV] subsample=0.8 ...................................................\n",
      "[CV] .................... subsample=0.8, score=0.894517, total= 5.1min\n",
      "[CV] subsample=0.9 ...................................................\n",
      "[CV] .................... subsample=0.9, score=0.874670, total= 4.8min\n",
      "[CV] subsample=0.9 ...................................................\n",
      "[CV] .................... subsample=0.9, score=0.891087, total= 4.8min\n",
      "[CV] subsample=0.9 ...................................................\n",
      "[CV] .................... subsample=0.9, score=0.897425, total= 4.8min\n"
     ]
    },
    {
     "name": "stderr",
     "output_type": "stream",
     "text": [
      "[Parallel(n_jobs=1)]: Done  12 out of  12 | elapsed: 59.7min finished\n"
     ]
    }
   ],
   "source": [
    "xboost_reg = XGBRegressor(n_estimators=30, seed=25,max_depth=16, min_child_weight=1)\n",
    "gsearch_subsample = GridSearchCV(xboost_reg,param_grid ={'subsample':[i/10.0 for i in range(6,10)]},cv=3, verbose=4)\n",
    "gsearch_subsample = gsearch_subsample.fit(Xtrain, ytrain)"
   ]
  },
  {
   "cell_type": "code",
   "execution_count": 63,
   "metadata": {},
   "outputs": [
    {
     "data": {
      "text/plain": [
       "{'subsample': 0.9}"
      ]
     },
     "execution_count": 63,
     "metadata": {},
     "output_type": "execute_result"
    }
   ],
   "source": [
    "gsearch_subsample.best_params_"
   ]
  },
  {
   "cell_type": "code",
   "execution_count": 65,
   "metadata": {},
   "outputs": [
    {
     "name": "stdout",
     "output_type": "stream",
     "text": [
      "Fitting 3 folds for each of 4 candidates, totalling 12 fits\n",
      "[CV] colsample_bytree=0.6 ............................................\n",
      "[CV] ............. colsample_bytree=0.6, score=0.868684, total= 3.4min\n",
      "[CV] colsample_bytree=0.6 ............................................\n"
     ]
    },
    {
     "name": "stderr",
     "output_type": "stream",
     "text": [
      "[Parallel(n_jobs=1)]: Done   1 out of   1 | elapsed:  3.4min remaining:    0.0s\n"
     ]
    },
    {
     "name": "stdout",
     "output_type": "stream",
     "text": [
      "[CV] ............. colsample_bytree=0.6, score=0.802136, total= 4.0min\n",
      "[CV] colsample_bytree=0.6 ............................................\n"
     ]
    },
    {
     "name": "stderr",
     "output_type": "stream",
     "text": [
      "[Parallel(n_jobs=1)]: Done   2 out of   2 | elapsed:  7.5min remaining:    0.0s\n"
     ]
    },
    {
     "name": "stdout",
     "output_type": "stream",
     "text": [
      "[CV] ............. colsample_bytree=0.6, score=0.805225, total= 5.7min\n",
      "[CV] colsample_bytree=0.7 ............................................\n"
     ]
    },
    {
     "name": "stderr",
     "output_type": "stream",
     "text": [
      "[Parallel(n_jobs=1)]: Done   3 out of   3 | elapsed: 13.2min remaining:    0.0s\n"
     ]
    },
    {
     "name": "stdout",
     "output_type": "stream",
     "text": [
      "[CV] ............. colsample_bytree=0.7, score=0.868365, total= 4.3min\n",
      "[CV] colsample_bytree=0.7 ............................................\n",
      "[CV] ............. colsample_bytree=0.7, score=0.817621, total= 3.5min\n",
      "[CV] colsample_bytree=0.7 ............................................\n",
      "[CV] ............. colsample_bytree=0.7, score=0.827185, total= 3.4min\n",
      "[CV] colsample_bytree=0.8 ............................................\n",
      "[CV] ............. colsample_bytree=0.8, score=0.871348, total= 3.9min\n",
      "[CV] colsample_bytree=0.8 ............................................\n",
      "[CV] ............. colsample_bytree=0.8, score=0.859760, total= 3.9min\n",
      "[CV] colsample_bytree=0.8 ............................................\n",
      "[CV] ............. colsample_bytree=0.8, score=0.864390, total= 4.0min\n",
      "[CV] colsample_bytree=0.9 ............................................\n",
      "[CV] ............. colsample_bytree=0.9, score=0.885919, total= 4.4min\n",
      "[CV] colsample_bytree=0.9 ............................................\n",
      "[CV] ............. colsample_bytree=0.9, score=0.884618, total= 4.4min\n",
      "[CV] colsample_bytree=0.9 ............................................\n",
      "[CV] ............. colsample_bytree=0.9, score=0.891805, total= 4.4min\n"
     ]
    },
    {
     "name": "stderr",
     "output_type": "stream",
     "text": [
      "[Parallel(n_jobs=1)]: Done  12 out of  12 | elapsed: 49.6min finished\n"
     ]
    }
   ],
   "source": [
    "xboost_reg = XGBRegressor(n_estimators=30, seed=25,max_depth=16, min_child_weight=1, gamma=0.4, subsample=0.9)\n",
    "gsearch_colsample_bytree = GridSearchCV(xboost_reg,param_grid ={'colsample_bytree':[i/10.0 for i in range(6,10)]},cv=3, verbose=4)\n",
    "gsearch_colsample_bytree = gsearch_colsample_bytree.fit(Xtrain, ytrain)"
   ]
  },
  {
   "cell_type": "code",
   "execution_count": 68,
   "metadata": {},
   "outputs": [
    {
     "data": {
      "text/plain": [
       "{'colsample_bytree': 0.9}"
      ]
     },
     "execution_count": 68,
     "metadata": {},
     "output_type": "execute_result"
    }
   ],
   "source": [
    "gsearch_colsample_bytree.best_params_"
   ]
  },
  {
   "cell_type": "code",
   "execution_count": 69,
   "metadata": {},
   "outputs": [
    {
     "name": "stdout",
     "output_type": "stream",
     "text": [
      "Fitting 2 folds for each of 5 candidates, totalling 10 fits\n",
      "[CV] reg_alpha=1e-05 .................................................\n",
      "[CV] .................. reg_alpha=1e-05, score=0.872813, total= 4.0min\n",
      "[CV] reg_alpha=1e-05 .................................................\n"
     ]
    },
    {
     "name": "stderr",
     "output_type": "stream",
     "text": [
      "[Parallel(n_jobs=1)]: Done   1 out of   1 | elapsed:  4.0min remaining:    0.0s\n"
     ]
    },
    {
     "name": "stdout",
     "output_type": "stream",
     "text": [
      "[CV] .................. reg_alpha=1e-05, score=0.886462, total= 3.9min\n",
      "[CV] reg_alpha=0.01 ..................................................\n"
     ]
    },
    {
     "name": "stderr",
     "output_type": "stream",
     "text": [
      "[Parallel(n_jobs=1)]: Done   2 out of   2 | elapsed:  7.9min remaining:    0.0s\n"
     ]
    },
    {
     "name": "stdout",
     "output_type": "stream",
     "text": [
      "[CV] ................... reg_alpha=0.01, score=0.872813, total= 3.8min\n",
      "[CV] reg_alpha=0.01 ..................................................\n"
     ]
    },
    {
     "name": "stderr",
     "output_type": "stream",
     "text": [
      "[Parallel(n_jobs=1)]: Done   3 out of   3 | elapsed: 11.7min remaining:    0.0s\n"
     ]
    },
    {
     "name": "stdout",
     "output_type": "stream",
     "text": [
      "[CV] ................... reg_alpha=0.01, score=0.886460, total= 4.0min\n",
      "[CV] reg_alpha=0.1 ...................................................\n",
      "[CV] .................... reg_alpha=0.1, score=0.872929, total= 4.4min\n",
      "[CV] reg_alpha=0.1 ...................................................\n",
      "[CV] .................... reg_alpha=0.1, score=0.882337, total= 4.3min\n",
      "[CV] reg_alpha=1 .....................................................\n",
      "[CV] ...................... reg_alpha=1, score=0.873236, total= 4.3min\n",
      "[CV] reg_alpha=1 .....................................................\n",
      "[CV] ...................... reg_alpha=1, score=0.883547, total= 3.9min\n",
      "[CV] reg_alpha=100 ...................................................\n",
      "[CV] .................... reg_alpha=100, score=0.870343, total= 3.9min\n",
      "[CV] reg_alpha=100 ...................................................\n",
      "[CV] .................... reg_alpha=100, score=0.885553, total= 4.2min\n"
     ]
    },
    {
     "name": "stderr",
     "output_type": "stream",
     "text": [
      "[Parallel(n_jobs=1)]: Done  10 out of  10 | elapsed: 41.0min finished\n"
     ]
    }
   ],
   "source": [
    "xboost_reg = XGBRegressor(n_estimators=30, colsample_bytree=0.9, seed=25,max_depth=16, min_child_weight=1, gamma=0.4, subsample=0.9)\n",
    "gsearch_rep_alpha = GridSearchCV(xboost_reg,param_grid ={'reg_alpha':[1e-5, 1e-2, 0.1, 1, 100]},cv=2, verbose=4)\n",
    "gsearch_rep_alpha = gsearch_rep_alpha.fit(Xtrain, ytrain)"
   ]
  },
  {
   "cell_type": "code",
   "execution_count": 70,
   "metadata": {},
   "outputs": [
    {
     "data": {
      "text/plain": [
       "{'reg_alpha': 1e-05}"
      ]
     },
     "execution_count": 70,
     "metadata": {},
     "output_type": "execute_result"
    }
   ],
   "source": [
    "gsearch_rep_alpha.best_params_"
   ]
  },
  {
   "cell_type": "code",
   "execution_count": 71,
   "metadata": {},
   "outputs": [
    {
     "name": "stdout",
     "output_type": "stream",
     "text": [
      "Fitting 2 folds for each of 9 candidates, totalling 18 fits\n",
      "[CV] n_estimators=10, learning_rate=0.1 ..............................\n",
      "[CV]  n_estimators=10, learning_rate=0.1, score=0.608121, total= 1.5min\n",
      "[CV] n_estimators=10, learning_rate=0.1 ..............................\n"
     ]
    },
    {
     "name": "stderr",
     "output_type": "stream",
     "text": [
      "[Parallel(n_jobs=1)]: Done   1 out of   1 | elapsed:  1.5min remaining:    0.0s\n"
     ]
    },
    {
     "name": "stdout",
     "output_type": "stream",
     "text": [
      "[CV]  n_estimators=10, learning_rate=0.1, score=0.631821, total= 1.4min\n",
      "[CV] n_estimators=60, learning_rate=0.1 ..............................\n"
     ]
    },
    {
     "name": "stderr",
     "output_type": "stream",
     "text": [
      "[Parallel(n_jobs=1)]: Done   2 out of   2 | elapsed:  3.0min remaining:    0.0s\n"
     ]
    },
    {
     "name": "stdout",
     "output_type": "stream",
     "text": [
      "[CV]  n_estimators=60, learning_rate=0.1, score=0.908995, total= 8.6min\n",
      "[CV] n_estimators=60, learning_rate=0.1 ..............................\n"
     ]
    },
    {
     "name": "stderr",
     "output_type": "stream",
     "text": [
      "[Parallel(n_jobs=1)]: Done   3 out of   3 | elapsed: 11.6min remaining:    0.0s\n"
     ]
    },
    {
     "name": "stdout",
     "output_type": "stream",
     "text": [
      "[CV]  n_estimators=60, learning_rate=0.1, score=0.832609, total= 8.6min\n",
      "[CV] n_estimators=100, learning_rate=0.1 .............................\n"
     ]
    },
    {
     "name": "stderr",
     "output_type": "stream",
     "text": [
      "[Parallel(n_jobs=1)]: Done   4 out of   4 | elapsed: 20.3min remaining:    0.0s\n"
     ]
    },
    {
     "name": "stdout",
     "output_type": "stream",
     "text": [
      "[CV]  n_estimators=100, learning_rate=0.1, score=0.914832, total=14.2min\n",
      "[CV] n_estimators=100, learning_rate=0.1 .............................\n",
      "[CV]  n_estimators=100, learning_rate=0.1, score=0.835763, total=15.2min\n",
      "[CV] n_estimators=10, learning_rate=0.01 .............................\n",
      "[CV]  n_estimators=10, learning_rate=0.01, score=-0.241593, total= 1.4min\n",
      "[CV] n_estimators=10, learning_rate=0.01 .............................\n",
      "[CV]  n_estimators=10, learning_rate=0.01, score=-0.259990, total= 1.4min\n",
      "[CV] n_estimators=60, learning_rate=0.01 .............................\n",
      "[CV]  n_estimators=60, learning_rate=0.01, score=0.375056, total= 8.2min\n",
      "[CV] n_estimators=60, learning_rate=0.01 .............................\n",
      "[CV]  n_estimators=60, learning_rate=0.01, score=0.354097, total= 9.2min\n",
      "[CV] n_estimators=100, learning_rate=0.01 ............................\n",
      "[CV]  n_estimators=100, learning_rate=0.01, score=0.608983, total=15.0min\n",
      "[CV] n_estimators=100, learning_rate=0.01 ............................\n",
      "[CV]  n_estimators=100, learning_rate=0.01, score=0.594731, total=14.2min\n",
      "[CV] n_estimators=10, learning_rate=0.001 ............................\n",
      "[CV]  n_estimators=10, learning_rate=0.001, score=-0.418029, total= 1.4min\n",
      "[CV] n_estimators=10, learning_rate=0.001 ............................\n",
      "[CV]  n_estimators=10, learning_rate=0.001, score=-0.469400, total= 1.4min\n",
      "[CV] n_estimators=60, learning_rate=0.001 ............................\n",
      "[CV]  n_estimators=60, learning_rate=0.001, score=-0.315551, total= 8.3min\n",
      "[CV] n_estimators=60, learning_rate=0.001 ............................\n",
      "[CV]  n_estimators=60, learning_rate=0.001, score=-0.365856, total= 8.7min\n",
      "[CV] n_estimators=100, learning_rate=0.001 ...........................\n",
      "[CV]  n_estimators=100, learning_rate=0.001, score=-0.238162, total=14.5min\n",
      "[CV] n_estimators=100, learning_rate=0.001 ...........................\n",
      "[CV]  n_estimators=100, learning_rate=0.001, score=-0.284801, total=15.5min\n"
     ]
    },
    {
     "name": "stderr",
     "output_type": "stream",
     "text": [
      "[Parallel(n_jobs=1)]: Done  18 out of  18 | elapsed: 149.4min finished\n"
     ]
    }
   ],
   "source": [
    "grid ={\n",
    "       'n_estimators':[10, 60, 100],\n",
    "       'learning_rate': [0.1, 0.01, 0.001]\n",
    "      }\n",
    "xboost_reg = XGBRegressor(reg_alpha = 1e-05, colsample_bytree=0.9, seed=25,max_depth=16, min_child_weight=1, gamma=0.4, subsample=0.9)\n",
    "gsearch_rep_alpha = GridSearchCV(xboost_reg,param_grid=grid,cv=2, verbose=5)\n",
    "gsearch_rep_alpha = gsearch_rep_alpha.fit(X_train, y_train)"
   ]
  },
  {
   "cell_type": "code",
   "execution_count": 22,
   "metadata": {
    "collapsed": true
   },
   "outputs": [],
   "source": [
    "Xtrain, Xval, ytrain, yval = train_test_split(X_train, y_train, test_size=0.2, random_state=42)"
   ]
  },
  {
   "cell_type": "code",
   "execution_count": 24,
   "metadata": {},
   "outputs": [],
   "source": [
    "xgboost = XGBRegressor(base_score=0.5, colsample_bylevel=1, colsample_bytree=0.9,\n",
    "       gamma=0.4, learning_rate=0.1, max_delta_step=0, max_depth=16,\n",
    "       min_child_weight=1, missing=None, n_estimators=100, nthread=-1,\n",
    "       objective='reg:linear', reg_alpha=1e-05, reg_lambda=1,\n",
    "       scale_pos_weight=1, seed=25, silent=True, subsample=0.9)"
   ]
  },
  {
   "cell_type": "code",
   "execution_count": 14,
   "metadata": {},
   "outputs": [
    {
     "data": {
      "text/plain": [
       "XGBRegressor(base_score=0.5, colsample_bylevel=1, colsample_bytree=0.9,\n",
       "       gamma=0.4, learning_rate=0.1, max_delta_step=0, max_depth=16,\n",
       "       min_child_weight=1, missing=None, n_estimators=100, nthread=-1,\n",
       "       objective='reg:linear', reg_alpha=1e-05, reg_lambda=1,\n",
       "       scale_pos_weight=1, seed=25, silent=True, subsample=0.9)"
      ]
     },
     "execution_count": 14,
     "metadata": {},
     "output_type": "execute_result"
    }
   ],
   "source": [
    "xgboost.fit(Xtrain,ytrain, verbose=5)"
   ]
  },
  {
   "cell_type": "code",
   "execution_count": 12,
   "metadata": {},
   "outputs": [
    {
     "data": {
      "text/plain": [
       "0.011126221779670487"
      ]
     },
     "execution_count": 12,
     "metadata": {},
     "output_type": "execute_result"
    }
   ],
   "source": [
    "xgboost.score(Xval,yval)"
   ]
  },
  {
   "cell_type": "code",
   "execution_count": 23,
   "metadata": {},
   "outputs": [
    {
     "data": {
      "text/plain": [
       "0.95853443205956534"
      ]
     },
     "execution_count": 23,
     "metadata": {},
     "output_type": "execute_result"
    }
   ],
   "source": [
    "xgboost.fit(X_train,y_train)\n",
    "xgboost.score(Xval,yval)"
   ]
  },
  {
   "cell_type": "code",
   "execution_count": 25,
   "metadata": {},
   "outputs": [
    {
     "data": {
      "text/plain": [
       "XGBRegressor(base_score=0.5, colsample_bylevel=1, colsample_bytree=0.9,\n",
       "       gamma=0.4, learning_rate=0.1, max_delta_step=0, max_depth=16,\n",
       "       min_child_weight=1, missing=None, n_estimators=100, nthread=-1,\n",
       "       objective='reg:linear', reg_alpha=1e-05, reg_lambda=1,\n",
       "       scale_pos_weight=1, seed=25, silent=True, subsample=0.9)"
      ]
     },
     "execution_count": 25,
     "metadata": {},
     "output_type": "execute_result"
    }
   ],
   "source": [
    "xgboost.fit(X_train,y_train)"
   ]
  },
  {
   "cell_type": "code",
   "execution_count": 26,
   "metadata": {
    "collapsed": true
   },
   "outputs": [],
   "source": [
    "y_pred_xg = xgboost.predict(x_test)"
   ]
  },
  {
   "cell_type": "code",
   "execution_count": 27,
   "metadata": {},
   "outputs": [
    {
     "data": {
      "text/plain": [
       "array([  302.8024292 ,  1665.38562012,  1850.11914062, ...,  1790.94262695,\n",
       "         261.48266602,   454.54464722], dtype=float32)"
      ]
     },
     "execution_count": 27,
     "metadata": {},
     "output_type": "execute_result"
    }
   ],
   "source": [
    "y_pred_xg"
   ]
  },
  {
   "cell_type": "code",
   "execution_count": 31,
   "metadata": {},
   "outputs": [],
   "source": [
    "df = pd.DataFrame({\"id\": list(test.index.values), 'duration':y_pred_xg})\n",
    "df = df.set_index('id')\n",
    "df.to_csv(\"~/sampleSubmission.csv\")"
   ]
  }
 ],
 "metadata": {
  "kernelspec": {
   "display_name": "Python 2",
   "language": "python",
   "name": "python2"
  },
  "language_info": {
   "codemirror_mode": {
    "name": "ipython",
    "version": 2
   },
   "file_extension": ".py",
   "mimetype": "text/x-python",
   "name": "python",
   "nbconvert_exporter": "python",
   "pygments_lexer": "ipython2",
   "version": "2.7.12"
  }
 },
 "nbformat": 4,
 "nbformat_minor": 2
}
